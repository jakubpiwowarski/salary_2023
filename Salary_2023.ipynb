{
  "nbformat": 4,
  "nbformat_minor": 0,
  "metadata": {
    "colab": {
      "provenance": [],
      "authorship_tag": "ABX9TyMUPox891HIryyFHNh/4Vl7",
      "include_colab_link": true
    },
    "kernelspec": {
      "name": "python3",
      "display_name": "Python 3"
    },
    "language_info": {
      "name": "python"
    }
  },
  "cells": [
    {
      "cell_type": "markdown",
      "metadata": {
        "id": "view-in-github",
        "colab_type": "text"
      },
      "source": [
        "<a href=\"https://colab.research.google.com/github/jakubpiwowarski/salary_2023/blob/main/Salary_2023.ipynb\" target=\"_parent\"><img src=\"https://colab.research.google.com/assets/colab-badge.svg\" alt=\"Open In Colab\"/></a>"
      ]
    },
    {
      "cell_type": "code",
      "execution_count": 72,
      "metadata": {
        "id": "j8rWywYFbZRo"
      },
      "outputs": [],
      "source": [
        "import pandas as pd\n",
        "import numpy as np\n",
        "import matplotlib.pyplot as plt\n",
        "import seaborn as sns\n",
        "import plotly.express as px\n",
        "from sklearn.preprocessing import OneHotEncoder\n",
        "from sklearn.model_selection import train_test_split\n",
        "from sklearn.preprocessing import StandardScaler\n",
        "from sklearn.preprocessing import MinMaxScaler\n",
        "from tensorflow import keras\n",
        "from sklearn.ensemble import RandomForestRegressor\n",
        "from sklearn.metrics import mean_squared_error\n",
        "from sklearn.metrics import r2_score \n",
        "from math import sqrt\n",
        "from tensorflow.keras import models\n",
        "from tensorflow.keras import layers\n",
        "from sklearn.model_selection import GridSearchCV"
      ]
    },
    {
      "cell_type": "code",
      "source": [],
      "metadata": {
        "id": "hQAaLwU0RHU5"
      },
      "execution_count": null,
      "outputs": []
    },
    {
      "cell_type": "code",
      "source": [
        "df = pd.read_csv('ds_salaries.csv')"
      ],
      "metadata": {
        "id": "HrFCnz0wbjUx"
      },
      "execution_count": null,
      "outputs": []
    },
    {
      "cell_type": "code",
      "source": [
        "df.head()"
      ],
      "metadata": {
        "colab": {
          "base_uri": "https://localhost:8080/",
          "height": 374
        },
        "id": "hbxHBaMubox8",
        "outputId": "74218672-cf5c-422c-9433-41af11e2422a"
      },
      "execution_count": null,
      "outputs": [
        {
          "output_type": "execute_result",
          "data": {
            "text/plain": [
              "   work_year experience_level employment_type                 job_title  \\\n",
              "0       2023               SE              FT  Principal Data Scientist   \n",
              "1       2023               MI              CT               ML Engineer   \n",
              "2       2023               MI              CT               ML Engineer   \n",
              "3       2023               SE              FT            Data Scientist   \n",
              "4       2023               SE              FT            Data Scientist   \n",
              "\n",
              "   salary salary_currency  salary_in_usd employee_residence  remote_ratio  \\\n",
              "0   80000             EUR          85847                 ES           100   \n",
              "1   30000             USD          30000                 US           100   \n",
              "2   25500             USD          25500                 US           100   \n",
              "3  175000             USD         175000                 CA           100   \n",
              "4  120000             USD         120000                 CA           100   \n",
              "\n",
              "  company_location company_size  \n",
              "0               ES            L  \n",
              "1               US            S  \n",
              "2               US            S  \n",
              "3               CA            M  \n",
              "4               CA            M  "
            ],
            "text/html": [
              "\n",
              "  <div id=\"df-05caaedb-a090-4dec-996b-0139c753a9c5\">\n",
              "    <div class=\"colab-df-container\">\n",
              "      <div>\n",
              "<style scoped>\n",
              "    .dataframe tbody tr th:only-of-type {\n",
              "        vertical-align: middle;\n",
              "    }\n",
              "\n",
              "    .dataframe tbody tr th {\n",
              "        vertical-align: top;\n",
              "    }\n",
              "\n",
              "    .dataframe thead th {\n",
              "        text-align: right;\n",
              "    }\n",
              "</style>\n",
              "<table border=\"1\" class=\"dataframe\">\n",
              "  <thead>\n",
              "    <tr style=\"text-align: right;\">\n",
              "      <th></th>\n",
              "      <th>work_year</th>\n",
              "      <th>experience_level</th>\n",
              "      <th>employment_type</th>\n",
              "      <th>job_title</th>\n",
              "      <th>salary</th>\n",
              "      <th>salary_currency</th>\n",
              "      <th>salary_in_usd</th>\n",
              "      <th>employee_residence</th>\n",
              "      <th>remote_ratio</th>\n",
              "      <th>company_location</th>\n",
              "      <th>company_size</th>\n",
              "    </tr>\n",
              "  </thead>\n",
              "  <tbody>\n",
              "    <tr>\n",
              "      <th>0</th>\n",
              "      <td>2023</td>\n",
              "      <td>SE</td>\n",
              "      <td>FT</td>\n",
              "      <td>Principal Data Scientist</td>\n",
              "      <td>80000</td>\n",
              "      <td>EUR</td>\n",
              "      <td>85847</td>\n",
              "      <td>ES</td>\n",
              "      <td>100</td>\n",
              "      <td>ES</td>\n",
              "      <td>L</td>\n",
              "    </tr>\n",
              "    <tr>\n",
              "      <th>1</th>\n",
              "      <td>2023</td>\n",
              "      <td>MI</td>\n",
              "      <td>CT</td>\n",
              "      <td>ML Engineer</td>\n",
              "      <td>30000</td>\n",
              "      <td>USD</td>\n",
              "      <td>30000</td>\n",
              "      <td>US</td>\n",
              "      <td>100</td>\n",
              "      <td>US</td>\n",
              "      <td>S</td>\n",
              "    </tr>\n",
              "    <tr>\n",
              "      <th>2</th>\n",
              "      <td>2023</td>\n",
              "      <td>MI</td>\n",
              "      <td>CT</td>\n",
              "      <td>ML Engineer</td>\n",
              "      <td>25500</td>\n",
              "      <td>USD</td>\n",
              "      <td>25500</td>\n",
              "      <td>US</td>\n",
              "      <td>100</td>\n",
              "      <td>US</td>\n",
              "      <td>S</td>\n",
              "    </tr>\n",
              "    <tr>\n",
              "      <th>3</th>\n",
              "      <td>2023</td>\n",
              "      <td>SE</td>\n",
              "      <td>FT</td>\n",
              "      <td>Data Scientist</td>\n",
              "      <td>175000</td>\n",
              "      <td>USD</td>\n",
              "      <td>175000</td>\n",
              "      <td>CA</td>\n",
              "      <td>100</td>\n",
              "      <td>CA</td>\n",
              "      <td>M</td>\n",
              "    </tr>\n",
              "    <tr>\n",
              "      <th>4</th>\n",
              "      <td>2023</td>\n",
              "      <td>SE</td>\n",
              "      <td>FT</td>\n",
              "      <td>Data Scientist</td>\n",
              "      <td>120000</td>\n",
              "      <td>USD</td>\n",
              "      <td>120000</td>\n",
              "      <td>CA</td>\n",
              "      <td>100</td>\n",
              "      <td>CA</td>\n",
              "      <td>M</td>\n",
              "    </tr>\n",
              "  </tbody>\n",
              "</table>\n",
              "</div>\n",
              "      <button class=\"colab-df-convert\" onclick=\"convertToInteractive('df-05caaedb-a090-4dec-996b-0139c753a9c5')\"\n",
              "              title=\"Convert this dataframe to an interactive table.\"\n",
              "              style=\"display:none;\">\n",
              "        \n",
              "  <svg xmlns=\"http://www.w3.org/2000/svg\" height=\"24px\"viewBox=\"0 0 24 24\"\n",
              "       width=\"24px\">\n",
              "    <path d=\"M0 0h24v24H0V0z\" fill=\"none\"/>\n",
              "    <path d=\"M18.56 5.44l.94 2.06.94-2.06 2.06-.94-2.06-.94-.94-2.06-.94 2.06-2.06.94zm-11 1L8.5 8.5l.94-2.06 2.06-.94-2.06-.94L8.5 2.5l-.94 2.06-2.06.94zm10 10l.94 2.06.94-2.06 2.06-.94-2.06-.94-.94-2.06-.94 2.06-2.06.94z\"/><path d=\"M17.41 7.96l-1.37-1.37c-.4-.4-.92-.59-1.43-.59-.52 0-1.04.2-1.43.59L10.3 9.45l-7.72 7.72c-.78.78-.78 2.05 0 2.83L4 21.41c.39.39.9.59 1.41.59.51 0 1.02-.2 1.41-.59l7.78-7.78 2.81-2.81c.8-.78.8-2.07 0-2.86zM5.41 20L4 18.59l7.72-7.72 1.47 1.35L5.41 20z\"/>\n",
              "  </svg>\n",
              "      </button>\n",
              "      \n",
              "  <style>\n",
              "    .colab-df-container {\n",
              "      display:flex;\n",
              "      flex-wrap:wrap;\n",
              "      gap: 12px;\n",
              "    }\n",
              "\n",
              "    .colab-df-convert {\n",
              "      background-color: #E8F0FE;\n",
              "      border: none;\n",
              "      border-radius: 50%;\n",
              "      cursor: pointer;\n",
              "      display: none;\n",
              "      fill: #1967D2;\n",
              "      height: 32px;\n",
              "      padding: 0 0 0 0;\n",
              "      width: 32px;\n",
              "    }\n",
              "\n",
              "    .colab-df-convert:hover {\n",
              "      background-color: #E2EBFA;\n",
              "      box-shadow: 0px 1px 2px rgba(60, 64, 67, 0.3), 0px 1px 3px 1px rgba(60, 64, 67, 0.15);\n",
              "      fill: #174EA6;\n",
              "    }\n",
              "\n",
              "    [theme=dark] .colab-df-convert {\n",
              "      background-color: #3B4455;\n",
              "      fill: #D2E3FC;\n",
              "    }\n",
              "\n",
              "    [theme=dark] .colab-df-convert:hover {\n",
              "      background-color: #434B5C;\n",
              "      box-shadow: 0px 1px 3px 1px rgba(0, 0, 0, 0.15);\n",
              "      filter: drop-shadow(0px 1px 2px rgba(0, 0, 0, 0.3));\n",
              "      fill: #FFFFFF;\n",
              "    }\n",
              "  </style>\n",
              "\n",
              "      <script>\n",
              "        const buttonEl =\n",
              "          document.querySelector('#df-05caaedb-a090-4dec-996b-0139c753a9c5 button.colab-df-convert');\n",
              "        buttonEl.style.display =\n",
              "          google.colab.kernel.accessAllowed ? 'block' : 'none';\n",
              "\n",
              "        async function convertToInteractive(key) {\n",
              "          const element = document.querySelector('#df-05caaedb-a090-4dec-996b-0139c753a9c5');\n",
              "          const dataTable =\n",
              "            await google.colab.kernel.invokeFunction('convertToInteractive',\n",
              "                                                     [key], {});\n",
              "          if (!dataTable) return;\n",
              "\n",
              "          const docLinkHtml = 'Like what you see? Visit the ' +\n",
              "            '<a target=\"_blank\" href=https://colab.research.google.com/notebooks/data_table.ipynb>data table notebook</a>'\n",
              "            + ' to learn more about interactive tables.';\n",
              "          element.innerHTML = '';\n",
              "          dataTable['output_type'] = 'display_data';\n",
              "          await google.colab.output.renderOutput(dataTable, element);\n",
              "          const docLink = document.createElement('div');\n",
              "          docLink.innerHTML = docLinkHtml;\n",
              "          element.appendChild(docLink);\n",
              "        }\n",
              "      </script>\n",
              "    </div>\n",
              "  </div>\n",
              "  "
            ]
          },
          "metadata": {},
          "execution_count": 4
        }
      ]
    },
    {
      "cell_type": "code",
      "source": [
        "df.shape"
      ],
      "metadata": {
        "colab": {
          "base_uri": "https://localhost:8080/"
        },
        "id": "uhKDZbuJb8Oc",
        "outputId": "f665affc-3b78-4614-de9b-dfc76144ff01"
      },
      "execution_count": null,
      "outputs": [
        {
          "output_type": "execute_result",
          "data": {
            "text/plain": [
              "(3755, 11)"
            ]
          },
          "metadata": {},
          "execution_count": 5
        }
      ]
    },
    {
      "cell_type": "code",
      "source": [
        "df.info()"
      ],
      "metadata": {
        "colab": {
          "base_uri": "https://localhost:8080/"
        },
        "id": "lIL-w1wncAlA",
        "outputId": "c68329aa-91e2-4641-9250-9b256a22864f"
      },
      "execution_count": null,
      "outputs": [
        {
          "output_type": "stream",
          "name": "stdout",
          "text": [
            "<class 'pandas.core.frame.DataFrame'>\n",
            "RangeIndex: 3755 entries, 0 to 3754\n",
            "Data columns (total 11 columns):\n",
            " #   Column              Non-Null Count  Dtype \n",
            "---  ------              --------------  ----- \n",
            " 0   work_year           3755 non-null   int64 \n",
            " 1   experience_level    3755 non-null   object\n",
            " 2   employment_type     3755 non-null   object\n",
            " 3   job_title           3755 non-null   object\n",
            " 4   salary              3755 non-null   int64 \n",
            " 5   salary_currency     3755 non-null   object\n",
            " 6   salary_in_usd       3755 non-null   int64 \n",
            " 7   employee_residence  3755 non-null   object\n",
            " 8   remote_ratio        3755 non-null   int64 \n",
            " 9   company_location    3755 non-null   object\n",
            " 10  company_size        3755 non-null   object\n",
            "dtypes: int64(4), object(7)\n",
            "memory usage: 322.8+ KB\n"
          ]
        }
      ]
    },
    {
      "cell_type": "code",
      "source": [
        "df['remote_ratio'] = df['remote_ratio'].astype(str)\n",
        "df['remote_ratio'] = df['remote_ratio'].replace({\n",
        "    '0': 'Office',\n",
        "    '50': 'Hybrid',\n",
        "    '100' : 'Remote',\n",
        "})"
      ],
      "metadata": {
        "id": "ylddc0UXcDIw"
      },
      "execution_count": null,
      "outputs": []
    },
    {
      "cell_type": "code",
      "source": [
        "def assign_broader_category(job_title):\n",
        "    data_engineering = [\"Data Engineer\", \"Data Analyst\", \"Analytics Engineer\", \"BI Data Analyst\", \"Business Data Analyst\", \"BI Developer\", \"BI Analyst\", \"Business Intelligence Engineer\", \"BI Data Engineer\", \"Power BI Developer\"]\n",
        "    data_scientist = [\"Data Scientist\", \"Applied Scientist\", \"Research Scientist\", \"3D Computer Vision Researcher\", \"Deep Learning Researcher\", \"AI/Computer Vision Engineer\"]\n",
        "    machine_learning = [\"Machine Learning Engineer\", \"ML Engineer\", \"Lead Machine Learning Engineer\", \"Principal Machine Learning Engineer\"]\n",
        "    data_architecture = [\"Data Architect\", \"Big Data Architect\", \"Cloud Data Architect\", \"Principal Data Architect\"]\n",
        "    management = [\"Data Science Manager\", \"Director of Data Science\", \"Head of Data Science\", \"Data Scientist Lead\", \"Head of Machine Learning\", \"Manager Data Management\", \"Data Analytics Manager\"]\n",
        "    \n",
        "    if job_title in data_engineering:\n",
        "        return \"Data Engineering\"\n",
        "    elif job_title in data_scientist:\n",
        "        return \"Data Science\"\n",
        "    elif job_title in machine_learning:\n",
        "        return \"Machine Learning\"\n",
        "    elif job_title in data_architecture:\n",
        "        return \"Data Architecture\"\n",
        "    elif job_title in management:\n",
        "        return \"Management\"\n",
        "    else:\n",
        "        return \"Other\"\n",
        "\n",
        "\n",
        "df['job_category'] = df['job_title'].apply(assign_broader_category)"
      ],
      "metadata": {
        "id": "3NBTgmbucwDq"
      },
      "execution_count": null,
      "outputs": []
    },
    {
      "cell_type": "code",
      "source": [
        "df.head()"
      ],
      "metadata": {
        "colab": {
          "base_uri": "https://localhost:8080/",
          "height": 374
        },
        "id": "Yr4A-King7lq",
        "outputId": "d8462a89-5560-4ec0-eea6-d3136cc58e85"
      },
      "execution_count": null,
      "outputs": [
        {
          "output_type": "execute_result",
          "data": {
            "text/plain": [
              "   work_year experience_level employment_type                 job_title  \\\n",
              "0       2023               SE              FT  Principal Data Scientist   \n",
              "1       2023               MI              CT               ML Engineer   \n",
              "2       2023               MI              CT               ML Engineer   \n",
              "3       2023               SE              FT            Data Scientist   \n",
              "4       2023               SE              FT            Data Scientist   \n",
              "\n",
              "   salary salary_currency  salary_in_usd employee_residence remote_ratio  \\\n",
              "0   80000             EUR          85847                 ES       Remote   \n",
              "1   30000             USD          30000                 US       Remote   \n",
              "2   25500             USD          25500                 US       Remote   \n",
              "3  175000             USD         175000                 CA       Remote   \n",
              "4  120000             USD         120000                 CA       Remote   \n",
              "\n",
              "  company_location company_size      job_category  \n",
              "0               ES            L             Other  \n",
              "1               US            S  Machine Learning  \n",
              "2               US            S  Machine Learning  \n",
              "3               CA            M      Data Science  \n",
              "4               CA            M      Data Science  "
            ],
            "text/html": [
              "\n",
              "  <div id=\"df-aae8d415-c3ce-4621-8690-9c9093c71b5b\">\n",
              "    <div class=\"colab-df-container\">\n",
              "      <div>\n",
              "<style scoped>\n",
              "    .dataframe tbody tr th:only-of-type {\n",
              "        vertical-align: middle;\n",
              "    }\n",
              "\n",
              "    .dataframe tbody tr th {\n",
              "        vertical-align: top;\n",
              "    }\n",
              "\n",
              "    .dataframe thead th {\n",
              "        text-align: right;\n",
              "    }\n",
              "</style>\n",
              "<table border=\"1\" class=\"dataframe\">\n",
              "  <thead>\n",
              "    <tr style=\"text-align: right;\">\n",
              "      <th></th>\n",
              "      <th>work_year</th>\n",
              "      <th>experience_level</th>\n",
              "      <th>employment_type</th>\n",
              "      <th>job_title</th>\n",
              "      <th>salary</th>\n",
              "      <th>salary_currency</th>\n",
              "      <th>salary_in_usd</th>\n",
              "      <th>employee_residence</th>\n",
              "      <th>remote_ratio</th>\n",
              "      <th>company_location</th>\n",
              "      <th>company_size</th>\n",
              "      <th>job_category</th>\n",
              "    </tr>\n",
              "  </thead>\n",
              "  <tbody>\n",
              "    <tr>\n",
              "      <th>0</th>\n",
              "      <td>2023</td>\n",
              "      <td>SE</td>\n",
              "      <td>FT</td>\n",
              "      <td>Principal Data Scientist</td>\n",
              "      <td>80000</td>\n",
              "      <td>EUR</td>\n",
              "      <td>85847</td>\n",
              "      <td>ES</td>\n",
              "      <td>Remote</td>\n",
              "      <td>ES</td>\n",
              "      <td>L</td>\n",
              "      <td>Other</td>\n",
              "    </tr>\n",
              "    <tr>\n",
              "      <th>1</th>\n",
              "      <td>2023</td>\n",
              "      <td>MI</td>\n",
              "      <td>CT</td>\n",
              "      <td>ML Engineer</td>\n",
              "      <td>30000</td>\n",
              "      <td>USD</td>\n",
              "      <td>30000</td>\n",
              "      <td>US</td>\n",
              "      <td>Remote</td>\n",
              "      <td>US</td>\n",
              "      <td>S</td>\n",
              "      <td>Machine Learning</td>\n",
              "    </tr>\n",
              "    <tr>\n",
              "      <th>2</th>\n",
              "      <td>2023</td>\n",
              "      <td>MI</td>\n",
              "      <td>CT</td>\n",
              "      <td>ML Engineer</td>\n",
              "      <td>25500</td>\n",
              "      <td>USD</td>\n",
              "      <td>25500</td>\n",
              "      <td>US</td>\n",
              "      <td>Remote</td>\n",
              "      <td>US</td>\n",
              "      <td>S</td>\n",
              "      <td>Machine Learning</td>\n",
              "    </tr>\n",
              "    <tr>\n",
              "      <th>3</th>\n",
              "      <td>2023</td>\n",
              "      <td>SE</td>\n",
              "      <td>FT</td>\n",
              "      <td>Data Scientist</td>\n",
              "      <td>175000</td>\n",
              "      <td>USD</td>\n",
              "      <td>175000</td>\n",
              "      <td>CA</td>\n",
              "      <td>Remote</td>\n",
              "      <td>CA</td>\n",
              "      <td>M</td>\n",
              "      <td>Data Science</td>\n",
              "    </tr>\n",
              "    <tr>\n",
              "      <th>4</th>\n",
              "      <td>2023</td>\n",
              "      <td>SE</td>\n",
              "      <td>FT</td>\n",
              "      <td>Data Scientist</td>\n",
              "      <td>120000</td>\n",
              "      <td>USD</td>\n",
              "      <td>120000</td>\n",
              "      <td>CA</td>\n",
              "      <td>Remote</td>\n",
              "      <td>CA</td>\n",
              "      <td>M</td>\n",
              "      <td>Data Science</td>\n",
              "    </tr>\n",
              "  </tbody>\n",
              "</table>\n",
              "</div>\n",
              "      <button class=\"colab-df-convert\" onclick=\"convertToInteractive('df-aae8d415-c3ce-4621-8690-9c9093c71b5b')\"\n",
              "              title=\"Convert this dataframe to an interactive table.\"\n",
              "              style=\"display:none;\">\n",
              "        \n",
              "  <svg xmlns=\"http://www.w3.org/2000/svg\" height=\"24px\"viewBox=\"0 0 24 24\"\n",
              "       width=\"24px\">\n",
              "    <path d=\"M0 0h24v24H0V0z\" fill=\"none\"/>\n",
              "    <path d=\"M18.56 5.44l.94 2.06.94-2.06 2.06-.94-2.06-.94-.94-2.06-.94 2.06-2.06.94zm-11 1L8.5 8.5l.94-2.06 2.06-.94-2.06-.94L8.5 2.5l-.94 2.06-2.06.94zm10 10l.94 2.06.94-2.06 2.06-.94-2.06-.94-.94-2.06-.94 2.06-2.06.94z\"/><path d=\"M17.41 7.96l-1.37-1.37c-.4-.4-.92-.59-1.43-.59-.52 0-1.04.2-1.43.59L10.3 9.45l-7.72 7.72c-.78.78-.78 2.05 0 2.83L4 21.41c.39.39.9.59 1.41.59.51 0 1.02-.2 1.41-.59l7.78-7.78 2.81-2.81c.8-.78.8-2.07 0-2.86zM5.41 20L4 18.59l7.72-7.72 1.47 1.35L5.41 20z\"/>\n",
              "  </svg>\n",
              "      </button>\n",
              "      \n",
              "  <style>\n",
              "    .colab-df-container {\n",
              "      display:flex;\n",
              "      flex-wrap:wrap;\n",
              "      gap: 12px;\n",
              "    }\n",
              "\n",
              "    .colab-df-convert {\n",
              "      background-color: #E8F0FE;\n",
              "      border: none;\n",
              "      border-radius: 50%;\n",
              "      cursor: pointer;\n",
              "      display: none;\n",
              "      fill: #1967D2;\n",
              "      height: 32px;\n",
              "      padding: 0 0 0 0;\n",
              "      width: 32px;\n",
              "    }\n",
              "\n",
              "    .colab-df-convert:hover {\n",
              "      background-color: #E2EBFA;\n",
              "      box-shadow: 0px 1px 2px rgba(60, 64, 67, 0.3), 0px 1px 3px 1px rgba(60, 64, 67, 0.15);\n",
              "      fill: #174EA6;\n",
              "    }\n",
              "\n",
              "    [theme=dark] .colab-df-convert {\n",
              "      background-color: #3B4455;\n",
              "      fill: #D2E3FC;\n",
              "    }\n",
              "\n",
              "    [theme=dark] .colab-df-convert:hover {\n",
              "      background-color: #434B5C;\n",
              "      box-shadow: 0px 1px 3px 1px rgba(0, 0, 0, 0.15);\n",
              "      filter: drop-shadow(0px 1px 2px rgba(0, 0, 0, 0.3));\n",
              "      fill: #FFFFFF;\n",
              "    }\n",
              "  </style>\n",
              "\n",
              "      <script>\n",
              "        const buttonEl =\n",
              "          document.querySelector('#df-aae8d415-c3ce-4621-8690-9c9093c71b5b button.colab-df-convert');\n",
              "        buttonEl.style.display =\n",
              "          google.colab.kernel.accessAllowed ? 'block' : 'none';\n",
              "\n",
              "        async function convertToInteractive(key) {\n",
              "          const element = document.querySelector('#df-aae8d415-c3ce-4621-8690-9c9093c71b5b');\n",
              "          const dataTable =\n",
              "            await google.colab.kernel.invokeFunction('convertToInteractive',\n",
              "                                                     [key], {});\n",
              "          if (!dataTable) return;\n",
              "\n",
              "          const docLinkHtml = 'Like what you see? Visit the ' +\n",
              "            '<a target=\"_blank\" href=https://colab.research.google.com/notebooks/data_table.ipynb>data table notebook</a>'\n",
              "            + ' to learn more about interactive tables.';\n",
              "          element.innerHTML = '';\n",
              "          dataTable['output_type'] = 'display_data';\n",
              "          await google.colab.output.renderOutput(dataTable, element);\n",
              "          const docLink = document.createElement('div');\n",
              "          docLink.innerHTML = docLinkHtml;\n",
              "          element.appendChild(docLink);\n",
              "        }\n",
              "      </script>\n",
              "    </div>\n",
              "  </div>\n",
              "  "
            ]
          },
          "metadata": {},
          "execution_count": 9
        }
      ]
    },
    {
      "cell_type": "code",
      "source": [
        "df.drop(['job_category'], axis=1, inplace=True)"
      ],
      "metadata": {
        "id": "rNVPfB3NlAMi"
      },
      "execution_count": null,
      "outputs": []
    },
    {
      "cell_type": "code",
      "source": [
        "df.drop(['salary'], axis=1, inplace=True)"
      ],
      "metadata": {
        "id": "Yk-xH6kNmmWJ"
      },
      "execution_count": null,
      "outputs": []
    },
    {
      "cell_type": "code",
      "source": [
        "df.drop(['salary_currency'], axis=1, inplace=True)"
      ],
      "metadata": {
        "id": "ahpo6paYmrs8"
      },
      "execution_count": null,
      "outputs": []
    },
    {
      "cell_type": "code",
      "source": [
        "df.head()"
      ],
      "metadata": {
        "colab": {
          "base_uri": "https://localhost:8080/",
          "height": 374
        },
        "id": "4fTibiTZmwar",
        "outputId": "d223eaf4-d6f5-4d74-c95c-592e0303487b"
      },
      "execution_count": null,
      "outputs": [
        {
          "output_type": "execute_result",
          "data": {
            "text/plain": [
              "   work_year experience_level employment_type                 job_title  \\\n",
              "0       2023               SE              FT  Principal Data Scientist   \n",
              "1       2023               MI              CT               ML Engineer   \n",
              "2       2023               MI              CT               ML Engineer   \n",
              "3       2023               SE              FT            Data Scientist   \n",
              "4       2023               SE              FT            Data Scientist   \n",
              "\n",
              "   salary_in_usd employee_residence remote_ratio company_location company_size  \n",
              "0          85847                 ES       Remote               ES            L  \n",
              "1          30000                 US       Remote               US            S  \n",
              "2          25500                 US       Remote               US            S  \n",
              "3         175000                 CA       Remote               CA            M  \n",
              "4         120000                 CA       Remote               CA            M  "
            ],
            "text/html": [
              "\n",
              "  <div id=\"df-cd53e770-45ac-4571-9b3f-29197d23a3f6\">\n",
              "    <div class=\"colab-df-container\">\n",
              "      <div>\n",
              "<style scoped>\n",
              "    .dataframe tbody tr th:only-of-type {\n",
              "        vertical-align: middle;\n",
              "    }\n",
              "\n",
              "    .dataframe tbody tr th {\n",
              "        vertical-align: top;\n",
              "    }\n",
              "\n",
              "    .dataframe thead th {\n",
              "        text-align: right;\n",
              "    }\n",
              "</style>\n",
              "<table border=\"1\" class=\"dataframe\">\n",
              "  <thead>\n",
              "    <tr style=\"text-align: right;\">\n",
              "      <th></th>\n",
              "      <th>work_year</th>\n",
              "      <th>experience_level</th>\n",
              "      <th>employment_type</th>\n",
              "      <th>job_title</th>\n",
              "      <th>salary_in_usd</th>\n",
              "      <th>employee_residence</th>\n",
              "      <th>remote_ratio</th>\n",
              "      <th>company_location</th>\n",
              "      <th>company_size</th>\n",
              "    </tr>\n",
              "  </thead>\n",
              "  <tbody>\n",
              "    <tr>\n",
              "      <th>0</th>\n",
              "      <td>2023</td>\n",
              "      <td>SE</td>\n",
              "      <td>FT</td>\n",
              "      <td>Principal Data Scientist</td>\n",
              "      <td>85847</td>\n",
              "      <td>ES</td>\n",
              "      <td>Remote</td>\n",
              "      <td>ES</td>\n",
              "      <td>L</td>\n",
              "    </tr>\n",
              "    <tr>\n",
              "      <th>1</th>\n",
              "      <td>2023</td>\n",
              "      <td>MI</td>\n",
              "      <td>CT</td>\n",
              "      <td>ML Engineer</td>\n",
              "      <td>30000</td>\n",
              "      <td>US</td>\n",
              "      <td>Remote</td>\n",
              "      <td>US</td>\n",
              "      <td>S</td>\n",
              "    </tr>\n",
              "    <tr>\n",
              "      <th>2</th>\n",
              "      <td>2023</td>\n",
              "      <td>MI</td>\n",
              "      <td>CT</td>\n",
              "      <td>ML Engineer</td>\n",
              "      <td>25500</td>\n",
              "      <td>US</td>\n",
              "      <td>Remote</td>\n",
              "      <td>US</td>\n",
              "      <td>S</td>\n",
              "    </tr>\n",
              "    <tr>\n",
              "      <th>3</th>\n",
              "      <td>2023</td>\n",
              "      <td>SE</td>\n",
              "      <td>FT</td>\n",
              "      <td>Data Scientist</td>\n",
              "      <td>175000</td>\n",
              "      <td>CA</td>\n",
              "      <td>Remote</td>\n",
              "      <td>CA</td>\n",
              "      <td>M</td>\n",
              "    </tr>\n",
              "    <tr>\n",
              "      <th>4</th>\n",
              "      <td>2023</td>\n",
              "      <td>SE</td>\n",
              "      <td>FT</td>\n",
              "      <td>Data Scientist</td>\n",
              "      <td>120000</td>\n",
              "      <td>CA</td>\n",
              "      <td>Remote</td>\n",
              "      <td>CA</td>\n",
              "      <td>M</td>\n",
              "    </tr>\n",
              "  </tbody>\n",
              "</table>\n",
              "</div>\n",
              "      <button class=\"colab-df-convert\" onclick=\"convertToInteractive('df-cd53e770-45ac-4571-9b3f-29197d23a3f6')\"\n",
              "              title=\"Convert this dataframe to an interactive table.\"\n",
              "              style=\"display:none;\">\n",
              "        \n",
              "  <svg xmlns=\"http://www.w3.org/2000/svg\" height=\"24px\"viewBox=\"0 0 24 24\"\n",
              "       width=\"24px\">\n",
              "    <path d=\"M0 0h24v24H0V0z\" fill=\"none\"/>\n",
              "    <path d=\"M18.56 5.44l.94 2.06.94-2.06 2.06-.94-2.06-.94-.94-2.06-.94 2.06-2.06.94zm-11 1L8.5 8.5l.94-2.06 2.06-.94-2.06-.94L8.5 2.5l-.94 2.06-2.06.94zm10 10l.94 2.06.94-2.06 2.06-.94-2.06-.94-.94-2.06-.94 2.06-2.06.94z\"/><path d=\"M17.41 7.96l-1.37-1.37c-.4-.4-.92-.59-1.43-.59-.52 0-1.04.2-1.43.59L10.3 9.45l-7.72 7.72c-.78.78-.78 2.05 0 2.83L4 21.41c.39.39.9.59 1.41.59.51 0 1.02-.2 1.41-.59l7.78-7.78 2.81-2.81c.8-.78.8-2.07 0-2.86zM5.41 20L4 18.59l7.72-7.72 1.47 1.35L5.41 20z\"/>\n",
              "  </svg>\n",
              "      </button>\n",
              "      \n",
              "  <style>\n",
              "    .colab-df-container {\n",
              "      display:flex;\n",
              "      flex-wrap:wrap;\n",
              "      gap: 12px;\n",
              "    }\n",
              "\n",
              "    .colab-df-convert {\n",
              "      background-color: #E8F0FE;\n",
              "      border: none;\n",
              "      border-radius: 50%;\n",
              "      cursor: pointer;\n",
              "      display: none;\n",
              "      fill: #1967D2;\n",
              "      height: 32px;\n",
              "      padding: 0 0 0 0;\n",
              "      width: 32px;\n",
              "    }\n",
              "\n",
              "    .colab-df-convert:hover {\n",
              "      background-color: #E2EBFA;\n",
              "      box-shadow: 0px 1px 2px rgba(60, 64, 67, 0.3), 0px 1px 3px 1px rgba(60, 64, 67, 0.15);\n",
              "      fill: #174EA6;\n",
              "    }\n",
              "\n",
              "    [theme=dark] .colab-df-convert {\n",
              "      background-color: #3B4455;\n",
              "      fill: #D2E3FC;\n",
              "    }\n",
              "\n",
              "    [theme=dark] .colab-df-convert:hover {\n",
              "      background-color: #434B5C;\n",
              "      box-shadow: 0px 1px 3px 1px rgba(0, 0, 0, 0.15);\n",
              "      filter: drop-shadow(0px 1px 2px rgba(0, 0, 0, 0.3));\n",
              "      fill: #FFFFFF;\n",
              "    }\n",
              "  </style>\n",
              "\n",
              "      <script>\n",
              "        const buttonEl =\n",
              "          document.querySelector('#df-cd53e770-45ac-4571-9b3f-29197d23a3f6 button.colab-df-convert');\n",
              "        buttonEl.style.display =\n",
              "          google.colab.kernel.accessAllowed ? 'block' : 'none';\n",
              "\n",
              "        async function convertToInteractive(key) {\n",
              "          const element = document.querySelector('#df-cd53e770-45ac-4571-9b3f-29197d23a3f6');\n",
              "          const dataTable =\n",
              "            await google.colab.kernel.invokeFunction('convertToInteractive',\n",
              "                                                     [key], {});\n",
              "          if (!dataTable) return;\n",
              "\n",
              "          const docLinkHtml = 'Like what you see? Visit the ' +\n",
              "            '<a target=\"_blank\" href=https://colab.research.google.com/notebooks/data_table.ipynb>data table notebook</a>'\n",
              "            + ' to learn more about interactive tables.';\n",
              "          element.innerHTML = '';\n",
              "          dataTable['output_type'] = 'display_data';\n",
              "          await google.colab.output.renderOutput(dataTable, element);\n",
              "          const docLink = document.createElement('div');\n",
              "          docLink.innerHTML = docLinkHtml;\n",
              "          element.appendChild(docLink);\n",
              "        }\n",
              "      </script>\n",
              "    </div>\n",
              "  </div>\n",
              "  "
            ]
          },
          "metadata": {},
          "execution_count": 13
        }
      ]
    },
    {
      "cell_type": "markdown",
      "source": [
        "Graphs and analysis:"
      ],
      "metadata": {
        "id": "7z8r11GOm1XH"
      }
    },
    {
      "cell_type": "code",
      "source": [
        "sns.boxplot(x='remote_ratio', y='salary_in_usd', data=df)\n",
        "plt.show()"
      ],
      "metadata": {
        "colab": {
          "base_uri": "https://localhost:8080/",
          "height": 450
        },
        "id": "R-POvfeFmxWD",
        "outputId": "e22e1b94-0e28-4a46-9a1e-f54cc5a8ddee"
      },
      "execution_count": 25,
      "outputs": [
        {
          "output_type": "display_data",
          "data": {
            "text/plain": [
              "<Figure size 640x480 with 1 Axes>"
            ],
            "image/png": "[encoded data removed]"
          },
          "metadata": {}
        }
      ]
    },
    {
      "cell_type": "code",
      "source": [
        "fig = px.box(x=df[\"salary_in_usd\"], y=df[\"job_title\"])\n",
        "fig.update_layout(title={'text': \"Boxplot of Salary in USD for each Job Title\",\n",
        "                         'x': 0.48,  \n",
        "                         'xanchor': 'center',  \n",
        "                         'yanchor': 'top',\n",
        "                         'font': {'size': 22}},\n",
        "                  margin={'t': 100},\n",
        "                  height=1600,\n",
        "                  xaxis_title=\"Salary in USD\",\n",
        "                  yaxis_title=\"Job Title\")\n",
        "fig.show()"
      ],
      "metadata": {
        "colab": {
          "base_uri": "https://localhost:8080/",
          "height": 1000
        },
        "id": "qezGyD9LJsV0",
        "outputId": "0f1e4d8c-61bc-46a3-a555-6bc58a93ec2f"
      },
      "execution_count": 33,
      "outputs": [
        {
          "output_type": "display_data",
          "data": {
            "text/html": [
              "<html>\n",
              "<head><meta charset=\"utf-8\" /></head>\n",
              "<body>\n",
              "    <div>            <script src=\"https://cdnjs.cloudflare.com/ajax/libs/mathjax/2.7.5/MathJax.js?config=TeX-AMS-MML_SVG\"></script><script type=\"text/javascript\">if (window.MathJax && window.MathJax.Hub && window.MathJax.Hub.Config) {window.MathJax.Hub.Config({SVG: {font: \"STIX-Web\"}});}</script>                <script type=\"text/javascript\">window.PlotlyConfig = {MathJaxConfig: 'local'};</script>\n",
              "        <script src=\"https://cdn.plot.ly/plotly-2.18.2.min.js\"></script>                <div id=\"f2e00442-e137-4060-8145-43d261797c67\" class=\"plotly-graph-div\" style=\"height:1600px; width:100%;\"></div>            <script type=\"text/javascript\">                                    window.PLOTLYENV=window.PLOTLYENV || {};                                    if (document.getElementById(\"f2e00442-e137-4060-8145-43d261797c67\")) {                    Plotly.newPlot(                        \"f2e00442-e137-4060-8145-43d261797c67\",                        [{\"alignmentgroup\":\"True\",\"hovertemplate\":\"x=%{x}<br>y=%{y}<extra></extra>\",\"legendgroup\":\"\",\"marker\":{\"color\":\"#636efa\"},\"name\":\"\",\"notched\":false,\"offsetgroup\":\"\",\"orientation\":\"h\",\"showlegend\":false,\"x\":[85847,30000,25500,175000,120000,222200,136000,219000,141000,147100,90700,130000,100000,213660,130760,147100,90700,170000,150000,150000,110000,275000,174000,230000,143200,225000,156400,200000,130000,90000,72000,253200,90700,342810,184590,162500,130000,105380,64500,100000,30000,20984,204620,110680,270703,221484,212750,185000,262000,245000,275300,183500,218500,199098,203300,123600,189110,139000,258750,185000,231500,166000,172500,110500,238000,176000,237000,201450,309400,159100,115000,81500,237000,201450,280000,210000,280100,168100,193500,139000,65062,150000,69751,300000,96578,185900,129300,225000,175000,185000,140000,48289,38631,105000,70000,163196,145885,217000,185000,202800,104300,145000,65000,165000,132300,179170,94300,152500,116450,247300,133800,203000,133000,220000,56536,150000,120000,289800,214000,179820,143860,283200,188800,289800,214200,185900,129300,252000,129000,155000,140000,161800,141600,342300,176100,100000,70000,85000,65000,138784,83270,75000,70000,204500,138900,318300,212200,95000,75000,195000,160000,230000,143200,100000,70000,105000,20670,46178,42533,145000,115000,168400,105200,309400,159100,190000,150000,162500,130000,150000,120000,145000,120000,222200,136000,54685,42533,241000,155000,220000,190000,66837,54685,15000,85066,57723,85000,75000,160000,140000,300000,250000,228000,186000,190000,170000,230000,200000,180000,115000,200000,115000,53654,220000,205000,180000,130000,200000,150000,215000,170000,247500,172200,224000,176000,120000,75000,17022,68318,75020,140000,120000,128000,81500,145000,115000,185000,140000,329500,269600,100000,80000,250000,162500,200000,145000,100000,145000,115000,203500,152000,239000,122900,237000,145000,191765,134236,190000,112000,88256,85000,65000,135000,105500,293000,185000,80000,70000,220000,160000,175000,145000,200000,148500,48289,38631,240500,123700,152900,117100,173000,113000,260000,136000,175000,110000,260000,136000,130000,110000,205000,184000,149500,127075,195000,160000,219535,146115,170000,135000,175000,145000,199000,162000,222200,136000,221000,153000,187000,128000,210000,136000,175000,100000,179000,109000,245000,180000,142000,75000,198800,105200,125000,112000,210000,155000,115000,86000,165000,140000,139000,106000,40663,275000,50000,280700,150450,51753,250500,159500,145000,115000,140000,120000,130001,71907,93918,51962,175000,135000,85000,65000,257000,147000,222000,175000,203000,133200,213660,130760,221000,147000,100000,80000,185900,129300,238000,156000,304000,199000,48289,150000,130000,140000,110000,90000,75000,195895,102772,240000,183600,130000,80000,250000,150000,160000,120000,289076,202353,145000,120000,155000,106000,200000,160000,157750,104650,180000,140000,200000,145000,68000,60000,48289,38631,85000,65000,125000,90000,105000,90000,179820,143860,135000,105500,155000,125000,241000,181000,252000,154000,180000,155000,191765,134236,175000,145000,237000,145000,155000,125000,80000,70000,146000,75000,64200,56100,170000,130000,208450,170550,125000,100000,135000,120000,200000,170000,171250,113750,222200,136000,260000,136000,153600,100500,205000,184000,115000,95000,182500,121500,203100,114500,72914,54685,252000,129000,92700,61800,160000,130000,258000,190000,170000,135000,167500,106500,195000,160000,146000,75000,59888,286000,207000,100000,80000,223250,178600,353200,249300,230000,220000,297300,198200,210000,151800,200000,170000,317070,170730,128000,81500,21461,108000,60000,134000,124000,171250,113750,165000,132300,225000,175000,230000,124500,247500,172200,175000,145000,148700,125600,145000,115000,200000,150000,160000,120000,185000,120250,275300,183000,170000,125000,167500,106500,250000,200000,135000,423834,216000,184000,180000,165000,185900,129300,145000,120000,143865,115092,130000,90000,173000,132000,208049,128500,179820,143860,167500,106500,275300,183500,149600,102000,145000,100000,190000,95000,153600,106800,96578,80481,128000,85000,151000,140000,275300,183500,220000,170000,135000,105500,100000,80000,7000,42923,160000,145000,154000,143000,78990,51039,190000,120000,85066,51039,109371,72914,150000,111000,265000,235000,121093,73546,160000,130000,75000,60400,85000,75000,252000,129000,92700,61800,172309,60093,83500,52500,201036,134024,165000,140000,62000,58000,172000,115000,125000,90000,163800,126000,237000,145000,90000,90000,139500,109400,258000,190000,145000,120000,205600,105700,252000,129000,239748,159832,186300,102500,165000,132300,190000,126000,149040,113900,153600,106800,172600,107900,180180,106020,376080,213120,153600,100500,206500,121600,260000,225000,194500,115500,170000,90000,95000,70000,275000,160000,115934,81666,175000,120000,150000,120000,200000,175000,206000,130000,138000,92000,65000,48000,110000,75000,130000,87000,160000,112000,162500,130000,299500,245100,145000,100000,147100,90700,115100,73900,168400,105200,210000,160000,145000,100000,222200,136000,100000,85000,85066,57723,200000,145000,140000,95000,185000,120250,130000,205000,140000,297300,198200,141288,94192,184000,143000,70000,55000,275300,183500,75000,65000,160000,147000,149040,113900,75020,180180,106020,17022,70000,80000,18238,250000,150000,139500,109400,105000,70000,210914,116704,150000,100000,146000,75000,75000,60000,185700,165000,160000,130000,169000,110600,193000,136850,139500,109400,276000,178500,59020,48289,75116,48289,195652,101228,136956,101228,252000,129000,130000,150000,163800,126000,260000,110000,170000,130000,247500,172200,239748,159832,163800,126000,128750,106250,252000,129000,299500,245100,155000,140000,167500,106500,188500,117000,250000,138000,130000,100000,123405,140000,120000,160000,135000,104500,70000,90000,70000,153600,106800,125000,90000,185000,125000,127000,94000,210550,153300,200000,150000,161500,119500,175000,145000,175000,148750,105000,85000,215000,146300,214618,72000,60000,153400,122700,260000,175000,186300,123900,340000,150000,153400,122700,250000,175000,64385,185900,121700,153600,106800,50000,100000,247500,172200,310000,239000,125000,110000,150000,100000,149076,82365,146000,75000,139500,109400,139500,109400,149600,102000,97218,48609,252000,129000,95000,85500,185900,121700,150000,100000,145000,125000,150000,97750,201000,122000,252000,129000,120000,75000,116990,82920,185900,129300,200000,125000,201000,122000,204500,142200,155000,140000,205920,171600,121500,78000,154000,116000,190000,136000,78990,43809,180000,110000,275300,183000,170000,140000,154000,116000,160000,130000,200000,120000,175000,160000,127599,103294,153600,106800,85000,75000,225000,156400,150000,120000,163800,126000,145000,90000,204500,142200,95000,85500,167500,106500,163800,126000,155000,140000,250000,200000,260000,186000,160000,130000,200000,150000,48289,38631,150000,120000,30000,185000,125000,34320,9289,75116,106000,175000,130000,122000,93800,150000,90000,165000,112000,220000,71897,64385,204500,142200,15806,200000,175000,185900,129300,185900,121700,204500,142200,40000,29453,180180,106020,136000,104000,125000,110000,153400,122700,310000,239000,152380,121904,185900,129300,247500,172200,168400,105200,128280,106900,192000,140000,100000,107309,85847,275000,174000,139500,109400,139500,109400,170500,85000,72946,54365,160288,127467,80000,65000,124740,65488,72200,64980,153600,106800,179975,86466,120000,90000,51039,42533,149076,82365,169000,110600,175000,120000,230000,180000,153600,106800,140000,120000,205920,171600,165000,125000,265000,185000,130000,168000,38631,95000,85500,147100,90700,167580,87980,202000,135000,163800,126000,163800,126000,104000,65000,230000,148000,269000,158000,197000,106000,150000,100000,290000,210000,192000,172800,300240,200160,300240,200160,175000,140000,169000,100000,370000,245000,115447,110000,80000,55000,48000,95000,85000,137500,81500,323300,184700,30000,186000,153088,190000,160000,200000,150000,190000,183310,240000,180000,200000,150000,299500,245100,144000,66000,148500,126277,228000,120000,180000,90000,126500,78000,180000,160000,272000,170000,80000,60000,259000,146000,200000,160000,310000,239000,142000,95000,155000,139500,140000,120000,259000,146000,109371,72914,17779,19522,247500,172200,225000,156400,139500,109400,125000,90000,107309,75116,185900,129300,139500,109400,120000,75000,169000,110600,288000,140000,288000,140000,120000,90000,72914,60761,215050,156400,198000,114000,75000,60000,204500,142200,209300,182200,140000,120000,85000,48609,120000,60000,147100,90700,230000,170000,227000,108000,180000,160000,180000,160000,180000,130000,55800,51508,60000,50000,226700,133300,252000,129000,151902,9727,80000,52500,250000,162500,85000,75000,153600,106800,165000,124000,115934,81666,167580,87980,250000,63000,253750,169200,253750,169200,170000,120000,124740,65488,213580,163625,12000,375000,101943,16414,220000,170000,235000,210000,180000,115000,200000,115000,231250,138750,284310,153090,160000,75000,125000,105000,109371,85066,55000,48000,100000,225900,156400,250000,162500,318300,188800,385000,60000,110000,95000,145000,135000,180180,106020,93919,51962,241871,133832,170000,90000,210914,116704,192500,140000,149076,82365,36000,175000,148750,370000,200000,235000,185000,121523,97218,216100,140800,145828,121523,53654,110000,128000,81500,66837,63192,60761,54685,284000,236000,248100,145900,155850,102544,151410,115360,66531,59020,125686,100000,12767,250000,162500,185000,120250,26827,180000,85000,70000,135000,100000,155000,140000,204500,142200,226700,133300,225000,156400,163800,126000,163800,126000,220000,150000,145000,115000,204500,138900,162500,130000,150000,107000,175000,110000,226700,133300,252000,129000,150000,125000,252000,129000,225000,156400,23000,110000,265000,182750,130000,100000,153600,106800,137500,81500,314100,195800,205000,180000,165000,144000,160000,100000,200000,145000,150000,100000,199000,112000,105000,70000,130000,180180,106020,160000,135000,183000,134000,220000,150000,350000,262500,122000,94000,276000,184000,310000,239000,225000,156400,180000,150000,228000,152000,209450,158677,175000,145000,240000,170000,103200,61200,155000,66970,63312,237000,145000,240000,139000,174500,113000,130000,87000,160000,108000,165000,107250,300000,119000,285800,154600,60795,30000,220000,195000,168400,105200,206000,160000,200000,175000,231250,138750,153000,94000,240500,123700,160000,90000,124234,74540,109000,79000,84053,50000,275300,183500,275300,183500,160000,125600,170000,120000,225000,140000,141290,74178,150000,120000,85000,75000,220000,160000,205600,107500,120000,95000,185900,129300,160000,130000,12888,250000,175000,136000,104000,80000,52500,110000,84000,125000,110000,90000,80000,200000,135000,48000,120000,130000,75000,252000,129000,150000,100000,226700,133300,190000,165000,170000,150000,150000,130000,225000,156400,200000,80000,12877,6304,17509,257000,134000,77262,38631,205600,105700,140000,110000,299500,245100,210000,151800,53654,51508,40777,51508,40777,160000,135000,120000,95000,250000,63000,237000,145000,130000,90000,120000,100000,174500,113000,183310,183310,145000,102500,210000,185000,174500,113000,122000,94000,220000,146000,300000,130000,24740,15897,145000,128000,182000,140000,122000,94000,77262,38631,300000,200000,135000,105500,252000,129000,110000,136000,104000,168000,130000,78990,43809,120000,95000,153400,122700,185000,160000,205000,185000,204500,142200,145000,87000,50000,234100,203500,223800,172100,180000,150000,232200,167200,197000,106000,180000,145000,225000,200000,170000,114000,291500,180000,196200,150900,168400,105200,95000,80000,116000,72000,207000,167000,145000,135000,105000,70000,180000,115000,133800,96100,120000,80000,140000,100000,150000,120000,140000,115000,297300,198200,297300,198200,202000,135000,110000,84000,219000,230000,196000,140000,110000,150000,100000,160000,110000,185900,129300,126100,72000,170000,150000,175000,140000,240500,137500,187500,165000,72914,25216,210000,165750,225000,165750,109006,67141,135000,115000,275000,175000,170000,140000,175308,100706,235000,135000,310000,229000,289076,202353,69751,37558,120000,100000,226700,133300,125000,85000,130000,80000,120000,100000,54094,18314,231250,138750,199000,162000,160000,135000,100000,200000,150000,160000,120000,250000,200000,150000,120000,150000,100000,133000,272550,198200,182000,140000,200000,160000,204500,142200,120000,105000,187500,175000,204500,142200,155000,64000,235000,185000,174500,113000,143100,113000,184000,142000,140000,120000,174500,113000,180560,115440,140000,120000,248100,145900,120000,110000,291500,180000,75344,63192,161800,141600,58331,46178,166000,128000,170000,110000,160000,75000,236000,182000,14307,130000,150000,100000,261500,134500,13989,130000,90000,160000,135000,125000,175000,155000,153600,106800,150000,140000,122000,94500,170000,130000,145000,128000,145000,100000,175000,120000,145000,115000,150000,150000,100000,150000,127500,126500,51000,260000,175000,40000,40000,250000,63000,210000,160000,272550,198200,94560,52533,220000,146000,150000,100000,248400,183600,150000,150000,40000,56723,120000,95000,160000,135000,24165,216000,144000,85000,65000,149000,119000,140000,120000,150000,110000,246000,201000,190000,155000,235000,185000,190000,160000,100000,130000,115000,92350,67723,105000,70000,204500,142200,192000,164000,185900,129300,130000,75000,175000,120000,167500,106500,75000,60000,184000,142000,145000,100000,10000,31795,44365,175000,120000,175000,120000,200000,145000,92350,73880,145000,100000,192000,164000,310000,239000,120000,95000,145000,135000,100000,78000,73546,36773,160000,120000,190000,150000,35610,125000,120000,95000,150000,100000,47280,37824,115934,81666,175000,140000,120000,95000,249500,149850,122500,100000,249500,149850,55000,48000,249500,149850,58837,190000,120000,127000,104000,210000,150000,210000,150000,210000,130000,182750,161500,102640,66100,210000,150000,198800,122600,130000,80000,136000,104000,150000,100000,160000,135000,216000,144000,159000,130000,115934,81666,215000,150000,246000,201000,187000,153000,255000,185000,430967,55410,50432,39925,169000,110600,60938,140000,120000,75000,60000,10000,50000,134000,124000,166700,119000,124234,74540,100000,65000,16904,200000,12000,220000,146000,68293,36773,110000,70000,50000,120000,95000,150000,100000,47280,37824,190000,135000,128000,81500,173000,110000,192000,120000,115934,81666,120000,95000,190000,194000,129400,201000,89200,165000,125000,230000,196000,130000,90000,150000,100000,230000,150000,153600,106800,130000,100000,216000,144000,180000,120000,160000,135000,192500,140000,152500,130000,65000,55000,178750,160000,63040,52533,165000,135000,170000,125000,105000,70000,130000,95000,203500,152000,197430,134760,120000,197000,99000,220000,162000,110446,79178,70186,51716,149040,113900,95000,115000,171000,13000,100000,78000,120000,95000,110000,70000,50000,185900,129300,150000,100000,230000,154600,204500,142200,160000,75000,47280,37824,213000,152000,140000,120000,110000,70000,227200,168000,20000,64090,60938,243000,183000,175000,150000,130000,90000,165000,124000,178000,132000,300000,130000,169000,110600,116000,96000,92350,70186,105000,70000,105236,194000,129400,190000,135000,100000,70000,189750,140250,130000,100000,160000,109000,250000,150000,206000,160000,135000,120000,115573,73546,160000,135000,150000,100000,120000,95000,68293,42026,191200,130000,191200,130000,66192,50000,230000,154600,120000,95000,140000,120000,169000,110600,80000,185900,129300,135000,110000,155000,140000,205000,150000,179500,134000,180000,120000,185900,129300,175000,145000,235000,175000,27317,160000,90000,68293,36773,145000,115000,165000,135000,168400,105200,86193,49253,200000,160000,47280,37824,198800,122600,100000,105066,130000,100000,104663,73880,125000,110000,165000,124000,148000,107000,150000,100000,160000,135000,120000,95000,153600,106800,100000,65000,120000,95000,63040,36773,310000,239000,299500,245100,168000,130000,136000,104000,161000,118000,205000,184000,185900,129300,247500,172200,68293,177000,131000,205000,184000,146000,102000,169000,110600,230000,196000,135000,100000,80000,65000,135000,100000,61566,43096,175000,135000,80000,231250,138750,193750,116250,231250,138750,231250,138750,231250,138750,193750,116250,208000,127000,300000,196000,204500,142200,45555,185900,129300,47280,37824,204500,142200,205000,185000,185900,129300,247500,172200,160000,135000,150000,100000,110000,95000,185900,129300,205000,184000,17684,375000,191200,130000,225000,156400,169000,110600,204500,142200,104663,80036,185900,129300,140700,93800,350000,135000,115934,81666,12000,104697,33000,34672,201000,119000,175000,150000,154560,123648,130000,100000,170000,145000,135000,100000,247500,172200,177500,134000,185900,129300,192564,144854,130000,105000,179305,142127,315000,225000,243900,156600,206000,160000,109000,79000,160000,109000,89306,182500,128500,160000,90000,77300,45600,127000,110000,210000,136000,12608,170000,140000,247500,172200,225000,184100,130000,90000,120000,100000,85000,78000,161000,110000,136000,104000,47280,37824,205000,160000,169000,110600,61566,49253,160000,130000,245000,180000,135000,100000,220000,150000,198440,144000,240000,170000,198440,144000,150000,100000,120000,95000,57872,64000,39925,187200,116100,150000,127000,275000,166000,159699,138938,76000,166700,119000,130000,100000,103432,92350,80000,52500,236000,182000,180000,140000,225000,156400,135000,100000,204500,142200,240000,125404,300000,130000,195000,175000,155000,110000,123000,92250,170000,150000,180000,100000,97000,90000,200000,160000,210000,180000,260000,180000,210000,157000,180000,100000,80000,52500,128000,81500,105000,70000,175000,122500,171000,117000,202800,104300,50432,36773,197000,99000,160000,110000,185900,129300,30000,78000,48000,170000,130000,150000,95000,78000,42000,345600,230400,145000,115000,78000,48000,175950,130050,205600,105700,236600,89200,84000,54000,80000,200000,73742,165000,33246,185900,129300,169000,110600,5409,75050,225000,184100,185900,129300,225000,156400,185900,129300,108000,8000,155000,38000,85000,65000,155000,38000,110820,92350,153600,106800,185000,50000,185900,129300,155000,38000,168000,130000,123400,88100,120000,55000,185900,129300,191200,130000,169000,110600,150000,120000,139000,122000,185900,129300,139600,85700,185000,50000,185900,129300,225000,156400,200000,175000,185900,129300,148500,98200,115000,95000,225000,66000,185000,50000,47280,37824,134000,98000,105000,62000,57000,161311,144200,115360,83171,38154,73546,42026,170000,150000,180000,160000,108000,200000,150000,125976,188700,160395,115934,81666,300000,225000,198440,144000,191475,141525,50432,36773,75648,156868,200000,198440,144000,69344,5132,90000,126080,84053,200000,180000,108000,85000,210000,180000,165000,132000,130000,110000,45050,42028,135000,178800,132100,20000,140000,110000,160000,85000,250000,63000,187200,116100,10000,200000,145000,229998,154545,215000,159000,229998,154545,50000,183000,99750,68400,236900,159200,243225,179775,175000,150000,210000,180000,148000,128000,190000,135000,130000,110000,191475,141525,160000,85000,218000,145300,195400,131300,105000,191475,141525,207000,153000,191475,141525,110000,99000,191475,141525,191475,141525,191475,141525,200000,135000,207000,153000,191475,141525,191475,141525,191475,141525,195700,130500,130000,84000,100000,60000,80036,67723,141300,102100,50432,36773,150000,102200,22892,144000,113000,31520,195400,131300,195400,131300,195400,131300,190000,135000,135000,80000,8050,160000,85000,178800,132100,60000,63040,50000,140000,105000,80036,67723,190000,140000,100000,60000,180000,165000,108000,20000,190000,135000,179400,154000,193900,129300,222640,182160,150000,100000,122500,100000,297500,260000,15000,193000,93000,73000,100000,60000,7799,136994,101570,250000,63000,134000,98000,191475,141525,57786,136000,112000,172000,140000,215000,164000,300000,130000,250000,63000,180000,150000,45390,250000,63000,191475,141525,97500,212800,142800,73546,50000,6359,151800,130240,165000,140250,135000,115000,179400,154000,191475,141525,191475,141525,191475,141525,75000,84053,73546,98506,86193,84053,73546,191475,141525,191475,141525,102663,80041,191475,141525,104611,82280,191475,141525,191475,141525,115000,31520,81000,66000,46000,80000,200000,180000,200000,204100,136100,250000,63000,118208,110820,19073,191475,141525,191475,141525,191475,141525,95000,70000,75000,7500,113000,170000,130000,113000,140000,50000,53368,175000,140000,29944,250000,63000,160000,119300,145000,105000,90000,146200,124270,225000,160000,54634,185800,137400,245000,180000,203500,152000,250000,63000,186000,148800,95386,128058,82000,110000,173000,203500,152000,186000,148800,6270,158000,134000,170000,120000,200000,150000,216200,144100,115573,89306,250000,63000,135000,85000,135000,85000,206000,175100,189650,164996,149040,113900,154000,126000,200000,150000,195700,130500,170000,135000,98506,73880,117000,99450,200000,135000,193900,129300,55410,86193,61566,175000,130000,188100,139860,248700,167100,5723,123400,88100,50432,245000,205000,141300,102100,141300,102100,50000,84053,61566,250000,63000,189500,140100,177600,131300,24000,24000,250000,63000,202900,131300,145000,115000,115000,193900,129300,180000,140000,216200,144100,216000,144000,150000,12171,53416,50000,250000,84053,131752,48000,260500,175100,210000,100000,55000,130000,77119,52008,30523,206699,99100,200000,54000,250000,63000,250000,63000,250000,63000,130000,100000,80000,160000,100000,221300,148700,30000,28368,91118,61566,60938,249260,185400,170000,130000,80036,128875,93700,180000,100000,136260,109280,160000,92000,200000,160000,135446,104663,117000,99450,129000,86000,13493,13493,160000,119300,100000,25000,65257,200000,180000,153000,210000,100000,150075,110925,22800,160000,92000,202900,131300,22809,15000,175000,135000,133766,83000,92350,67723,186000,148800,112900,90320,240000,160000,300000,200000,65666,200000,116976,92350,120000,112900,90320,145000,105400,49268,110820,92350,215300,158200,209100,154600,115934,81666,175000,155000,84053,164000,132000,170000,123000,189650,164996,52533,52533,115222,165400,132320,208775,147800,136994,101570,128875,93700,76309,35093,183600,100800,49253,36940,42026,31520,84053,73546,98506,86193,84053,73546,189650,164996,42026,31520,92350,73880,215300,140400,63040,47280,260000,180000,67723,43096,63040,47280,73880,55410,51064,60000,82900,63900,160000,112300,241000,159000,180000,80000,58000,58000,136000,108800,242000,200000,61566,36940,73880,49253,165220,120160,124190,90320,181940,132320,220110,160080,180000,120000,126500,106260,116000,99000,155000,120600,130000,90000,170000,150000,102100,84900,136620,99360,110820,98506,146000,123000,49253,43096,130000,110000,170000,135000,161342,137141,167000,123000,73880,61566,211500,138600,192400,90700,130000,61300,130000,61300,160000,113000,150000,95550,167000,115500,112900,90320,112900,90320,165400,132320,243900,156600,136600,109280,128875,93700,224000,167875,175000,135000,209100,154600,180000,160000,205300,140400,176000,144000,200100,160000,70500,54000,205300,140400,205300,184700,175100,140250,116150,99050,145000,130000,112900,90320,85000,75000,214000,192600,266400,213120,155000,115000,141300,102100,115934,81666,206699,99100,130000,110500,61566,43096,80000,60000,192564,144854,230000,150000,150260,109280,170000,150000,160000,130000,67000,52000,154000,126000,129000,99000,210000,140000,210000,140000,210000,140000,100000,69000,210000,140000,150075,110925,100000,25000,126500,106260,220110,160080,105000,100000,170000,135000,230000,140000,135000,50000,220000,140000,172386,86193,220000,120000,200000,120000,120000,65000,324000,216000,210000,100000,185100,104890,105000,80000,76814,117104,192037,120000,17805,30523,55685,52533,17805,75000,157000,69133,65000,68293,109000,67597,10000,20000,102839,200000,51081,78000,135000,115000,83864,40000,31520,59888,54742,89306,83171,165000,153000,100000,76814,33609,75000,20000,30469,69999,55475,61989,152500,120000,135000,405000,150000,240000,135000,80000,380000,120402,177000,65141,48000,20000,220000,77364,63711,150000,90000,100000,100000,100000,144000,155499,24000,38400,100000,82500,49646,40570,120000,84053,20000,125000,9466,120000,10354,110037,21013,50000,200000,60000,200000,100000,100000,82744,59303,62649,82528,170000,150000,55000,250000,80000,70000,130026,63831,68428,85000,230000,125000,120000,450000,46759,74130,127221,144000,13400,75774,150000,103000,153000,90000,90000,60000,50000,12000,5409,270000,54238,47282,153667,28476,110000,82528,250000,59102,80000,10000,138000,140000,79197,170000,80000,45760,100000,53192,235000,150000,79833,225000,76833,50180,88654,103160,113476,94564,30428,150000,115000,187442,51519,106000,112872,36259,150000,15966,95746,70000,76958,89294,29751,276000,188000,160000,105000,200000,174000,93000,28399,60757,90000,70139,6072,33511,170000,96282,12103,36643,72212,91000,99703,165000,80000,103691,21637,42000,115000,63810,260000,110000,180000,200000,109024,200000,256000,110000,79833,72500,185000,69741,100000,112000,150000,20171,55000,58000,100000,77684,85000,76833,105000,72000,65013,28016,111775,93150,160000,25532,66265,16904,63831,190000,141846,16228,71786,35735,135000,24823,54094,24342,9272,147000,96113,174000,135000,21844,125000,51321,40481,69741,50000,39916,87000,26005,90734,22611,5679,81000,40038,90000,61467,195000,37825,85000,416000,225000,56256,33808,116914,46597,8000,41689,114047,88654,5707,56000,28609,88654,6072,47899,98000,66022,56738,24823,120000,20000,325000,200000,45896,160000,50000,40189,12901,165000,5882,42197,185000,62726,90734,21669,110000,140000,120000,87738,61896,12000,76833,74000,152000,18000,60000,130000,18907,59102,173762,148261,38776,46809,18053,91237,62726,115000,235000,19609,12000,75000,62000,73000,45391,190200,118000,138350,130800,45618,168000,119059,423000,28369,165000,412000,151000,105000,100000,94665],\"x0\":\" \",\"xaxis\":\"x\",\"y\":[\"Principal Data Scientist\",\"ML Engineer\",\"ML Engineer\",\"Data Scientist\",\"Data Scientist\",\"Applied Scientist\",\"Applied Scientist\",\"Data Scientist\",\"Data Scientist\",\"Data Scientist\",\"Data Scientist\",\"Data Analyst\",\"Data Analyst\",\"Applied Scientist\",\"Applied Scientist\",\"Data Modeler\",\"Data Modeler\",\"Data Scientist\",\"Data Scientist\",\"Data Analyst\",\"Data Analyst\",\"Research Engineer\",\"Research Engineer\",\"Analytics Engineer\",\"Analytics Engineer\",\"Business Intelligence Engineer\",\"Business Intelligence Engineer\",\"Machine Learning Engineer\",\"Machine Learning Engineer\",\"Data Strategist\",\"Data Strategist\",\"Data Engineer\",\"Data Engineer\",\"Computer Vision Engineer\",\"Computer Vision Engineer\",\"Data Engineer\",\"Data Engineer\",\"Data Analyst\",\"Data Analyst\",\"Data Quality Analyst\",\"Compliance Data Analyst\",\"Machine Learning Engineer\",\"Applied Scientist\",\"Applied Scientist\",\"Data Engineer\",\"Data Engineer\",\"Data Scientist\",\"Data Scientist\",\"Data Scientist\",\"Data Scientist\",\"Data Scientist\",\"Data Scientist\",\"Data Scientist\",\"Data Scientist\",\"Data Engineer\",\"Data Engineer\",\"Research Engineer\",\"Research Engineer\",\"Data Scientist\",\"Data Scientist\",\"Data Engineer\",\"Data Engineer\",\"Data Scientist\",\"Data Scientist\",\"Data Engineer\",\"Data Engineer\",\"Data Engineer\",\"Data Engineer\",\"Applied Scientist\",\"Applied Scientist\",\"Data Engineer\",\"Data Engineer\",\"Data Scientist\",\"Data Scientist\",\"Computer Vision Engineer\",\"Computer Vision Engineer\",\"Data Architect\",\"Data Architect\",\"Data Engineer\",\"Data Engineer\",\"Data Scientist\",\"Machine Learning Engineer\",\"Applied Machine Learning Engineer\",\"AI Developer\",\"Machine Learning Engineer\",\"Business Intelligence Engineer\",\"Business Intelligence Engineer\",\"Data Engineer\",\"Data Engineer\",\"Data Engineer\",\"Data Engineer\",\"Data Scientist\",\"Data Scientist\",\"Data Scientist\",\"Data Scientist\",\"Machine Learning Engineer\",\"Machine Learning Engineer\",\"Data Engineer\",\"Data Engineer\",\"Data Analyst\",\"Data Analyst\",\"Data Analyst\",\"Data Analyst\",\"Data Engineer\",\"Data Engineer\",\"Data Engineer\",\"Data Engineer\",\"Analytics Engineer\",\"Analytics Engineer\",\"Data Engineer\",\"Data Engineer\",\"Research Engineer\",\"Research Engineer\",\"Research Scientist\",\"Machine Learning Engineer\",\"Data Scientist\",\"Data Scientist\",\"Analytics Engineer\",\"Analytics Engineer\",\"Analytics Engineer\",\"Analytics Engineer\",\"Machine Learning Engineer\",\"Machine Learning Engineer\",\"Analytics Engineer\",\"Analytics Engineer\",\"Data Engineer\",\"Data Engineer\",\"Data Engineer\",\"Data Engineer\",\"Data Analytics Manager\",\"Data Analytics Manager\",\"Data Engineer\",\"Data Engineer\",\"Machine Learning Engineer\",\"Machine Learning Engineer\",\"Data Engineer\",\"Data Engineer\",\"Data Engineer\",\"Data Engineer\",\"Data Scientist\",\"Data Scientist\",\"Data Analyst\",\"Data Analyst\",\"Data Analyst\",\"Data Analyst\",\"Machine Learning Engineer\",\"Machine Learning Engineer\",\"Data Engineer\",\"Data Engineer\",\"Data Scientist\",\"Data Scientist\",\"Analytics Engineer\",\"Analytics Engineer\",\"Data Engineer\",\"Data Engineer\",\"Business Data Analyst\",\"Applied Data Scientist\",\"Data Analyst\",\"Data Analyst\",\"Data Engineer\",\"Data Engineer\",\"Data Analyst\",\"Data Analyst\",\"Applied Scientist\",\"Applied Scientist\",\"Machine Learning Engineer\",\"Machine Learning Engineer\",\"Data Engineer\",\"Data Engineer\",\"Analytics Engineer\",\"Analytics Engineer\",\"Data Engineer\",\"Data Engineer\",\"Applied Scientist\",\"Applied Scientist\",\"Data Analyst\",\"Data Analyst\",\"Data Engineer\",\"Data Engineer\",\"Data Engineer\",\"Data Engineer\",\"Data Scientist\",\"Data Scientist\",\"Staff Data Analyst\",\"ETL Engineer\",\"ETL Engineer\",\"Data Analyst\",\"Data Analyst\",\"Data Engineer\",\"Data Engineer\",\"Machine Learning Engineer\",\"Machine Learning Engineer\",\"Data Scientist\",\"Data Scientist\",\"Data Scientist\",\"Data Scientist\",\"Research Engineer\",\"Research Engineer\",\"Data Architect\",\"Data Architect\",\"Data Architect\",\"Data Architect\",\"Data DevOps Engineer\",\"Data Engineer\",\"Data Engineer\",\"Data Engineer\",\"Data Engineer\",\"Data Engineer\",\"Data Engineer\",\"Computer Vision Engineer\",\"Computer Vision Engineer\",\"Machine Learning Engineer\",\"Machine Learning Engineer\",\"Data Scientist\",\"Data Scientist\",\"Data Analyst\",\"Data Analyst\",\"Data Engineer\",\"Applied Data Scientist\",\"AI Developer\",\"Data Analyst\",\"Data Analyst\",\"Data Engineer\",\"Data Engineer\",\"Data Engineer\",\"Data Engineer\",\"Data Engineer\",\"Data Engineer\",\"Head of Data\",\"Head of Data\",\"Data Quality Analyst\",\"Data Quality Analyst\",\"Data Scientist\",\"Data Scientist\",\"AI Developer\",\"Data Engineer\",\"Data Engineer\",\"Data Engineer\",\"Data Engineer\",\"Data Scientist\",\"Data Scientist\",\"Data Scientist\",\"Data Scientist\",\"Data Scientist\",\"Data Scientist\",\"Data Science Manager\",\"Data Science Manager\",\"Analytics Engineer\",\"Analytics Engineer\",\"Data Scientist\",\"Data Engineer\",\"Data Engineer\",\"Data Analyst\",\"Data Analyst\",\"Research Engineer\",\"Research Engineer\",\"Data Analyst\",\"Data Analyst\",\"Data Engineer\",\"Data Engineer\",\"Data Scientist\",\"Data Scientist\",\"Data Analyst\",\"Data Analyst\",\"Data Scientist\",\"Data Scientist\",\"Data Engineer\",\"Data Engineer\",\"Analytics Engineer\",\"Analytics Engineer\",\"Analytics Engineer\",\"Analytics Engineer\",\"Applied Scientist\",\"Applied Scientist\",\"Data Engineer\",\"Data Engineer\",\"Applied Scientist\",\"Applied Scientist\",\"Research Scientist\",\"Research Scientist\",\"Applied Scientist\",\"Applied Scientist\",\"Data Analyst\",\"Data Analyst\",\"Data Scientist\",\"Data Scientist\",\"Data Engineer\",\"Data Engineer\",\"Data Scientist\",\"Data Scientist\",\"Data Scientist\",\"Data Scientist\",\"Data Scientist\",\"Data Scientist\",\"Applied Scientist\",\"Applied Scientist\",\"Analytics Engineer\",\"Analytics Engineer\",\"Data Analyst\",\"Data Analyst\",\"Research Scientist\",\"Research Scientist\",\"Data Scientist\",\"Data Scientist\",\"Data Engineer\",\"Data Engineer\",\"Data Scientist\",\"Data Scientist\",\"Data Analyst\",\"Data Analyst\",\"Data Manager\",\"Data Manager\",\"Data Analyst\",\"Data Analyst\",\"Data Scientist\",\"Data Scientist\",\"Data Manager\",\"Data Manager\",\"Data Scientist\",\"Data Scientist\",\"Data Analyst\",\"Data Analyst\",\"Data Analyst\",\"AI Developer\",\"Machine Learning Researcher\",\"Machine Learning Engineer\",\"Machine Learning Engineer\",\"Data Scientist\",\"Data Architect\",\"Data Architect\",\"Data Engineer\",\"Data Engineer\",\"Data Analyst\",\"Data Analyst\",\"Data Scientist\",\"Data Scientist\",\"Data Scientist\",\"Data Scientist\",\"Data Analyst\",\"Data Analyst\",\"Data Engineer\",\"Data Engineer\",\"Machine Learning Engineer\",\"Machine Learning Engineer\",\"Data Engineer\",\"Data Engineer\",\"Data Scientist\",\"Data Scientist\",\"Applied Scientist\",\"Applied Scientist\",\"Data Engineer\",\"Data Engineer\",\"Data Quality Analyst\",\"Data Quality Analyst\",\"Data Scientist\",\"Data Scientist\",\"Data Scientist\",\"Data Scientist\",\"Machine Learning Engineer\",\"Machine Learning Engineer\",\"Big Data Engineer\",\"Data Engineer\",\"Data Engineer\",\"Data Scientist\",\"Data Scientist\",\"Data Analyst\",\"Data Analyst\",\"Research Scientist\",\"Research Scientist\",\"Data Engineer\",\"Data Engineer\",\"Data Specialist\",\"Data Specialist\",\"Data Engineer\",\"Data Engineer\",\"Data Analytics Manager\",\"Data Analytics Manager\",\"Machine Learning Engineer\",\"Machine Learning Engineer\",\"Data Engineer\",\"Data Engineer\",\"Data Analyst\",\"Data Analyst\",\"Data Engineer\",\"Data Engineer\",\"Data Scientist\",\"Data Scientist\",\"Data Scientist\",\"Data Scientist\",\"Data Scientist\",\"Data Scientist\",\"Lead Data Analyst\",\"BI Data Engineer\",\"Data Scientist\",\"Data Scientist\",\"Data Engineer\",\"Data Engineer\",\"Data Engineer\",\"Data Engineer\",\"Data Analyst\",\"Data Analyst\",\"Analytics Engineer\",\"Analytics Engineer\",\"Data Analyst\",\"Data Analyst\",\"Research Engineer\",\"Research Engineer\",\"Machine Learning Engineer\",\"Machine Learning Engineer\",\"Data Scientist\",\"Data Scientist\",\"Data Architect\",\"Data Architect\",\"Data Scientist\",\"Data Scientist\",\"Data Scientist\",\"Data Scientist\",\"Data Scientist\",\"Data Scientist\",\"Research Engineer\",\"Research Engineer\",\"Data Analyst\",\"Data Analyst\",\"Data Engineer\",\"Data Engineer\",\"Data Analyst\",\"Data Analyst\",\"Machine Learning Engineer\",\"Machine Learning Engineer\",\"Data Analyst\",\"Data Analyst\",\"Machine Learning Engineer\",\"Machine Learning Engineer\",\"Data Manager\",\"Data Manager\",\"Data Scientist\",\"Data Scientist\",\"Data Scientist\",\"Data Scientist\",\"Applied Scientist\",\"Applied Scientist\",\"Applied Scientist\",\"Applied Scientist\",\"Data Analyst\",\"Data Analyst\",\"Applied Scientist\",\"Applied Scientist\",\"Machine Learning Engineer\",\"Machine Learning Engineer\",\"Data Analyst\",\"Data Analyst\",\"Data Engineer\",\"Data Engineer\",\"Data Analyst\",\"Data Analyst\",\"Data Engineer\",\"Data Engineer\",\"Data Engineer\",\"Data Engineer\",\"Data Engineer\",\"Data Engineer\",\"Data Scientist\",\"Data Scientist\",\"Data Scientist\",\"Data Scientist\",\"Data Architect\",\"Data Architect\",\"Data Scientist\",\"Data Scientist\",\"Data Engineer\",\"Data Engineer\",\"Data Engineer\",\"Data Engineer\",\"Data Engineer\",\"Data Analyst\",\"Data Analyst\",\"Data Engineer\",\"Data Engineer\",\"Director of Data Science\",\"Director of Data Science\",\"Machine Learning Scientist\",\"Machine Learning Scientist\",\"Data Scientist\",\"Data Scientist\",\"Research Scientist\",\"Research Scientist\",\"Data Scientist\",\"Data Scientist\",\"Data Scientist\",\"Data Scientist\",\"Data Engineer\",\"Data Engineer\",\"Business Data Analyst\",\"AI Developer\",\"AI Developer\",\"MLOps Engineer\",\"MLOps Engineer\",\"Data Engineer\",\"Data Engineer\",\"Data Engineer\",\"Data Engineer\",\"Data Scientist\",\"Data Scientist\",\"Data Engineer\",\"Data Engineer\",\"Machine Learning Engineer\",\"Machine Learning Engineer\",\"Data Analyst\",\"Data Analyst\",\"Data Analyst\",\"Data Analyst\",\"Data Engineer\",\"Data Engineer\",\"Research Scientist\",\"Research Scientist\",\"Research Engineer\",\"Research Engineer\",\"Data Analyst\",\"Data Analyst\",\"Data Scientist\",\"Data Scientist\",\"Data Architect\",\"Data Architect\",\"Data Architect\",\"Data Architect\",\"Research Scientist\",\"Research Scientist\",\"Machine Learning Engineer\",\"AI Scientist\",\"Machine Learning Engineer\",\"Machine Learning Engineer\",\"Data Engineer\",\"Data Engineer\",\"Data Scientist\",\"Data Scientist\",\"Data Engineer\",\"Data Engineer\",\"Data Engineer\",\"Data Engineer\",\"Machine Learning Engineer\",\"Machine Learning Engineer\",\"Data Scientist\",\"Data Scientist\",\"Data Analyst\",\"Data Analyst\",\"Analytics Engineer\",\"Analytics Engineer\",\"Data Engineer\",\"Data Engineer\",\"Data Scientist\",\"Data Scientist\",\"Data Engineer\",\"Data Engineer\",\"Data Scientist\",\"Data Scientist\",\"Data Analyst\",\"Data Analyst\",\"Data Analyst\",\"Data Analyst\",\"Data Scientist\",\"Data Scientist\",\"Data Analyst\",\"Data Analyst\",\"Data Engineer\",\"Data Engineer\",\"Data Scientist\",\"Data Scientist\",\"Machine Learning Scientist\",\"Machine Learning Scientist\",\"Data Analyst\",\"Data Analyst\",\"Data Analyst\",\"Data Analyst\",\"Autonomous Vehicle Technician\",\"Applied Machine Learning Scientist\",\"Data Engineer\",\"Data Engineer\",\"Data Analyst\",\"Data Analyst\",\"Data Scientist\",\"Data Scientist\",\"Data Scientist\",\"Data Scientist\",\"Data Scientist\",\"Data Scientist\",\"Data Scientist\",\"Data Scientist\",\"Data Engineer\",\"Data Engineer\",\"Data Engineer\",\"Data Engineer\",\"Data Scientist\",\"Data Scientist\",\"Data Engineer\",\"Data Engineer\",\"Data Engineer\",\"Data Engineer\",\"Data Analyst\",\"Data Analyst\",\"Data Engineer\",\"Data Engineer\",\"Data Engineer\",\"Data Engineer\",\"Lead Data Scientist\",\"Data Scientist\",\"Data Analyst\",\"Data Analyst\",\"Data Scientist\",\"Data Scientist\",\"Data Analyst\",\"Data Analyst\",\"Data Engineer\",\"Data Engineer\",\"Data Scientist\",\"Data Scientist\",\"Data Engineer\",\"Data Engineer\",\"Data Engineer\",\"Data Engineer\",\"Data Scientist\",\"Data Scientist\",\"Data Engineer\",\"Data Engineer\",\"Data Engineer\",\"Data Engineer\",\"Data Scientist\",\"Data Scientist\",\"Data Engineer\",\"Data Engineer\",\"Data Engineer\",\"Data Engineer\",\"Data Engineer\",\"Data Engineer\",\"Data Scientist\",\"Data Scientist\",\"Data Scientist\",\"Data Scientist\",\"Data Engineer\",\"Data Engineer\",\"Data Scientist\",\"Data Scientist\",\"Data Architect\",\"Data Architect\",\"Data Engineer\",\"Data Engineer\",\"Data Engineer\",\"Data Engineer\",\"Data Analyst\",\"Data Analyst\",\"Data Architect\",\"Data Architect\",\"Data Analyst\",\"Data Analyst\",\"Data Analyst\",\"Data Analyst\",\"Data Engineer\",\"Data Engineer\",\"Data Engineer\",\"Data Engineer\",\"Cloud Database Engineer\",\"Applied Machine Learning Scientist\",\"Data Analyst\",\"Data Analyst\",\"Data Engineer\",\"Data Engineer\",\"Data Analyst\",\"Data Analyst\",\"Data Scientist\",\"Data Scientist\",\"Machine Learning Engineer\",\"Machine Learning Engineer\",\"Research Engineer\",\"Research Engineer\",\"Data Analyst\",\"Data Analyst\",\"Data Architect\",\"Data Architect\",\"Data Manager\",\"Data Manager\",\"Data Analyst\",\"Data Analyst\",\"Analytics Engineer\",\"Analytics Engineer\",\"Data Analyst\",\"Data Analyst\",\"Data Engineer\",\"Data Engineer\",\"Data Science Manager\",\"Data Science Manager\",\"Data Scientist\",\"Data Scientist\",\"Data Engineer\",\"Data Engineer\",\"Data Engineer\",\"Data Engineer\",\"Data Engineer\",\"Data Engineer\",\"Data Scientist\",\"Data Scientist\",\"Data Scientist\",\"Data Scientist\",\"Applied Scientist\",\"Applied Scientist\",\"Data Analyst\",\"Data Analyst\",\"Data Engineer\",\"Data Engineer\",\"Data Scientist\",\"Data Scientist\",\"Data Engineer\",\"Data Engineer\",\"Data Analyst\",\"Data Analyst\",\"Financial Data Analyst\",\"Data Scientist\",\"Data Scientist\",\"Data Scientist\",\"Data Scientist\",\"Research Scientist\",\"Research Scientist\",\"Data Infrastructure Engineer\",\"Data Infrastructure Engineer\",\"Data Analyst\",\"Data Analyst\",\"Analytics Engineer\",\"Analytics Engineer\",\"Data Analyst\",\"Data Analyst\",\"ML Engineer\",\"ML Engineer\",\"Data Architect\",\"Data Architect\",\"Software Data Engineer\",\"Data Analyst\",\"Data Analyst\",\"Data Scientist\",\"AI Programmer\",\"AI Developer\",\"Lead Data Analyst\",\"Machine Learning Engineer\",\"Machine Learning Engineer\",\"Data Engineer\",\"Data Engineer\",\"Data Scientist\",\"Data Scientist\",\"Data Engineer\",\"Data Engineer\",\"Research Scientist\",\"Research Scientist\",\"Data Engineer\",\"Data Engineer\",\"Data Analyst\",\"Data Analyst\",\"Analytics Engineer\",\"Analytics Engineer\",\"Data Engineer\",\"Data Engineer\",\"Data Analyst\",\"Data Analyst\",\"Data Operations Engineer\",\"Data Operations Engineer\",\"Machine Learning Engineer\",\"Machine Learning Engineer\",\"Data Engineer\",\"Data Engineer\",\"Data Scientist\",\"Data Scientist\",\"Data Engineer\",\"Data Engineer\",\"Machine Learning Engineer\",\"Machine Learning Engineer\",\"Data Engineer\",\"Data Engineer\",\"Data Engineer\",\"Data Engineer\",\"BI Developer\",\"Data Science Lead\",\"Data Engineer\",\"Data Engineer\",\"ML Engineer\",\"ML Engineer\",\"Analytics Engineer\",\"Analytics Engineer\",\"Machine Learning Engineer\",\"Machine Learning Engineer\",\"Data Scientist\",\"Data Scientist\",\"Machine Learning Engineer\",\"Machine Learning Engineer\",\"Data Scientist\",\"Data Scientist\",\"Data Engineer\",\"Data Engineer\",\"Data Science Manager\",\"Data Science Manager\",\"Data Analytics Manager\",\"Data Analytics Manager\",\"Data Engineer\",\"Data Engineer\",\"Data Architect\",\"Data Architect\",\"Data Analyst\",\"Data Analyst\",\"Data Analyst\",\"Data Analyst\",\"Deep Learning Researcher\",\"Data Engineer\",\"Data Engineer\",\"BI Analyst\",\"BI Analyst\",\"Data Science Manager\",\"Data Science Manager\",\"Data Science Consultant\",\"Data Science Consultant\",\"Data Engineer\",\"Data Engineer\",\"Data Engineer\",\"Data Engineer\",\"Research Scientist\",\"Research Scientist\",\"Data Analyst\",\"Data Analyst\",\"Data Scientist\",\"Data Scientist\",\"Data Scientist\",\"Data Scientist\",\"Data Analyst\",\"Data Analyst\",\"Data Analyst\",\"Data Analyst\",\"Data Scientist\",\"Data Scientist\",\"Data Analytics Specialist\",\"Data Analytics Specialist\",\"Research Scientist\",\"Research Scientist\",\"AI Developer\",\"Data Engineer\",\"Data Engineer\",\"Machine Learning Engineer\",\"Machine Learning Engineer\",\"Data Engineer\",\"Data Engineer\",\"Data Scientist\",\"Data Scientist\",\"Research Scientist\",\"Research Scientist\",\"Machine Learning Engineer\",\"Machine Learning Engineer\",\"Data Engineer\",\"Data Engineer\",\"Data Scientist\",\"Data Analyst\",\"Data Analyst\",\"Data Analyst\",\"Data Analyst\",\"Software Data Engineer\",\"Data Analyst\",\"Machine Learning Engineer\",\"Machine Learning Engineer\",\"Data Engineer\",\"Data Engineer\",\"Data Analyst\",\"Data Analyst\",\"Data Analyst\",\"Data Analyst\",\"Data Scientist\",\"Data Scientist\",\"Data Engineer\",\"Data Engineer\",\"Machine Learning Engineer\",\"Machine Learning Engineer\",\"Data Engineer\",\"Data Engineer\",\"Data Engineer\",\"Data Engineer\",\"Data Analyst\",\"Data Analyst\",\"Data Engineer\",\"Data Engineer\",\"Data Analyst\",\"Data Analyst\",\"Data Analyst\",\"Data Analyst\",\"Research Scientist\",\"Research Scientist\",\"Data Engineer\",\"Data Engineer\",\"Data Scientist\",\"Data Scientist\",\"Data Scientist\",\"Data Scientist\",\"Data Engineer\",\"Data Engineer\",\"Data Analyst\",\"Data Analyst\",\"Data Scientist\",\"Data Scientist\",\"Data Scientist\",\"Data Scientist\",\"Machine Learning Scientist\",\"Machine Learning Scientist\",\"Data Scientist\",\"Data Scientist\",\"Machine Learning Engineer\",\"Machine Learning Engineer\",\"Data Manager\",\"Data Manager\",\"Machine Learning Infrastructure Engineer\",\"Machine Learning Infrastructure Engineer\",\"Data Engineer\",\"Data Engineer\",\"Data Engineer\",\"Data Engineer\",\"Data Scientist\",\"Data Scientist\",\"Data Analyst\",\"Data Analyst\",\"Data Analyst\",\"Data Analyst\",\"Data Scientist\",\"Data Scientist\",\"Data Engineer\",\"Data Engineer\",\"Data Engineer\",\"Data Engineer\",\"Data Engineer\",\"Data Engineer\",\"Data Engineer\",\"Data Engineer\",\"Data Scientist\",\"Data Scientist\",\"Data Engineer\",\"Data Engineer\",\"Data Engineer\",\"Data Engineer\",\"Data Analyst\",\"Data Analyst\",\"Data Scientist\",\"Data Scientist\",\"Analytics Engineer\",\"Analytics Engineer\",\"Machine Learning Engineer\",\"Machine Learning Engineer\",\"Data Analyst\",\"Data Analyst\",\"Machine Learning Engineer\",\"Machine Learning Engineer\",\"Data Analyst\",\"Data Analyst\",\"Data Engineer\",\"Data Engineer\",\"Data Engineer\",\"Data Engineer\",\"Data Analytics Manager\",\"Data Analytics Manager\",\"Research Scientist\",\"Research Scientist\",\"Data Scientist\",\"Data Scientist\",\"Data Engineer\",\"Data Engineer\",\"Research Scientist\",\"Research Scientist\",\"Data Scientist\",\"Data Scientist\",\"Data Scientist\",\"Data Scientist\",\"Data Analyst\",\"Research Scientist\",\"Research Scientist\",\"Data Analyst\",\"Business Data Analyst\",\"Head of Data\",\"Data Science Manager\",\"Data Analyst\",\"Data Analyst\",\"Data Analyst\",\"Data Analyst\",\"Data Science Manager\",\"Data Science Manager\",\"Data Analyst\",\"Data Analyst\",\"Computer Vision Engineer\",\"BI Data Analyst\",\"AI Developer\",\"Machine Learning Engineer\",\"Machine Learning Engineer\",\"Data Analyst\",\"Machine Learning Engineer\",\"Machine Learning Engineer\",\"Data Engineer\",\"Data Engineer\",\"Data Analyst\",\"Data Analyst\",\"Machine Learning Engineer\",\"Machine Learning Engineer\",\"Data Scientist\",\"Data Science Consultant\",\"Data Analyst\",\"Data Analyst\",\"Data Scientist\",\"Data Scientist\",\"Data Analyst\",\"Data Analyst\",\"Machine Learning Engineer\",\"Machine Learning Engineer\",\"Data Engineer\",\"Data Engineer\",\"Data Analyst\",\"Data Analyst\",\"Data Scientist\",\"Data Scientist\",\"Machine Learning Engineer\",\"Machine Learning Engineer\",\"Data Architect\",\"Data Architect\",\"Machine Learning Engineer\",\"Machine Learning Engineer\",\"Lead Data Scientist\",\"Data Engineer\",\"Data Engineer\",\"Research Engineer\",\"Research Engineer\",\"Machine Learning Engineer\",\"Machine Learning Engineer\",\"Data Engineer\",\"Data Engineer\",\"Machine Learning Engineer\",\"Machine Learning Engineer\",\"Data Analyst\",\"Data Analyst\",\"Data Manager\",\"Data Manager\",\"Head of Data Science\",\"Head of Data Science\",\"Data Engineer\",\"Data Engineer\",\"Data Engineer\",\"Data Engineer\",\"Data Quality Analyst\",\"Data Quality Analyst\",\"Data Engineer\",\"Data Engineer\",\"Data Analyst\",\"Data Analyst\",\"Data Engineer\",\"Data Engineer\",\"Insight Analyst\",\"Insight Analyst\",\"Data Scientist\",\"Data Scientist\",\"Data Analyst\",\"Data Analyst\",\"Data Science Manager\",\"Data Science Manager\",\"Data Analyst\",\"Data Analyst\",\"Data Analyst\",\"Data Analyst\",\"Data Manager\",\"Data Manager\",\"Machine Learning Infrastructure Engineer\",\"Machine Learning Infrastructure Engineer\",\"Data Analyst\",\"Data Analyst\",\"Data Engineer\",\"Data Engineer\",\"Applied Machine Learning Engineer\",\"Data Scientist\",\"AI Scientist\",\"Data Analyst\",\"Data Analyst\",\"Data Scientist\",\"Data Scientist\",\"Data Engineer\",\"Data Engineer\",\"Data Engineer\",\"Data Engineer\",\"Data Engineer\",\"Data Engineer\",\"Machine Learning Engineer\",\"Machine Learning Engineer\",\"Data Engineer\",\"Data Engineer\",\"Research Engineer\",\"Research Engineer\",\"Machine Learning Engineer\",\"Machine Learning Engineer\",\"Analytics Engineer\",\"Analytics Engineer\",\"Deep Learning Engineer\",\"Deep Learning Engineer\",\"Data Engineer\",\"Data Engineer\",\"Data Engineer\",\"Data Engineer\",\"Data Scientist\",\"Data Scientist\",\"Data Scientist\",\"Data Scientist\",\"Analytics Engineer\",\"Analytics Engineer\",\"Data Manager\",\"Data Manager\",\"Data Scientist\",\"Data Scientist\",\"Data Engineer\",\"Data Analyst\",\"Data Analyst\",\"Data Analyst\",\"Data Analyst\",\"Data Analyst\",\"Data Analyst\",\"Data Engineer\",\"Data Engineer\",\"Machine Learning Engineer\",\"Machine Learning Engineer\",\"AI Scientist\",\"Machine Learning Engineer\",\"Machine Learning Engineer\",\"Data Infrastructure Engineer\",\"Data Infrastructure Engineer\",\"Machine Learning Engineer\",\"Machine Learning Engineer\",\"Data Infrastructure Engineer\",\"Data Infrastructure Engineer\",\"Machine Learning Engineer\",\"Machine Learning Engineer\",\"Machine Learning Engineer\",\"Machine Learning Engineer\",\"Data Science Manager\",\"Data Science Manager\",\"Data Engineer\",\"Data Engineer\",\"Machine Learning Engineer\",\"Machine Learning Engineer\",\"Data Architect\",\"Data Architect\",\"Machine Learning Software Engineer\",\"Machine Learning Software Engineer\",\"Data Scientist\",\"Data Scientist\",\"Data Engineer\",\"Data Engineer\",\"Machine Learning Software Engineer\",\"Machine Learning Software Engineer\",\"Data Analyst\",\"Data Analyst\",\"Data Engineer\",\"Data Engineer\",\"Data Engineer\",\"Data Engineer\",\"Data Engineer\",\"Data Engineer\",\"Data Analyst\",\"Data Analyst\",\"Data Scientist\",\"Data Scientist\",\"Data Engineer\",\"Data Engineer\",\"Data Engineer\",\"Data Engineer\",\"Data Analyst\",\"Data Analyst\",\"Data Analyst\",\"Data Scientist\",\"Data Science Lead\",\"Data Science Lead\",\"Data Scientist\",\"Data Scientist\",\"Data Engineer\",\"Data Engineer\",\"Data Engineer\",\"Data Engineer\",\"Machine Learning Infrastructure Engineer\",\"Machine Learning Infrastructure Engineer\",\"Data Scientist\",\"Data Scientist\",\"Machine Learning Engineer\",\"Machine Learning Engineer\",\"Data Analyst\",\"Data Analyst\",\"Data Analyst\",\"Data Analyst\",\"Machine Learning Engineer\",\"Machine Learning Engineer\",\"Machine Learning Engineer\",\"Machine Learning Engineer\",\"Data Engineer\",\"Data Engineer\",\"Data Science Lead\",\"Data Science Lead\",\"Data Scientist\",\"Data Scientist\",\"Data Architect\",\"Data Architect\",\"Data Analyst\",\"Data Analyst\",\"Machine Learning Engineer\",\"Machine Learning Engineer\",\"Data Scientist\",\"Data Scientist\",\"Data Manager\",\"Data Manager\",\"Data Scientist\",\"Machine Learning Engineer\",\"Research Engineer\",\"Research Engineer\",\"Machine Learning Engineer\",\"Machine Learning Engineer\",\"Data Engineer\",\"Data Engineer\",\"Data Analyst\",\"Data Analyst\",\"Data Engineer\",\"Data Engineer\",\"Data Architect\",\"Data Architect\",\"Data Engineer\",\"Data Engineer\",\"Data Analyst\",\"Data Analyst\",\"Data Analyst\",\"Data Analyst\",\"Data Engineer\",\"Data Engineer\",\"Data Engineer\",\"Data Engineer\",\"Big Data Architect\",\"Data Scientist\",\"Data Analyst\",\"Data Analyst\",\"Data Engineer\",\"Data Engineer\",\"Data Analyst\",\"Data Analyst\",\"Data Analyst\",\"Data Analyst\",\"Data Analyst\",\"Data Analyst\",\"Data Analyst\",\"Data Analyst\",\"Data Engineer\",\"Data Engineer\",\"Data Engineer\",\"Data Engineer\",\"Research Scientist\",\"Research Scientist\",\"Research Scientist\",\"Research Scientist\",\"Data Scientist\",\"Data Scientist\",\"Data Engineer\",\"Data Engineer\",\"Data Engineer\",\"Data Engineer\",\"Data Engineer\",\"Machine Learning Software Engineer\",\"Data Engineer\",\"Product Data Analyst\",\"Machine Learning Engineer\",\"Machine Learning Engineer\",\"Data Engineer\",\"Data Engineer\",\"Data Architect\",\"Data Architect\",\"Data Architect\",\"Data Architect\",\"Data Science Manager\",\"Data Science Manager\",\"Machine Learning Engineer\",\"Machine Learning Engineer\",\"Data Engineer\",\"Data Engineer\",\"Data Analyst\",\"Data Analyst\",\"Data Analyst\",\"Data Analyst\",\"Data Analyst\",\"Data Analyst\",\"Data Analyst\",\"Data Science Lead\",\"Data Science Lead\",\"Data Engineer\",\"Data Engineer\",\"Machine Learning Engineer\",\"Machine Learning Engineer\",\"Data Analyst\",\"Data Analyst\",\"Data Analyst\",\"Data Analyst\",\"Data Scientist\",\"Data Scientist\",\"Data Analyst\",\"Data Analyst\",\"Data Analyst\",\"Data Analyst\",\"Data Engineer\",\"Data Engineer\",\"Data Scientist\",\"Data Scientist\",\"Data Engineer\",\"Data Engineer\",\"Data Analyst\",\"Data Analyst\",\"Data Scientist\",\"Data Scientist\",\"Machine Learning Engineer\",\"Data Scientist\",\"Data Scientist\",\"Research Scientist\",\"Research Scientist\",\"Data Scientist\",\"Data Scientist\",\"Machine Learning Engineer\",\"Machine Learning Engineer\",\"Data Scientist\",\"Data Scientist\",\"Machine Learning Engineer\",\"Machine Learning Engineer\",\"Computer Vision Software Engineer\",\"Data Scientist\",\"Data Engineer\",\"Data Engineer\",\"Data Engineer\",\"Data Engineer\",\"Data Analyst\",\"Data Analyst\",\"Data Engineer\",\"Data Engineer\",\"Research Scientist\",\"Research Scientist\",\"Research Engineer\",\"Research Engineer\",\"Data Scientist\",\"Data Scientist\",\"Data Engineer\",\"Data Engineer\",\"Director of Data Science\",\"Azure Data Engineer\",\"Data Scientist\",\"Data Scientist\",\"Data Scientist\",\"Data Scientist\",\"Data Scientist\",\"Data Engineer\",\"Data Scientist\",\"Research Scientist\",\"Research Scientist\",\"BI Developer\",\"BI Developer\",\"Data Analytics Manager\",\"Data Analytics Manager\",\"Machine Learning Engineer\",\"Machine Learning Engineer\",\"Data Engineer\",\"Data Engineer\",\"Data Scientist\",\"Data Scientist\",\"Data Engineer\",\"Data Engineer\",\"Machine Learning Engineer\",\"Machine Learning Engineer\",\"ML Engineer\",\"ML Engineer\",\"Data Engineer\",\"Data Engineer\",\"Data Analytics Manager\",\"Data Analytics Manager\",\"Data Engineer\",\"Data Engineer\",\"Data Engineer\",\"Data Engineer\",\"Data Engineer\",\"Data Engineer\",\"Data Engineer\",\"Data Engineer\",\"Data Engineer\",\"Data Engineer\",\"Machine Learning Engineer\",\"Machine Learning Engineer\",\"Data Engineer\",\"Data Engineer\",\"Data Scientist\",\"Data Scientist\",\"Research Scientist\",\"Machine Learning Engineer\",\"Data Engineer\",\"Data Engineer\",\"Data Analyst\",\"Data Analyst\",\"Data Analyst\",\"Data Analyst\",\"Data Engineer\",\"Data Engineer\",\"Head of Data Science\",\"Head of Data Science\",\"Applied Scientist\",\"Applied Scientist\",\"Data Scientist\",\"Data Scientist\",\"BI Developer\",\"BI Developer\",\"Data Engineer\",\"Data Engineer\",\"Data Analyst\",\"Data Analyst\",\"Data Manager\",\"Data Manager\",\"Data Scientist\",\"Data Scientist\",\"Big Data Engineer\",\"Data Analyst\",\"Data Analyst\",\"Data Engineer\",\"Data Engineer\",\"Data Scientist\",\"Data Scientist\",\"Machine Learning Engineer\",\"Machine Learning Engineer\",\"Applied Scientist\",\"Applied Scientist\",\"Data Analyst\",\"Data Analyst\",\"Machine Learning Engineer\",\"Machine Learning Engineer\",\"Data Engineer\",\"Data Engineer\",\"Data Scientist\",\"Data Scientist\",\"Machine Learning Engineer\",\"Machine Learning Engineer\",\"Data Scientist\",\"Data Scientist\",\"Data Scientist\",\"Data Scientist\",\"Data Analyst\",\"Data Analyst\",\"Data Engineer\",\"Data Engineer\",\"Data Analyst\",\"Data Analyst\",\"Data Scientist\",\"Marketing Data Engineer\",\"Data Scientist\",\"Data Scientist\",\"Data Scientist\",\"Data Scientist\",\"Data Scientist\",\"Data Architect\",\"Data Architect\",\"Data Analyst\",\"Data Analyst\",\"Data Analyst\",\"Data Analyst\",\"Data Engineer\",\"Data Engineer\",\"Data Engineer\",\"Data Engineer\",\"Data Scientist\",\"Data Scientist\",\"Head of Data Science\",\"Data Analyst\",\"Data Science Manager\",\"Data Science Manager\",\"Data Manager\",\"Data Manager\",\"Data Analyst\",\"Data Analyst\",\"Analytics Engineer\",\"Analytics Engineer\",\"Analytics Engineer\",\"Analytics Engineer\",\"Data Engineer\",\"Data Engineer\",\"Data Engineer\",\"Data Engineer\",\"Data Engineer\",\"Data Engineer\",\"Data Scientist\",\"Data Scientist\",\"Data Analyst\",\"Data Analyst\",\"Machine Learning Engineer\",\"Machine Learning Engineer\",\"Data Scientist\",\"Data Scientist\",\"Data Scientist\",\"Data Scientist\",\"Data Analyst\",\"Data Analyst\",\"Data Engineer\",\"Data Engineer\",\"Data Engineer\",\"Data Engineer\",\"Data Analyst\",\"Data Analyst\",\"Data Scientist\",\"Data Scientist\",\"Data Engineer\",\"Data Engineer\",\"Data Engineer\",\"Data Engineer\",\"Data Engineer\",\"Data Engineer\",\"Data Engineer\",\"Data Engineer\",\"Data Engineer\",\"Data Engineer\",\"Data Engineer\",\"Data Engineer\",\"Data Scientist\",\"Data Engineer\",\"Data Engineer\",\"Data Scientist\",\"Data Scientist\",\"Data Analyst\",\"Data Analyst\",\"Data Scientist\",\"Data Scientist\",\"BI Analyst\",\"BI Analyst\",\"Data Analyst\",\"Data Analyst\",\"ML Engineer\",\"ML Engineer\",\"Business Data Analyst\",\"AI Developer\",\"Data Engineer\",\"Data Engineer\",\"Data Engineer\",\"Data Engineer\",\"Data Analyst\",\"Data Analyst\",\"Data Engineer\",\"Data Engineer\",\"Data Scientist\",\"Data Scientist\",\"Data Engineer\",\"Data Engineer\",\"Data Engineer\",\"Data Engineer\",\"Data Scientist\",\"Data Scientist\",\"Computer Vision Engineer\",\"Applied Data Scientist\",\"Business Data Analyst\",\"AI Developer\",\"Data Analytics Lead\",\"Data Scientist\",\"Data Scientist\",\"Data Scientist\",\"Data Scientist\",\"Data Engineer\",\"Data Engineer\",\"BI Developer\",\"BI Developer\",\"Data Science Manager\",\"Data Science Manager\",\"Research Scientist\",\"Research Scientist\",\"Data Scientist\",\"Data Analyst\",\"Data Analyst\",\"Data Analyst\",\"Data Analyst\",\"Data Engineer\",\"Data Engineer\",\"Data Engineer\",\"Data Engineer\",\"Data Engineer\",\"Data Engineer\",\"Data Scientist\",\"Data Scientist\",\"Data Scientist\",\"Data Scientist\",\"Data Analyst\",\"Data Analyst\",\"Data Architect\",\"Data Architect\",\"Data Scientist\",\"Data Scientist\",\"Data Analyst\",\"Data Analyst\",\"Data Scientist\",\"Data Scientist\",\"Data Architect\",\"Data Architect\",\"Data Science Consultant\",\"Data Science Consultant\",\"Data Scientist\",\"Data Scientist\",\"Data Engineer\",\"Data Engineer\",\"Data Scientist\",\"Computer Vision Engineer\",\"Data Science Consultant\",\"Data Science Consultant\",\"Data Scientist\",\"Data Scientist\",\"Data Engineer\",\"Data Engineer\",\"Machine Learning Engineer\",\"Machine Learning Engineer\",\"Data Scientist\",\"Data Scientist\",\"Data Analyst\",\"Data Analyst\",\"Data Engineer\",\"Data Engineer\",\"Data Scientist\",\"Data Scientist\",\"Data Scientist\",\"Data Scientist\",\"Data Scientist\",\"Data Analyst\",\"Data Analyst\",\"Data Engineer\",\"Data Engineer\",\"Data Scientist\",\"Data Scientist\",\"Data Scientist\",\"Data Scientist\",\"Data Scientist\",\"Data Scientist\",\"Machine Learning Engineer\",\"Machine Learning Engineer\",\"Machine Learning Engineer\",\"Machine Learning Engineer\",\"Data Scientist\",\"ML Engineer\",\"ML Engineer\",\"Data Scientist\",\"Data Scientist\",\"Data Scientist\",\"Data Scientist\",\"Data Engineer\",\"Data Engineer\",\"BI Developer\",\"BI Developer\",\"Research Scientist\",\"Research Scientist\",\"Data Lead\",\"Data Lead\",\"Data Engineer\",\"Data Engineer\",\"Data Engineer\",\"Data Engineer\",\"Data Engineer\",\"Data Engineer\",\"Data Scientist\",\"Data Scientist\",\"Data Engineer\",\"Data Engineer\",\"Data Analyst\",\"Data Analyst\",\"Analytics Engineer\",\"Analytics Engineer\",\"Machine Learning Engineer\",\"Machine Learning Engineer\",\"Data Engineer\",\"Data Engineer\",\"Data Architect\",\"Data Architect\",\"Data Engineer\",\"Data Engineer\",\"Data Analyst\",\"Data Analyst\",\"Data Science Engineer\",\"Data Science Engineer\",\"Research Scientist\",\"Research Scientist\",\"Cloud Database Engineer\",\"Cloud Database Engineer\",\"Data Science Manager\",\"Data Science Manager\",\"Data Scientist\",\"Data Scientist\",\"Data Engineer\",\"Data Engineer\",\"Data Scientist\",\"Data Scientist\",\"Machine Learning Engineer\",\"Applied Scientist\",\"Applied Scientist\",\"BI Developer\",\"BI Developer\",\"Data Analyst\",\"Data Analyst\",\"Data Engineer\",\"Data Engineer\",\"Data Scientist\",\"Data Scientist\",\"Applied Scientist\",\"Applied Scientist\",\"Data Engineer\",\"Data Engineer\",\"Machine Learning Engineer\",\"Machine Learning Engineer\",\"Data Analyst\",\"Data Analyst\",\"Data Scientist\",\"Data Scientist\",\"Machine Learning Research Engineer\",\"Data Analyst\",\"Research Scientist\",\"Research Scientist\",\"Machine Learning Scientist\",\"Machine Learning Scientist\",\"Machine Learning Engineer\",\"Machine Learning Engineer\",\"Data Scientist\",\"Data Scientist\",\"NLP Engineer\",\"NLP Engineer\",\"Data Scientist\",\"Data Scientist\",\"Data Engineer\",\"Data Engineer\",\"NLP Engineer\",\"NLP Engineer\",\"Data Engineer\",\"Data Engineer\",\"ML Engineer\",\"ML Engineer\",\"Data Engineer\",\"Data Engineer\",\"Research Engineer\",\"Research Engineer\",\"Data Engineer\",\"Data Engineer\",\"Data Analyst\",\"Data Analyst\",\"Data Analyst\",\"Data Analyst\",\"Data Engineer\",\"Data Engineer\",\"Data Scientist\",\"Business Data Analyst\",\"Data Engineer\",\"Data Engineer\",\"Data Engineer\",\"Data Engineer\",\"Data Engineer\",\"Data Engineer\",\"Data Scientist\",\"Research Scientist\",\"Research Scientist\",\"Research Engineer\",\"Research Engineer\",\"Research Scientist\",\"Research Scientist\",\"Deep Learning Engineer\",\"Deep Learning Engineer\",\"Research Engineer\",\"Research Engineer\",\"Data Analytics Manager\",\"Data Scientist\",\"Data Scientist\",\"Data Scientist\",\"Data Scientist\",\"Data Engineer\",\"Data Engineer\",\"Machine Learning Engineer\",\"Machine Learning Engineer\",\"Data Scientist\",\"Data Scientist\",\"Data Engineer\",\"Data Engineer\",\"Machine Learning Engineer\",\"Machine Learning Engineer\",\"Data Analyst\",\"Data Analyst\",\"Computer Vision Engineer\",\"Computer Vision Engineer\",\"Data Architect\",\"Data Architect\",\"Data Scientist\",\"Data Scientist\",\"Applied Scientist\",\"Applied Scientist\",\"Data Scientist\",\"Data Scientist\",\"Data Architect\",\"Data Architect\",\"Data Scientist\",\"Data Scientist\",\"Data Scientist\",\"Data Scientist\",\"Research Scientist\",\"Research Scientist\",\"Data Scientist\",\"Data Scientist\",\"Data Engineer\",\"Data Engineer\",\"Machine Learning Engineer\",\"Machine Learning Engineer\",\"Data Engineer\",\"Data Engineer\",\"Machine Learning Engineer\",\"Machine Learning Engineer\",\"Data Engineer\",\"Data Engineer\",\"Data Architect\",\"Data Architect\",\"Data Engineer\",\"Data Engineer\",\"Data Engineer\",\"Data Engineer\",\"Data Analyst\",\"Data Scientist\",\"Data Analyst\",\"Data Analyst\",\"Machine Learning Engineer\",\"Machine Learning Engineer\",\"Data Scientist\",\"Data Scientist\",\"Data Scientist\",\"Data Engineer\",\"Data Engineer\",\"Manager Data Management\",\"Data Engineer\",\"Data Engineer\",\"Data Engineer\",\"Data Engineer\",\"Data Scientist\",\"Data Scientist\",\"Data Science Consultant\",\"Data Science Consultant\",\"Data Engineer\",\"Data Engineer\",\"Data Science Consultant\",\"Data Science Consultant\",\"Data Engineer\",\"Data Engineer\",\"Data Engineer\",\"Data Engineer\",\"Data Engineer\",\"Data Engineer\",\"Applied Machine Learning Scientist\",\"Data Analyst\",\"Data Analyst\",\"Data Scientist\",\"Data Scientist\",\"Data Scientist\",\"Data Scientist\",\"Data Engineer\",\"Data Engineer\",\"Applied Data Scientist\",\"AI Programmer\",\"Data Engineer\",\"Data Engineer\",\"Machine Learning Engineer\",\"Machine Learning Engineer\",\"Data Scientist\",\"Data Scientist\",\"Data Scientist\",\"Data Scientist\",\"Data Scientist\",\"Data Scientist\",\"Data Analyst\",\"Data Analyst\",\"Machine Learning Software Engineer\",\"Machine Learning Software Engineer\",\"Data Engineer\",\"Data Engineer\",\"Machine Learning Developer\",\"Lead Data Scientist\",\"Data Engineer\",\"Data Engineer\",\"Data Engineer\",\"Data Engineer\",\"Data Science Consultant\",\"Data Engineer\",\"Data Engineer\",\"Data Engineer\",\"Data Engineer\",\"Data Analyst\",\"Data Analyst\",\"Data Scientist\",\"Data Scientist\",\"Data Scientist\",\"Data Scientist\",\"Machine Learning Engineer\",\"Machine Learning Engineer\",\"Data Scientist\",\"Data Scientist\",\"ML Engineer\",\"ML Engineer\",\"Cloud Database Engineer\",\"Cloud Database Engineer\",\"Product Data Analyst\",\"Data Engineer\",\"Data Engineer\",\"Data Scientist\",\"Data Scientist\",\"Data Engineer\",\"Data Engineer\",\"Machine Learning Engineer\",\"Machine Learning Engineer\",\"Machine Learning Engineer\",\"Machine Learning Engineer\",\"Data Engineer\",\"Data Engineer\",\"Data Engineer\",\"Data Engineer\",\"Data Science Manager\",\"Data Science Manager\",\"Data Engineer\",\"Data Engineer\",\"Data Analyst\",\"Data Analyst\",\"Applied Scientist\",\"Applied Scientist\",\"Data Scientist\",\"Data Scientist\",\"Machine Learning Software Engineer\",\"Data Scientist\",\"NLP Engineer\",\"Data Engineer\",\"Data Engineer\",\"Data Engineer\",\"Data Engineer\",\"Data Engineer\",\"Data Engineer\",\"Data Engineer\",\"Data Engineer\",\"Data Engineer\",\"Data Engineer\",\"Applied Scientist\",\"Applied Scientist\",\"Data Engineer\",\"Data Engineer\",\"Data Analyst\",\"Data Analyst\",\"Machine Learning Engineer\",\"Machine Learning Engineer\",\"Data Engineer\",\"Data Engineer\",\"Data Engineer\",\"Data Engineer\",\"Data Engineer\",\"Data Engineer\",\"Data Scientist\",\"Data Scientist\",\"Data Engineer\",\"AI Scientist\",\"Data Engineer\",\"Data Engineer\",\"Data Analyst\",\"Data Analyst\",\"Data Scientist\",\"Data Scientist\",\"Data Analyst\",\"Data Analyst\",\"Data Scientist\",\"Data Scientist\",\"Data Engineer\",\"Data Engineer\",\"Research Engineer\",\"Research Engineer\",\"Analytics Engineer\",\"Analytics Engineer\",\"Data Scientist\",\"Data Scientist\",\"Data Analyst\",\"Data Analyst\",\"Research Scientist\",\"Research Scientist\",\"Computer Vision Engineer\",\"Data Engineer\",\"Data Engineer\",\"Data Analyst\",\"Data Analyst\",\"Data Scientist\",\"Data Scientist\",\"Machine Learning Engineer\",\"Machine Learning Engineer\",\"Data Engineer\",\"Data Engineer\",\"Data Scientist\",\"Data Scientist\",\"Data Analyst\",\"Data Analyst\",\"Research Scientist\",\"Research Scientist\",\"Data Engineer\",\"Data Engineer\",\"Data Engineer\",\"Data Engineer\",\"Data Scientist\",\"Data Scientist\",\"Data Analyst\",\"Data Analyst\",\"Data Engineer\",\"Data Engineer\",\"Data Engineer\",\"Data Engineer\",\"Data Scientist\",\"Data Scientist\",\"Data Analyst\",\"Data Analyst\",\"Data Engineer\",\"Data Engineer\",\"Machine Learning Engineer\",\"Machine Learning Engineer\",\"Data Engineer\",\"Data Engineer\",\"Machine Learning Engineer\",\"Machine Learning Engineer\",\"Data Analyst\",\"Data Analyst\",\"Data Analyst\",\"Data Analyst\",\"Data Analyst\",\"Data Analyst\",\"BI Data Analyst\",\"BI Developer\",\"BI Developer\",\"Data Analyst\",\"Data Analyst\",\"3D Computer Vision Researcher\",\"Data Analyst\",\"MLOps Engineer\",\"MLOps Engineer\",\"Data Analyst\",\"Data Analyst\",\"Data Scientist\",\"Data Scientist\",\"Data Analyst\",\"Data Analyst\",\"Data Analyst\",\"AI Scientist\",\"Machine Learning Engineer\",\"Data Engineer\",\"Data Engineer\",\"Data Engineer\",\"Data Engineer\",\"Data Specialist\",\"Data Specialist\",\"Data Analyst\",\"Data Engineer\",\"Data Engineer\",\"Data Analyst\",\"Data Analyst\",\"Data Scientist\",\"Data Scientist\",\"Data Architect\",\"Data Architect\",\"Data Scientist\",\"Data Scientist\",\"Data Scientist\",\"Data Scientist\",\"Machine Learning Engineer\",\"Machine Learning Engineer\",\"Data Analyst\",\"Data Analyst\",\"Data Analyst\",\"Data Analyst\",\"Principal Machine Learning Engineer\",\"Data Engineer\",\"Data Engineer\",\"Data Analyst\",\"Data Analyst\",\"Data Scientist\",\"Data Scientist\",\"Applied Scientist\",\"Applied Scientist\",\"Machine Learning Engineer\",\"Machine Learning Engineer\",\"Machine Learning Researcher\",\"Machine Learning Researcher\",\"Machine Learning Engineer\",\"Machine Learning Engineer\",\"Data Engineer\",\"Data Engineer\",\"Machine Learning Researcher\",\"Machine Learning Researcher\",\"Data Engineer\",\"Data Engineer\",\"Data Scientist\",\"Data Scientist\",\"Data Engineer\",\"Data Engineer\",\"Data Analyst\",\"Data Analyst\",\"Data Engineer\",\"Data Engineer\",\"Data Analyst\",\"Data Analyst\",\"Data Engineer\",\"Data Engineer\",\"Data Scientist\",\"Data Scientist\",\"Machine Learning Scientist\",\"Machine Learning Scientist\",\"Analytics Engineer\",\"Analytics Engineer\",\"Data Engineer\",\"Data Engineer\",\"Data Scientist\",\"Data Scientist\",\"Data Scientist\",\"Data Scientist\",\"Data Engineer\",\"Data Engineer\",\"Data Scientist\",\"Data Engineer\",\"Data Engineer\",\"Data Engineer\",\"Data Engineer\",\"Data Engineer\",\"Data Engineer\",\"Data Science Consultant\",\"Data Science Consultant\",\"Data Architect\",\"Data Architect\",\"Business Data Analyst\",\"Data Analyst\",\"Data Analyst\",\"Data Analytics Engineer\",\"Data Engineer\",\"Data Engineer\",\"Data Engineer\",\"Data Engineer\",\"Data Specialist\",\"Data Specialist\",\"Data Analytics Consultant\",\"Data Scientist\",\"Data Scientist\",\"Data Analyst\",\"Data Analyst\",\"Data Engineer\",\"Data Engineer\",\"Machine Learning Engineer\",\"Machine Learning Engineer\",\"Data Engineer\",\"Data Engineer\",\"Data Scientist\",\"Data Scientist\",\"Data Engineer\",\"Data Engineer\",\"Data Scientist\",\"Data Scientist\",\"Data Scientist\",\"Data Scientist\",\"Machine Learning Software Engineer\",\"Machine Learning Software Engineer\",\"3D Computer Vision Researcher\",\"Data Scientist\",\"Data Scientist\",\"ML Engineer\",\"ML Engineer\",\"Data Engineer\",\"Data Engineer\",\"Data Scientist\",\"Data Scientist\",\"Data Analyst\",\"Data Analyst\",\"Data Engineer\",\"Data Engineer\",\"Data Engineer\",\"Data Engineer\",\"Data Analyst\",\"Data Analyst\",\"Data Analyst\",\"Data Analyst\",\"Data Analyst\",\"Data Analyst\",\"Data Analyst\",\"Data Analyst\",\"Machine Learning Researcher\",\"Data Engineer\",\"Data Engineer\",\"Data Architect\",\"Data Architect\",\"Data Analyst\",\"Data Analyst\",\"Machine Learning Engineer\",\"Machine Learning Engineer\",\"Data Analyst\",\"Data Analyst\",\"Data Analyst\",\"Data Analyst\",\"Research Engineer\",\"Research Engineer\",\"Data Analyst\",\"Data Analyst\",\"Data Engineer\",\"Data Engineer\",\"Machine Learning Engineer\",\"Machine Learning Engineer\",\"Data Engineer\",\"Data Engineer\",\"Data Analyst\",\"Data Analyst\",\"Data Engineer\",\"Data Engineer\",\"Data Engineer\",\"Data Engineer\",\"Data Engineer\",\"Data Engineer\",\"Data Engineer\",\"Data Engineer\",\"Machine Learning Research Engineer\",\"3D Computer Vision Researcher\",\"Data Engineer\",\"Data Engineer\",\"Data Engineer\",\"Data Engineer\",\"Data Scientist\",\"Data Scientist\",\"Data Analyst\",\"Data Analyst\",\"Data Analyst\",\"Data Engineer\",\"Data Engineer\",\"Analytics Engineer\",\"Analytics Engineer\",\"Data Analytics Manager\",\"Data Analytics Manager\",\"Data Engineer\",\"Data Engineer\",\"Data Engineer\",\"Data Engineer\",\"Data Scientist\",\"Data Scientist\",\"Data Scientist\",\"Data Scientist\",\"Data Scientist\",\"Data Scientist\",\"Data Architect\",\"Data Architect\",\"Data Science Consultant\",\"Data Engineer\",\"Data Engineer\",\"Data Engineer\",\"Data Engineer\",\"Data Engineer\",\"Data Engineer\",\"Data Specialist\",\"Data Specialist\",\"Data Engineer\",\"Data Engineer\",\"Deep Learning Engineer\",\"Deep Learning Engineer\",\"Data Engineer\",\"Data Engineer\",\"Data Scientist\",\"Data Scientist\",\"Data Scientist\",\"Data Scientist\",\"Machine Learning Engineer\",\"BI Data Analyst\",\"Data Analyst\",\"Data Analyst\",\"Analytics Engineer\",\"Analytics Engineer\",\"Data Engineer\",\"Data Engineer\",\"Data Analyst\",\"Data Analyst\",\"Data Scientist\",\"Data Scientist\",\"Data Analyst\",\"Data Analyst\",\"Data Engineer\",\"Data Engineer\",\"Data Engineer\",\"Data Engineer\",\"Data Engineer\",\"Data Engineer\",\"Data Analyst\",\"Data Analyst\",\"Data Engineer\",\"Data Engineer\",\"Data Engineer\",\"Data Engineer\",\"Data Engineer\",\"Data Engineer\",\"Data Science Manager\",\"Data Science Manager\",\"Data Scientist\",\"Data Scientist\",\"Data Scientist\",\"Data Scientist\",\"Data Engineer\",\"Data Engineer\",\"Applied Scientist\",\"Applied Scientist\",\"Data Scientist\",\"Data Scientist\",\"Data Science Manager\",\"Data Science Manager\",\"Data Management Specialist\",\"Data Analyst\",\"Data Analyst\",\"Applied Scientist\",\"Applied Scientist\",\"Data Engineer\",\"Data Engineer\",\"Data Analyst\",\"Data Analyst\",\"Applied Scientist\",\"Applied Scientist\",\"Data Engineer\",\"Data Engineer\",\"Data Engineer\",\"Data Engineer\",\"Data Engineer\",\"Data Engineer\",\"Data Engineer\",\"Data Engineer\",\"Data Engineer\",\"Data Engineer\",\"Data Scientist\",\"Data Engineer\",\"Data Engineer\",\"Analytics Engineer\",\"Analytics Engineer\",\"Data Engineer\",\"Data Engineer\",\"Analytics Engineer\",\"Analytics Engineer\",\"Analytics Engineer\",\"Analytics Engineer\",\"Data Engineer\",\"Data Engineer\",\"Data Scientist\",\"Data Scientist\",\"Research Scientist\",\"Research Scientist\",\"Machine Learning Engineer\",\"Machine Learning Engineer\",\"Autonomous Vehicle Technician\",\"Data Engineer\",\"Data Engineer\",\"Data Scientist\",\"Data Scientist\",\"Machine Learning Engineer\",\"Machine Learning Engineer\",\"Data Scientist\",\"Data Scientist\",\"Data Scientist\",\"Data Scientist\",\"Machine Learning Engineer\",\"Machine Learning Engineer\",\"Data Engineer\",\"Data Engineer\",\"Data Analyst\",\"Data Analyst\",\"Data Analyst\",\"Data Analyst\",\"Data Scientist\",\"Data Scientist\",\"Applied Scientist\",\"Applied Scientist\",\"Data Scientist\",\"Data Science Tech Lead\",\"Data Engineer\",\"Data Engineer\",\"Data Scientist\",\"Data Scientist\",\"Data Analyst\",\"Data Analyst\",\"Machine Learning Engineer\",\"Machine Learning Engineer\",\"Machine Learning Engineer\",\"Machine Learning Engineer\",\"Data Scientist\",\"Data Scientist\",\"Data Scientist\",\"Data Scientist\",\"Data Scientist\",\"Data Scientist\",\"Data Analyst\",\"Data Analyst\",\"BI Analyst\",\"Machine Learning Engineer\",\"Machine Learning Developer\",\"Machine Learning Scientist\",\"Machine Learning Engineer\",\"Machine Learning Engineer\",\"Data Engineer\",\"Data Engineer\",\"Data Analyst\",\"Data Analyst\",\"Data Analyst\",\"Data Analyst\",\"Data Engineer\",\"Data Engineer\",\"Data Engineer\",\"Data Engineer\",\"Data Scientist\",\"Data Scientist\",\"Data Scientist\",\"Data Scientist\",\"Data Scientist\",\"Data Scientist\",\"Data Architect\",\"Data Architect\",\"Data Analyst\",\"Data Analyst\",\"Data Engineer\",\"Data Engineer\",\"Data Engineer\",\"Data Engineer\",\"Data Scientist\",\"Data Scientist\",\"Data Analyst\",\"Data Analyst\",\"Data Analyst\",\"Data Analyst\",\"Data Analyst\",\"Data Analyst\",\"Data Scientist Lead\",\"Data Engineer\",\"Data Engineer\",\"Data Engineer\",\"Data Engineer\",\"Data Manager\",\"Data Manager\",\"Data Analyst\",\"Data Analyst\",\"Data Architect\",\"Data Architect\",\"Cloud Data Engineer\",\"Data Engineer\",\"Data Engineer\",\"Data Engineer\",\"Data Engineer\",\"Data Engineer\",\"Data Engineer\",\"Machine Learning Engineer\",\"Machine Learning Engineer\",\"Data Scientist\",\"Data Scientist\",\"Data Scientist\",\"Data Scientist\",\"Data Engineer\",\"Data Engineer\",\"Data Scientist\",\"Data Scientist\",\"Data Scientist\",\"Data Scientist\",\"Head of Data\",\"Head of Data\",\"Data Analyst\",\"Data Analyst\",\"Data Engineer\",\"Data Engineer\",\"Data Engineer\",\"Data Engineer\",\"Data Scientist\",\"Data Scientist\",\"Data Engineer\",\"Data Engineer\",\"Data Engineer\",\"Data Engineer\",\"Data Scientist\",\"Data Scientist\",\"Data Engineer\",\"Data Engineer\",\"Data Scientist\",\"Data Scientist\",\"Data Analyst\",\"Data Analyst\",\"Data Analyst\",\"Data Analyst\",\"Data Scientist\",\"Data Analyst\",\"Data Scientist\",\"Machine Learning Engineer\",\"Machine Learning Engineer\",\"Data Analyst\",\"Data Analyst\",\"Data Engineer\",\"Data Engineer\",\"Data Scientist\",\"Data Scientist\",\"BI Analyst\",\"Data Analyst\",\"Data Analyst\",\"Data Analyst\",\"Data Analyst\",\"Analytics Engineer\",\"Analytics Engineer\",\"Data Analyst\",\"Data Analyst\",\"Data Engineer\",\"Data Engineer\",\"Data Scientist\",\"Data Scientist\",\"Data Scientist\",\"Data Scientist\",\"Data Analyst\",\"Data Analyst\",\"Machine Learning Engineer\",\"Machine Learning Engineer\",\"Research Engineer\",\"Data Analyst\",\"Data Engineer\",\"Data Engineer\",\"Data Engineer\",\"Data Engineer\",\"Data Engineer\",\"Data Engineer\",\"Data Operations Analyst\",\"Data Operations Analyst\",\"Data Engineer\",\"Data Engineer\",\"ML Engineer\",\"ML Engineer\",\"Data Engineer\",\"Data Engineer\",\"Data Engineer\",\"Data Engineer\",\"Machine Learning Engineer\",\"Machine Learning Engineer\",\"Data Engineer\",\"Data Engineer\",\"Analytics Engineer\",\"Analytics Engineer\",\"Data Scientist\",\"Data Scientist\",\"Data Analyst\",\"Data Analyst\",\"Data Architect\",\"Data Architect\",\"Data Operations Engineer\",\"Data Operations Engineer\",\"Data Scientist\",\"Data Scientist\",\"Data Engineer\",\"Data Engineer\",\"Data Scientist\",\"Data Scientist\",\"Data Analyst\",\"Data Analyst\",\"Data Engineer\",\"Data Engineer\",\"Data Engineer\",\"Data Engineer\",\"Data Scientist\",\"Data Scientist\",\"Data Scientist\",\"Analytics Engineer\",\"Analytics Engineer\",\"Data Engineer\",\"Data Engineer\",\"Data Analyst\",\"Data Analyst\",\"Data Engineer\",\"Data Engineer\",\"Data Architect\",\"Data Architect\",\"Data Engineer\",\"Data Engineer\",\"BI Analyst\",\"BI Analyst\",\"Data Analyst\",\"Data Analyst\",\"Data Engineer\",\"Data Engineer\",\"Data Analyst\",\"Data Analyst\",\"Data Scientist\",\"Data Scientist\",\"Data Scientist\",\"Marketing Data Analyst\",\"Data Scientist\",\"Data Science Lead\",\"Data Scientist\",\"Data Engineer\",\"Data Engineer\",\"Data Analyst\",\"Data Analyst\",\"Power BI Developer\",\"Data Engineer\",\"Data Engineer\",\"Data Engineer\",\"Data Scientist\",\"Data Scientist\",\"Data Scientist\",\"Data Scientist\",\"Data Scientist\",\"Data Scientist\",\"Machine Learning Engineer\",\"Product Data Scientist\",\"Data Scientist\",\"Data Scientist\",\"Data Analyst\",\"Data Analyst\",\"Data Scientist\",\"Data Scientist\",\"Data Engineer\",\"Data Engineer\",\"Data Scientist\",\"Data Scientist\",\"Data Scientist\",\"Data Scientist\",\"Data Engineer\",\"Data Engineer\",\"Data Scientist\",\"Data Scientist\",\"Data Scientist\",\"Data Scientist\",\"Data Scientist\",\"Data Scientist\",\"Data Scientist\",\"Data Scientist\",\"Data Scientist\",\"Data Scientist\",\"Data Engineer\",\"Data Engineer\",\"Data Analyst\",\"Data Analyst\",\"Analytics Engineer\",\"Analytics Engineer\",\"Data Science Consultant\",\"Data Science Consultant\",\"Data Scientist\",\"Data Scientist\",\"Data Analyst\",\"Data Analyst\",\"Data Engineer\",\"Data Engineer\",\"Data Engineer\",\"Data Engineer\",\"Data Scientist\",\"Data Scientist\",\"Data Scientist\",\"Data Scientist\",\"Data Engineer\",\"Data Engineer\",\"ML Engineer\",\"ML Engineer\",\"Data Analyst\",\"Data Analyst\",\"Data Architect\",\"Data Architect\",\"Data Scientist\",\"Data Scientist\",\"Data Scientist\",\"Data Scientist\",\"Data Manager\",\"Data Manager\",\"Data Analyst\",\"Data Analyst\",\"BI Data Analyst\",\"Big Data Engineer\",\"Data Scientist\",\"Data Scientist\",\"Data Scientist\",\"Principal Data Architect\",\"Data Engineer\",\"Data Engineer\",\"Data Engineer\",\"Data Engineer\",\"Data Architect\",\"Data Architect\",\"Data Scientist\",\"Machine Learning Manager\",\"Machine Learning Manager\",\"Data Manager\",\"Data Engineer\",\"Data Engineer\",\"Data Analyst\",\"Data Analyst\",\"Data Engineer\",\"Data Engineer\",\"Data Scientist\",\"Data Scientist\",\"Applied Scientist\",\"Applied Scientist\",\"Data Analyst\",\"Data Analyst\",\"Data Scientist\",\"Lead Data Scientist\",\"BI Analyst\",\"Data Scientist\",\"Data Scientist\",\"Lead Machine Learning Engineer\",\"NLP Engineer\",\"Data Analyst\",\"Research Scientist\",\"Research Scientist\",\"Data Engineer\",\"Data Engineer\",\"Analytics Engineer\",\"Analytics Engineer\",\"Machine Learning Engineer\",\"Machine Learning Engineer\",\"Data Engineer\",\"Data Engineer\",\"Analytics Engineer\",\"Analytics Engineer\",\"BI Data Analyst\",\"Data Analyst\",\"Data Analytics Engineer\",\"Data Engineer\",\"Data Engineer\",\"Data Analyst\",\"Machine Learning Engineer\",\"Machine Learning Engineer\",\"Data Engineer\",\"Data Engineer\",\"ETL Developer\",\"ETL Developer\",\"Data Engineer\",\"Data Engineer\",\"Data Scientist\",\"Data Engineer\",\"Data Engineer\",\"Data Engineer\",\"Data Engineer\",\"Data Scientist\",\"Data Scientist\",\"Data Engineer\",\"Data Engineer\",\"AI Scientist\",\"Data Scientist Lead\",\"Data Analyst\",\"Data Analyst\",\"Data Scientist\",\"Data Scientist\",\"Data Science Manager\",\"Data Science Manager\",\"Data Engineer\",\"Data Engineer\",\"Machine Learning Engineer\",\"Machine Learning Engineer\",\"Data Scientist\",\"Data Scientist\",\"Data Architect\",\"Data Architect\",\"Analytics Engineer\",\"Analytics Engineer\",\"Data Scientist\",\"Data Scientist\",\"Data Engineer\",\"Data Engineer\",\"Data Scientist\",\"Data Scientist\",\"ML Engineer\",\"ML Engineer\",\"Data Specialist\",\"Data Scientist\",\"Data Scientist\",\"Data Scientist\",\"Data Scientist\",\"Data Scientist\",\"Data Scientist\",\"Data Analyst\",\"Data Analyst\",\"Data Scientist\",\"Data Scientist\",\"Data Scientist\",\"Data Scientist\",\"Data Scientist\",\"Data Scientist\",\"Machine Learning Engineer\",\"Machine Learning Engineer\",\"Data Scientist\",\"Data Scientist\",\"Data Scientist\",\"Data Scientist\",\"Data Scientist\",\"Data Scientist\",\"Data Scientist\",\"Data Scientist\",\"Data Engineer\",\"Data Engineer\",\"ML Engineer\",\"ML Engineer\",\"Data Operations Engineer\",\"Data Operations Engineer\",\"Data Engineer\",\"Data Engineer\",\"Data Engineer\",\"Data Engineer\",\"Data Analyst\",\"Data Analyst\",\"Business Data Analyst\",\"Data Scientist\",\"Data Scientist\",\"Data Analyst\",\"Data Analyst\",\"AI Scientist\",\"Data Architect\",\"Data Architect\",\"Machine Learning Engineer\",\"Machine Learning Engineer\",\"Data Architect\",\"Data Architect\",\"Data Architect\",\"Data Architect\",\"Data Engineer\",\"Data Engineer\",\"BI Data Analyst\",\"Data Engineer\",\"Data Engineer\",\"Data Engineer\",\"Data Engineer\",\"NLP Engineer\",\"Machine Learning Engineer\",\"Business Data Analyst\",\"Data Engineer\",\"Data Engineer\",\"Data Engineer\",\"Data Engineer\",\"Analytics Engineer\",\"Analytics Engineer\",\"Data Operations Engineer\",\"Data Operations Engineer\",\"Data Scientist\",\"Data Scientist\",\"Applied Machine Learning Scientist\",\"Machine Learning Research Engineer\",\"Data Architect\",\"Data Architect\",\"Data Scientist\",\"Data Scientist\",\"Machine Learning Scientist\",\"Machine Learning Scientist\",\"Data Science Manager\",\"Data Science Manager\",\"Data Engineer\",\"Data Engineer\",\"Analytics Engineer\",\"Analytics Engineer\",\"Data Engineer\",\"Data Engineer\",\"Machine Learning Developer\",\"Data Engineer\",\"Data Scientist\",\"Data Scientist\",\"Data Operations Engineer\",\"Data Operations Engineer\",\"Data Analyst\",\"Data Scientist\",\"Data Scientist\",\"ETL Developer\",\"ETL Developer\",\"Data Manager\",\"Data Manager\",\"Data Scientist\",\"Data Scientist\",\"Director of Data Science\",\"Data Analyst\",\"Data Analyst\",\"Data Scientist\",\"Data Scientist\",\"Data Engineer\",\"Data Engineer\",\"Data Engineer\",\"Data Engineer\",\"Data Engineer\",\"Data Engineer\",\"Data Engineer\",\"Data Engineer\",\"Data Engineer\",\"Data Engineer\",\"Data Engineer\",\"Data Scientist\",\"Data Scientist\",\"Data Analyst\",\"Applied Scientist\",\"Applied Scientist\",\"Data Scientist\",\"Data Scientist\",\"Data Analyst\",\"Data Scientist\",\"Data Scientist\",\"Analytics Engineer\",\"Analytics Engineer\",\"Data Engineer\",\"Data Engineer\",\"Data Scientist\",\"Data Scientist\",\"Data Scientist\",\"Data Scientist\",\"Data Scientist\",\"Data Scientist\",\"Data Scientist\",\"Data Scientist\",\"Financial Data Analyst\",\"Data Engineer\",\"Data Engineer\",\"Data Engineer\",\"Data Engineer\",\"Data Engineer\",\"Data Engineer\",\"Data Scientist\",\"Data Scientist\",\"Data Scientist\",\"Data Scientist\",\"Analytics Engineer\",\"Analytics Engineer\",\"Data Scientist\",\"Data Scientist\",\"Data Engineer\",\"Data Engineer\",\"Data Scientist\",\"Data Scientist\",\"Data Scientist\",\"Data Scientist\",\"Data Analyst\",\"Data Scientist\",\"Data Operations Analyst\",\"Data Operations Analyst\",\"Data Analyst\",\"Data Engineer\",\"Machine Learning Scientist\",\"Machine Learning Scientist\",\"AI Scientist\",\"Data Scientist\",\"Data Scientist\",\"Analytics Engineer\",\"Analytics Engineer\",\"Data Scientist\",\"Data Scientist\",\"Computer Vision Software Engineer\",\"Data Scientist\",\"Data Scientist\",\"Data Scientist\",\"Data Scientist\",\"Data Scientist\",\"Data Scientist\",\"Data Specialist\",\"Data Specialist\",\"Applied Machine Learning Scientist\",\"Analytics Engineer\",\"Data Analyst\",\"Data Scientist\",\"Data Scientist\",\"Data Analytics Consultant\",\"Product Data Analyst\",\"Data Analyst\",\"BI Data Analyst\",\"Data Scientist\",\"Data Scientist\",\"Lead Data Scientist\",\"Analytics Engineer\",\"Analytics Engineer\",\"Data Scientist\",\"Data Scientist\",\"Research Scientist\",\"Data Engineer\",\"Data Engineer\",\"ETL Developer\",\"ETL Developer\",\"Data Scientist\",\"Data Scientist\",\"Data Scientist\",\"Data Engineer\",\"Data Engineer\",\"Analytics Engineer\",\"Analytics Engineer\",\"Analytics Engineer\",\"Analytics Engineer\",\"Data Engineer\",\"Data Engineer\",\"Machine Learning Infrastructure Engineer\",\"Machine Learning Infrastructure Engineer\",\"Lead Machine Learning Engineer\",\"Machine Learning Engineer\",\"Data Scientist\",\"Data Scientist\",\"Applied Machine Learning Scientist\",\"Data Scientist\",\"Data Scientist\",\"Machine Learning Engineer\",\"Machine Learning Engineer\",\"BI Data Analyst\",\"Data Science Manager\",\"Data Science Manager\",\"Data Scientist\",\"Data Scientist\",\"Analytics Engineer\",\"Analytics Engineer\",\"Data Analyst\",\"Data Analyst\",\"Data Scientist\",\"Data Scientist\",\"ETL Developer\",\"ETL Developer\",\"Data Engineer\",\"Data Engineer\",\"Machine Learning Engineer\",\"Machine Learning Engineer\",\"Data Science Manager\",\"Data Science Manager\",\"Machine Learning Engineer\",\"Machine Learning Engineer\",\"Data Architect\",\"Data Architect\",\"Data Engineer\",\"Data Engineer\",\"Machine Learning Engineer\",\"Machine Learning Engineer\",\"Data Engineer\",\"Data Engineer\",\"Analytics Engineer\",\"Analytics Engineer\",\"Data Engineer\",\"Data Engineer\",\"Data Analyst\",\"Data Analyst\",\"Data Engineer\",\"Data Engineer\",\"Machine Learning Engineer\",\"Machine Learning Engineer\",\"Machine Learning Engineer\",\"Data Analyst\",\"Data Analyst\",\"Data Analyst\",\"Data Analyst\",\"Data Engineer\",\"Data Engineer\",\"Machine Learning Engineer\",\"Machine Learning Engineer\",\"Data Analyst\",\"Data Scientist\",\"Data Scientist\",\"BI Data Analyst\",\"Data Scientist\",\"Data Scientist\",\"Data Engineer\",\"Data Engineer\",\"Data Architect\",\"Data Architect\",\"Data Analyst\",\"Data Scientist\",\"Lead Data Scientist\",\"Data Architect\",\"Data Architect\",\"Data Science Manager\",\"Data Science Manager\",\"Data Engineer\",\"Data Engineer\",\"Data Engineer\",\"Data Engineer\",\"Data Engineer\",\"Data Engineer\",\"Machine Learning Engineer\",\"Machine Learning Engineer\",\"Data Engineer\",\"Data Engineer\",\"Machine Learning Engineer\",\"Machine Learning Engineer\",\"Machine Learning Engineer\",\"Data Scientist\",\"Data Scientist\",\"Data Analyst\",\"Data Analyst\",\"Machine Learning Scientist\",\"Machine Learning Scientist\",\"Data Analyst\",\"Machine Learning Research Engineer\",\"Data Scientist\",\"Applied Data Scientist\",\"Cloud Data Architect\",\"Research Scientist\",\"Data Scientist\",\"Analytics Engineer\",\"Data Science Manager\",\"Data Science Manager\",\"Data Engineer\",\"Data Engineer\",\"Data Analyst\",\"Data Analyst\",\"Applied Machine Learning Scientist\",\"Data Scientist\",\"Applied Machine Learning Scientist\",\"Data Engineer\",\"Data Engineer\",\"Analytics Engineer\",\"Analytics Engineer\",\"Data Engineer\",\"Data Engineer\",\"Data Architect\",\"Data Architect\",\"Data Engineer\",\"Data Engineer\",\"Analytics Engineer\",\"Data Engineer\",\"Data Engineer\",\"Data Scientist\",\"Data Scientist\",\"Data Specialist\",\"Data Specialist\",\"Machine Learning Engineer\",\"Data Analyst\",\"Data Engineer\",\"Data Engineer\",\"Data Scientist\",\"Data Science Manager\",\"Data Science Manager\",\"Data Engineer\",\"Data Engineer\",\"Data Scientist\",\"Data Analyst\",\"Data Analyst\",\"Machine Learning Engineer\",\"Machine Learning Engineer\",\"Data Analyst\",\"Data Analyst\",\"Data Scientist\",\"Data Scientist\",\"Data Engineer\",\"Data Engineer\",\"Data Engineer\",\"Data Engineer\",\"Data Analyst\",\"Data Analyst\",\"Data Engineer\",\"Data Engineer\",\"Data Engineer\",\"Data Engineer\",\"Data Scientist\",\"Data Scientist\",\"Business Data Analyst\",\"Data Scientist\",\"Data Analyst\",\"AI Scientist\",\"Machine Learning Developer\",\"Data Scientist\",\"Data Engineer\",\"Data Engineer\",\"Data Analyst\",\"Data Analyst\",\"Machine Learning Scientist\",\"Data Scientist\",\"Data Scientist\",\"Machine Learning Engineer\",\"Machine Learning Engineer\",\"Data Analyst\",\"Data Analyst\",\"Data Engineer\",\"Data Engineer\",\"Data Science Manager\",\"Machine Learning Engineer\",\"Data Engineer\",\"Data Engineer\",\"Data Scientist\",\"Data Scientist\",\"Data Analyst\",\"Data Analyst\",\"ML Engineer\",\"ML Engineer\",\"Data Science Manager\",\"Data Science Manager\",\"Data Engineer\",\"AI Scientist\",\"Machine Learning Engineer\",\"Machine Learning Engineer\",\"AI Scientist\",\"Data Analyst\",\"Data Analyst\",\"Data Analytics Manager\",\"Data Analytics Manager\",\"Data Scientist\",\"Data Engineer\",\"Data Engineer\",\"Data Scientist\",\"Data Scientist\",\"Data Engineer\",\"Data Engineer\",\"Data Analyst\",\"Data Analyst\",\"Data Engineer\",\"Data Engineer\",\"Machine Learning Engineer\",\"Data Analyst\",\"Data Analyst\",\"Data Scientist\",\"Data Scientist\",\"Machine Learning Engineer\",\"Machine Learning Engineer\",\"ETL Developer\",\"ETL Developer\",\"Lead Data Engineer\",\"Data Engineer\",\"Data Engineer\",\"Data Architect\",\"Data Architect\",\"Data Engineer\",\"Data Engineer\",\"Data Analyst\",\"Data Analyst\",\"Head of Machine Learning\",\"Machine Learning Engineer\",\"Data Engineer\",\"Data Engineer\",\"Data Analyst\",\"Data Analyst\",\"Data Analyst\",\"Data Analyst\",\"Data Engineer\",\"Data Engineer\",\"Data Engineer\",\"Data Engineer\",\"Data Engineer\",\"Data Engineer\",\"Machine Learning Engineer\",\"Machine Learning Engineer\",\"Data Analyst\",\"Data Analyst\",\"Data Engineer\",\"Data Engineer\",\"Data Scientist\",\"Data Scientist\",\"Data Engineer\",\"Data Engineer\",\"Data Scientist\",\"Data Scientist\",\"Data Scientist\",\"Data Scientist\",\"Data Engineer\",\"Data Engineer\",\"Data Engineer\",\"Data Engineer\",\"Machine Learning Engineer\",\"Data Science Engineer\",\"Data Engineer\",\"Data Engineer\",\"Machine Learning Scientist\",\"Machine Learning Scientist\",\"Data Science Manager\",\"Data Science Manager\",\"Data Scientist\",\"Data Scientist\",\"Data Analyst\",\"Data Analyst\",\"Data Engineer\",\"Data Engineer\",\"Data Engineer\",\"Data Engineer\",\"Data Scientist\",\"Data Scientist\",\"Data Engineer\",\"Data Engineer\",\"Data Scientist\",\"Data Scientist\",\"Data Analyst\",\"Data Analyst\",\"Data Engineer\",\"Data Engineer\",\"Data Engineer\",\"Data Engineer\",\"Data Scientist\",\"Data Scientist\",\"Data Analyst\",\"Data Analyst\",\"Data Analyst\",\"Data Analyst\",\"Data Analyst\",\"Data Analyst\",\"Data Scientist\",\"Data Scientist\",\"Data Engineer\",\"Data Engineer\",\"Data Analyst\",\"Data Analyst\",\"Data Scientist\",\"Data Scientist\",\"Data Scientist\",\"Data Scientist\",\"Data Scientist\",\"Data Scientist\",\"Data Engineer\",\"Data Engineer\",\"Data Analyst\",\"Data Analyst\",\"Data Analyst\",\"Data Analyst\",\"Data Science Manager\",\"Data Science Manager\",\"Data Scientist\",\"Data Scientist\",\"Data Engineer\",\"Data Engineer\",\"Data Scientist\",\"Data Scientist\",\"Data Architect\",\"Data Architect\",\"Data Analyst\",\"Data Analyst\",\"Data Analyst\",\"Data Analyst\",\"Data Engineer\",\"Data Engineer\",\"Data Scientist\",\"Data Scientist\",\"Data Analyst\",\"Data Analyst\",\"Data Analyst\",\"Data Analyst\",\"Data Analyst\",\"Data Analyst\",\"Data Engineer\",\"Data Engineer\",\"Data Engineer\",\"Data Engineer\",\"Data Analyst\",\"Data Analyst\",\"Data Engineer\",\"Data Engineer\",\"Head of Data Science\",\"Head of Data Science\",\"Analytics Engineer\",\"Analytics Engineer\",\"Data Engineer\",\"Data Engineer\",\"Data Engineer\",\"Data Engineer\",\"Data Scientist\",\"Data Scientist\",\"Data Scientist\",\"Data Scientist\",\"Data Engineer\",\"Data Engineer\",\"Data Engineer\",\"Data Engineer\",\"Data Scientist\",\"Data Scientist\",\"Analytics Engineer\",\"Analytics Engineer\",\"Data Engineer\",\"Data Engineer\",\"Data Analyst\",\"Data Analyst\",\"Data Engineer\",\"Data Engineer\",\"Data Analyst\",\"Data Analyst\",\"Data Analyst\",\"Data Analyst\",\"Machine Learning Engineer\",\"Machine Learning Engineer\",\"Data Architect\",\"Data Architect\",\"Data Engineer\",\"Data Engineer\",\"Data Scientist\",\"Data Scientist\",\"Data Analyst\",\"Data Analyst\",\"Data Engineer\",\"Data Engineer\",\"Data Engineer\",\"Data Engineer\",\"Data Analyst\",\"Data Analyst\",\"Data Analyst\",\"Data Analyst\",\"Data Architect\",\"Data Architect\",\"Data Scientist\",\"Data Scientist\",\"Data Analytics Manager\",\"Data Analytics Manager\",\"Data Analyst\",\"Data Analyst\",\"Data Scientist\",\"Data Scientist\",\"Data Analyst\",\"Data Analyst\",\"Data Engineer\",\"Data Engineer\",\"Data Analyst\",\"Data Analyst\",\"Data Scientist\",\"Data Scientist\",\"Data Scientist\",\"Data Scientist\",\"Data Scientist\",\"Data Scientist\",\"Data Analyst\",\"Data Analyst\",\"Data Scientist\",\"Data Scientist\",\"Data Analyst\",\"Data Analyst\",\"Data Engineer\",\"Data Engineer\",\"Data Analyst\",\"Data Analyst\",\"Data Engineer\",\"Data Engineer\",\"Data Analyst\",\"Data Analyst\",\"Data Analyst\",\"Data Analyst\",\"Data Scientist\",\"Data Scientist\",\"Data Analyst\",\"Data Analyst\",\"Data Scientist\",\"Data Scientist\",\"Data Scientist\",\"Data Scientist\",\"Machine Learning Engineer\",\"Machine Learning Engineer\",\"Data Scientist\",\"Data Scientist\",\"Machine Learning Engineer\",\"Machine Learning Engineer\",\"Data Engineer\",\"Data Engineer\",\"Data Engineer\",\"Data Engineer\",\"Data Scientist\",\"Data Scientist\",\"Data Engineer\",\"Data Engineer\",\"Machine Learning Developer\",\"Machine Learning Manager\",\"Director of Data Science\",\"Machine Learning Engineer\",\"Business Data Analyst\",\"Data Scientist\",\"Machine Learning Infrastructure Engineer\",\"Data Engineer\",\"Data Scientist\",\"Applied Machine Learning Scientist\",\"Applied Data Scientist\",\"Business Data Analyst\",\"Data Engineer\",\"Machine Learning Engineer\",\"Data Scientist\",\"Data Scientist\",\"Computer Vision Engineer\",\"Data Analyst\",\"Head of Data\",\"Head of Data\",\"Data Scientist\",\"Data Scientist\",\"Data Engineer\",\"Data Engineer\",\"Machine Learning Engineer\",\"Data Scientist\",\"Head of Data\",\"Machine Learning Engineer\",\"Data Engineer\",\"Research Scientist\",\"Data Scientist\",\"Data Scientist\",\"Machine Learning Scientist\",\"Data Scientist\",\"Machine Learning Developer\",\"Data Scientist\",\"Principal Data Analyst\",\"Product Data Analyst\",\"Applied Machine Learning Scientist\",\"Research Scientist\",\"Data Engineer\",\"Research Scientist\",\"Data Science Manager\",\"Research Scientist\",\"Data Scientist\",\"Data Analytics Lead\",\"Data Engineer\",\"Data Science Manager\",\"Data Analyst\",\"Data Scientist\",\"Applied Data Scientist\",\"Data Scientist\",\"Applied Data Scientist\",\"Data Engineer\",\"Data Scientist\",\"Data Analytics Engineer\",\"Principal Data Scientist\",\"ML Engineer\",\"ML Engineer\",\"Computer Vision Software Engineer\",\"Data Analyst\",\"Data Scientist\",\"Data Scientist\",\"Data Scientist\",\"Research Scientist\",\"Principal Data Scientist\",\"Computer Vision Engineer\",\"Applied Machine Learning Scientist\",\"Financial Data Analyst\",\"Data Scientist\",\"Data Scientist\",\"Lead Data Scientist\",\"Data Engineer\",\"Lead Machine Learning Engineer\",\"Machine Learning Engineer\",\"Computer Vision Engineer\",\"Data Scientist\",\"Machine Learning Scientist\",\"Data Analyst\",\"Applied Data Scientist\",\"ML Engineer\",\"Data Analyst\",\"Principal Data Engineer\",\"Big Data Engineer\",\"Data Engineer\",\"Machine Learning Developer\",\"Data Engineer\",\"Machine Learning Engineer\",\"Data Engineer\",\"Research Scientist\",\"Data Engineer\",\"Data Architect\",\"Data Architect\",\"BI Data Analyst\",\"Director of Data Science\",\"Data Engineer\",\"Big Data Engineer\",\"Director of Data Science\",\"Data Science Consultant\",\"Data Scientist\",\"Head of Data Science\",\"Head of Data\",\"Machine Learning Engineer\",\"Data Analytics Manager\",\"Research Scientist\",\"Data Analyst\",\"Data Engineer\",\"Data Science Engineer\",\"Data Science Manager\",\"Data Scientist\",\"Data Scientist\",\"Data Scientist\",\"Data Science Consultant\",\"Data Engineer\",\"Data Engineer\",\"Data Analyst\",\"Data Analyst\",\"Data Scientist\",\"AI Scientist\",\"3D Computer Vision Researcher\",\"ML Engineer\",\"Applied Data Scientist\",\"Machine Learning Engineer\",\"Director of Data Science\",\"Data Engineer\",\"Data Analytics Engineer\",\"Research Scientist\",\"Machine Learning Engineer\",\"Data Analyst\",\"Data Analyst\",\"Data Analyst\",\"Machine Learning Engineer\",\"Data Engineer\",\"Data Analytics Engineer\",\"Lead Data Analyst\",\"Data Analyst\",\"Data Scientist\",\"BI Data Analyst\",\"Data Scientist\",\"Head of Data\",\"BI Data Analyst\",\"Data Engineer\",\"Machine Learning Scientist\",\"Data Science Consultant\",\"Machine Learning Infrastructure Engineer\",\"Marketing Data Analyst\",\"Lead Data Engineer\",\"Data Engineer\",\"Machine Learning Engineer\",\"Data Engineer\",\"Data Engineer\",\"Data Engineer\",\"Research Scientist\",\"Data Analyst\",\"Data Engineer\",\"Data Engineer\",\"BI Data Analyst\",\"Data Engineer\",\"ML Engineer\",\"Computer Vision Software Engineer\",\"Computer Vision Software Engineer\",\"Data Scientist\",\"Cloud Data Engineer\",\"Data Scientist\",\"Lead Data Engineer\",\"Data Engineer\",\"Cloud Data Engineer\",\"Data Scientist\",\"Data Engineer\",\"Data Engineer\",\"Data Analyst\",\"Data Scientist\",\"Research Scientist\",\"Data Scientist\",\"Data Engineer\",\"Data Analyst\",\"Data Engineer\",\"Principal Data Analyst\",\"Data Engineer\",\"Data Engineer\",\"Data Scientist\",\"Data Engineer\",\"Data Analyst\",\"Big Data Architect\",\"Data Scientist\",\"Data Analyst\",\"Data Scientist\",\"Data Engineer\",\"Research Scientist\",\"Lead Data Scientist\",\"Research Scientist\",\"Machine Learning Scientist\",\"Head of Data Science\",\"Data Architect\",\"Data Analyst\",\"Big Data Engineer\",\"Data Engineer\",\"ML Engineer\",\"Data Engineer\",\"Data Scientist\",\"Data Engineer\",\"Machine Learning Engineer\",\"Data Engineer\",\"Research Scientist\",\"Data Engineer\",\"Machine Learning Engineer\",\"Data Scientist\",\"AI Scientist\",\"Data Scientist\",\"Data Scientist\",\"Data Scientist\",\"Machine Learning Engineer\",\"Data Science Consultant\",\"Staff Data Scientist\",\"Data Analyst\",\"Data Engineer\",\"Data Engineer\",\"Data Engineer\",\"Data Engineer\",\"Lead Data Engineer\",\"Data Scientist\",\"Machine Learning Engineer\",\"Data Scientist\",\"Data Analyst\",\"Lead Data Scientist\",\"Director of Data Science\",\"Big Data Engineer\",\"Data Analyst\",\"Data Scientist\",\"Data Scientist\",\"Machine Learning Engineer\",\"Data Science Manager\",\"Machine Learning Engineer\",\"BI Data Analyst\",\"Data Scientist\",\"Research Scientist\",\"Data Science Manager\",\"Business Data Analyst\",\"Machine Learning Engineer\",\"Lead Data Engineer\",\"Data Scientist\",\"Data Scientist\",\"Data Science Consultant\",\"Data Analytics Engineer\",\"Data Scientist\",\"Lead Data Analyst\",\"Data Engineer\",\"Data Scientist\",\"Big Data Engineer\",\"Data Scientist\",\"Machine Learning Engineer\",\"Data Scientist\",\"Data Science Consultant\",\"Data Scientist\",\"Machine Learning Infrastructure Engineer\",\"Data Scientist\",\"Data Analyst\",\"Principal Data Scientist\",\"Machine Learning Scientist\",\"Data Scientist\",\"Data Scientist\",\"Data Scientist\",\"Machine Learning Engineer\",\"Data Analyst\",\"Data Engineer\",\"Big Data Engineer\",\"Machine Learning Engineer\",\"Data Science Consultant\",\"Lead Data Engineer\",\"Computer Vision Engineer\",\"Data Scientist\",\"Product Data Analyst\",\"Data Engineer\",\"BI Data Analyst\",\"Data Engineer\",\"Research Scientist\",\"Machine Learning Engineer\",\"Data Analytics Manager\",\"Data Engineer\",\"Director of Data Science\",\"Machine Learning Engineer\",\"AI Scientist\",\"Data Scientist\",\"Research Scientist\",\"Data Science Engineer\",\"Data Scientist\",\"Data Engineer\",\"Big Data Engineer\",\"Data Scientist\",\"Principal Data Engineer\",\"Data Scientist\",\"Data Scientist\",\"Data Scientist\",\"Data Engineer\",\"Data Analytics Manager\",\"Data Scientist\",\"Data Scientist\",\"Finance Data Analyst\",\"Machine Learning Scientist\",\"Data Engineer\",\"Machine Learning Engineer\",\"Data Science Manager\",\"Big Data Engineer\",\"Computer Vision Engineer\",\"Data Scientist\",\"Computer Vision Engineer\",\"Business Data Analyst\",\"Principal Data Scientist\",\"Principal Data Scientist\",\"Data Scientist\",\"Data Scientist\",\"AI Scientist\",\"Data Scientist\",\"Data Scientist\",\"Data Scientist\",\"Principal Data Scientist\",\"Lead Data Analyst\",\"AI Scientist\",\"Data Analyst\",\"Data Analyst\",\"Data Scientist\",\"Data Engineer\",\"Data Science Manager\",\"Data Scientist\",\"Data Scientist\",\"Data Engineer\",\"Machine Learning Engineer\",\"Director of Data Science\",\"Data Scientist\",\"Applied Machine Learning Scientist\",\"Data Engineer\",\"Data Specialist\",\"Data Scientist\",\"Principal Data Scientist\",\"Data Scientist\",\"Business Data Analyst\",\"Data Science Manager\"],\"y0\":\" \",\"yaxis\":\"y\",\"type\":\"box\"}],                        {\"template\":{\"data\":{\"histogram2dcontour\":[{\"type\":\"histogram2dcontour\",\"colorbar\":{\"outlinewidth\":0,\"ticks\":\"\"},\"colorscale\":[[0.0,\"#0d0887\"],[0.1111111111111111,\"#46039f\"],[0.2222222222222222,\"#7201a8\"],[0.3333333333333333,\"#9c179e\"],[0.4444444444444444,\"#bd3786\"],[0.5555555555555556,\"#d8576b\"],[0.6666666666666666,\"#ed7953\"],[0.7777777777777778,\"#fb9f3a\"],[0.8888888888888888,\"#fdca26\"],[1.0,\"#f0f921\"]]}],\"choropleth\":[{\"type\":\"choropleth\",\"colorbar\":{\"outlinewidth\":0,\"ticks\":\"\"}}],\"histogram2d\":[{\"type\":\"histogram2d\",\"colorbar\":{\"outlinewidth\":0,\"ticks\":\"\"},\"colorscale\":[[0.0,\"#0d0887\"],[0.1111111111111111,\"#46039f\"],[0.2222222222222222,\"#7201a8\"],[0.3333333333333333,\"#9c179e\"],[0.4444444444444444,\"#bd3786\"],[0.5555555555555556,\"#d8576b\"],[0.6666666666666666,\"#ed7953\"],[0.7777777777777778,\"#fb9f3a\"],[0.8888888888888888,\"#fdca26\"],[1.0,\"#f0f921\"]]}],\"heatmap\":[{\"type\":\"heatmap\",\"colorbar\":{\"outlinewidth\":0,\"ticks\":\"\"},\"colorscale\":[[0.0,\"#0d0887\"],[0.1111111111111111,\"#46039f\"],[0.2222222222222222,\"#7201a8\"],[0.3333333333333333,\"#9c179e\"],[0.4444444444444444,\"#bd3786\"],[0.5555555555555556,\"#d8576b\"],[0.6666666666666666,\"#ed7953\"],[0.7777777777777778,\"#fb9f3a\"],[0.8888888888888888,\"#fdca26\"],[1.0,\"#f0f921\"]]}],\"heatmapgl\":[{\"type\":\"heatmapgl\",\"colorbar\":{\"outlinewidth\":0,\"ticks\":\"\"},\"colorscale\":[[0.0,\"#0d0887\"],[0.1111111111111111,\"#46039f\"],[0.2222222222222222,\"#7201a8\"],[0.3333333333333333,\"#9c179e\"],[0.4444444444444444,\"#bd3786\"],[0.5555555555555556,\"#d8576b\"],[0.6666666666666666,\"#ed7953\"],[0.7777777777777778,\"#fb9f3a\"],[0.8888888888888888,\"#fdca26\"],[1.0,\"#f0f921\"]]}],\"contourcarpet\":[{\"type\":\"contourcarpet\",\"colorbar\":{\"outlinewidth\":0,\"ticks\":\"\"}}],\"contour\":[{\"type\":\"contour\",\"colorbar\":{\"outlinewidth\":0,\"ticks\":\"\"},\"colorscale\":[[0.0,\"#0d0887\"],[0.1111111111111111,\"#46039f\"],[0.2222222222222222,\"#7201a8\"],[0.3333333333333333,\"#9c179e\"],[0.4444444444444444,\"#bd3786\"],[0.5555555555555556,\"#d8576b\"],[0.6666666666666666,\"#ed7953\"],[0.7777777777777778,\"#fb9f3a\"],[0.8888888888888888,\"#fdca26\"],[1.0,\"#f0f921\"]]}],\"surface\":[{\"type\":\"surface\",\"colorbar\":{\"outlinewidth\":0,\"ticks\":\"\"},\"colorscale\":[[0.0,\"#0d0887\"],[0.1111111111111111,\"#46039f\"],[0.2222222222222222,\"#7201a8\"],[0.3333333333333333,\"#9c179e\"],[0.4444444444444444,\"#bd3786\"],[0.5555555555555556,\"#d8576b\"],[0.6666666666666666,\"#ed7953\"],[0.7777777777777778,\"#fb9f3a\"],[0.8888888888888888,\"#fdca26\"],[1.0,\"#f0f921\"]]}],\"mesh3d\":[{\"type\":\"mesh3d\",\"colorbar\":{\"outlinewidth\":0,\"ticks\":\"\"}}],\"scatter\":[{\"fillpattern\":{\"fillmode\":\"overlay\",\"size\":10,\"solidity\":0.2},\"type\":\"scatter\"}],\"parcoords\":[{\"type\":\"parcoords\",\"line\":{\"colorbar\":{\"outlinewidth\":0,\"ticks\":\"\"}}}],\"scatterpolargl\":[{\"type\":\"scatterpolargl\",\"marker\":{\"colorbar\":{\"outlinewidth\":0,\"ticks\":\"\"}}}],\"bar\":[{\"error_x\":{\"color\":\"#2a3f5f\"},\"error_y\":{\"color\":\"#2a3f5f\"},\"marker\":{\"line\":{\"color\":\"#E5ECF6\",\"width\":0.5},\"pattern\":{\"fillmode\":\"overlay\",\"size\":10,\"solidity\":0.2}},\"type\":\"bar\"}],\"scattergeo\":[{\"type\":\"scattergeo\",\"marker\":{\"colorbar\":{\"outlinewidth\":0,\"ticks\":\"\"}}}],\"scatterpolar\":[{\"type\":\"scatterpolar\",\"marker\":{\"colorbar\":{\"outlinewidth\":0,\"ticks\":\"\"}}}],\"histogram\":[{\"marker\":{\"pattern\":{\"fillmode\":\"overlay\",\"size\":10,\"solidity\":0.2}},\"type\":\"histogram\"}],\"scattergl\":[{\"type\":\"scattergl\",\"marker\":{\"colorbar\":{\"outlinewidth\":0,\"ticks\":\"\"}}}],\"scatter3d\":[{\"type\":\"scatter3d\",\"line\":{\"colorbar\":{\"outlinewidth\":0,\"ticks\":\"\"}},\"marker\":{\"colorbar\":{\"outlinewidth\":0,\"ticks\":\"\"}}}],\"scattermapbox\":[{\"type\":\"scattermapbox\",\"marker\":{\"colorbar\":{\"outlinewidth\":0,\"ticks\":\"\"}}}],\"scatterternary\":[{\"type\":\"scatterternary\",\"marker\":{\"colorbar\":{\"outlinewidth\":0,\"ticks\":\"\"}}}],\"scattercarpet\":[{\"type\":\"scattercarpet\",\"marker\":{\"colorbar\":{\"outlinewidth\":0,\"ticks\":\"\"}}}],\"carpet\":[{\"aaxis\":{\"endlinecolor\":\"#2a3f5f\",\"gridcolor\":\"white\",\"linecolor\":\"white\",\"minorgridcolor\":\"white\",\"startlinecolor\":\"#2a3f5f\"},\"baxis\":{\"endlinecolor\":\"#2a3f5f\",\"gridcolor\":\"white\",\"linecolor\":\"white\",\"minorgridcolor\":\"white\",\"startlinecolor\":\"#2a3f5f\"},\"type\":\"carpet\"}],\"table\":[{\"cells\":{\"fill\":{\"color\":\"#EBF0F8\"},\"line\":{\"color\":\"white\"}},\"header\":{\"fill\":{\"color\":\"#C8D4E3\"},\"line\":{\"color\":\"white\"}},\"type\":\"table\"}],\"barpolar\":[{\"marker\":{\"line\":{\"color\":\"#E5ECF6\",\"width\":0.5},\"pattern\":{\"fillmode\":\"overlay\",\"size\":10,\"solidity\":0.2}},\"type\":\"barpolar\"}],\"pie\":[{\"automargin\":true,\"type\":\"pie\"}]},\"layout\":{\"autotypenumbers\":\"strict\",\"colorway\":[\"#636efa\",\"#EF553B\",\"#00cc96\",\"#ab63fa\",\"#FFA15A\",\"#19d3f3\",\"#FF6692\",\"#B6E880\",\"#FF97FF\",\"#FECB52\"],\"font\":{\"color\":\"#2a3f5f\"},\"hovermode\":\"closest\",\"hoverlabel\":{\"align\":\"left\"},\"paper_bgcolor\":\"white\",\"plot_bgcolor\":\"#E5ECF6\",\"polar\":{\"bgcolor\":\"#E5ECF6\",\"angularaxis\":{\"gridcolor\":\"white\",\"linecolor\":\"white\",\"ticks\":\"\"},\"radialaxis\":{\"gridcolor\":\"white\",\"linecolor\":\"white\",\"ticks\":\"\"}},\"ternary\":{\"bgcolor\":\"#E5ECF6\",\"aaxis\":{\"gridcolor\":\"white\",\"linecolor\":\"white\",\"ticks\":\"\"},\"baxis\":{\"gridcolor\":\"white\",\"linecolor\":\"white\",\"ticks\":\"\"},\"caxis\":{\"gridcolor\":\"white\",\"linecolor\":\"white\",\"ticks\":\"\"}},\"coloraxis\":{\"colorbar\":{\"outlinewidth\":0,\"ticks\":\"\"}},\"colorscale\":{\"sequential\":[[0.0,\"#0d0887\"],[0.1111111111111111,\"#46039f\"],[0.2222222222222222,\"#7201a8\"],[0.3333333333333333,\"#9c179e\"],[0.4444444444444444,\"#bd3786\"],[0.5555555555555556,\"#d8576b\"],[0.6666666666666666,\"#ed7953\"],[0.7777777777777778,\"#fb9f3a\"],[0.8888888888888888,\"#fdca26\"],[1.0,\"#f0f921\"]],\"sequentialminus\":[[0.0,\"#0d0887\"],[0.1111111111111111,\"#46039f\"],[0.2222222222222222,\"#7201a8\"],[0.3333333333333333,\"#9c179e\"],[0.4444444444444444,\"#bd3786\"],[0.5555555555555556,\"#d8576b\"],[0.6666666666666666,\"#ed7953\"],[0.7777777777777778,\"#fb9f3a\"],[0.8888888888888888,\"#fdca26\"],[1.0,\"#f0f921\"]],\"diverging\":[[0,\"#8e0152\"],[0.1,\"#c51b7d\"],[0.2,\"#de77ae\"],[0.3,\"#f1b6da\"],[0.4,\"#fde0ef\"],[0.5,\"#f7f7f7\"],[0.6,\"#e6f5d0\"],[0.7,\"#b8e186\"],[0.8,\"#7fbc41\"],[0.9,\"#4d9221\"],[1,\"#276419\"]]},\"xaxis\":{\"gridcolor\":\"white\",\"linecolor\":\"white\",\"ticks\":\"\",\"title\":{\"standoff\":15},\"zerolinecolor\":\"white\",\"automargin\":true,\"zerolinewidth\":2},\"yaxis\":{\"gridcolor\":\"white\",\"linecolor\":\"white\",\"ticks\":\"\",\"title\":{\"standoff\":15},\"zerolinecolor\":\"white\",\"automargin\":true,\"zerolinewidth\":2},\"scene\":{\"xaxis\":{\"backgroundcolor\":\"#E5ECF6\",\"gridcolor\":\"white\",\"linecolor\":\"white\",\"showbackground\":true,\"ticks\":\"\",\"zerolinecolor\":\"white\",\"gridwidth\":2},\"yaxis\":{\"backgroundcolor\":\"#E5ECF6\",\"gridcolor\":\"white\",\"linecolor\":\"white\",\"showbackground\":true,\"ticks\":\"\",\"zerolinecolor\":\"white\",\"gridwidth\":2},\"zaxis\":{\"backgroundcolor\":\"#E5ECF6\",\"gridcolor\":\"white\",\"linecolor\":\"white\",\"showbackground\":true,\"ticks\":\"\",\"zerolinecolor\":\"white\",\"gridwidth\":2}},\"shapedefaults\":{\"line\":{\"color\":\"#2a3f5f\"}},\"annotationdefaults\":{\"arrowcolor\":\"#2a3f5f\",\"arrowhead\":0,\"arrowwidth\":1},\"geo\":{\"bgcolor\":\"white\",\"landcolor\":\"#E5ECF6\",\"subunitcolor\":\"white\",\"showland\":true,\"showlakes\":true,\"lakecolor\":\"white\"},\"title\":{\"x\":0.05},\"mapbox\":{\"style\":\"light\"}}},\"xaxis\":{\"anchor\":\"y\",\"domain\":[0.0,1.0],\"title\":{\"text\":\"Salary in USD\"}},\"yaxis\":{\"anchor\":\"x\",\"domain\":[0.0,1.0],\"title\":{\"text\":\"Job Title\"}},\"legend\":{\"tracegroupgap\":0},\"margin\":{\"t\":100},\"boxmode\":\"group\",\"title\":{\"font\":{\"size\":22},\"text\":\"Boxplot of Salary in USD for each Job Title\",\"x\":0.48,\"xanchor\":\"center\",\"yanchor\":\"top\"},\"height\":1600},                        {\"responsive\": true}                    ).then(function(){\n",
              "                            \n",
              "var gd = document.getElementById('f2e00442-e137-4060-8145-43d261797c67');\n",
              "var x = new MutationObserver(function (mutations, observer) {{\n",
              "        var display = window.getComputedStyle(gd).display;\n",
              "        if (!display || display === 'none') {{\n",
              "            console.log([gd, 'removed!']);\n",
              "            Plotly.purge(gd);\n",
              "            observer.disconnect();\n",
              "        }}\n",
              "}});\n",
              "\n",
              "// Listen for the removal of the full notebook cells\n",
              "var notebookContainer = gd.closest('#notebook-container');\n",
              "if (notebookContainer) {{\n",
              "    x.observe(notebookContainer, {childList: true});\n",
              "}}\n",
              "\n",
              "// Listen for the clearing of the current output cell\n",
              "var outputEl = gd.closest('.output');\n",
              "if (outputEl) {{\n",
              "    x.observe(outputEl, {childList: true});\n",
              "}}\n",
              "\n",
              "                        })                };                            </script>        </div>\n",
              "</body>\n",
              "</html>"
            ]
          },
          "metadata": {}
        }
      ]
    },
    {
      "cell_type": "code",
      "source": [
        "sns.histplot(x='salary_in_usd', data=df)"
      ],
      "metadata": {
        "colab": {
          "base_uri": "https://localhost:8080/",
          "height": 467
        },
        "id": "GMlirmrendBG",
        "outputId": "f26cc4bf-a0a9-4448-b5bb-d14872f2b93e"
      },
      "execution_count": null,
      "outputs": [
        {
          "output_type": "execute_result",
          "data": {
            "text/plain": [
              "<Axes: xlabel='salary_in_usd', ylabel='Count'>"
            ]
          },
          "metadata": {},
          "execution_count": 15
        },
        {
          "output_type": "display_data",
          "data": {
            "text/plain": [
              "<Figure size 640x480 with 1 Axes>"
            ],
            "image/png": "[encoded data removed]"
          },
          "metadata": {}
        }
      ]
    },
    {
      "cell_type": "code",
      "source": [
        "fig = px.histogram(df, x=\"employment_type\", color=\"experience_level\", barmode=\"group\")\n",
        "fig.update_layout(title={'text': \"Employment Types by their Experience\",\n",
        "                         'x': 0.48,  \n",
        "                         'xanchor': 'center',  \n",
        "                         'yanchor': 'top',\n",
        "                         'font': {'size': 22}},\n",
        "                  margin={'t': 100},\n",
        "                  xaxis_title=\"Employment Type\")\n",
        "fig.show()"
      ],
      "metadata": {
        "id": "eKZwRdTia_u-",
        "colab": {
          "base_uri": "https://localhost:8080/",
          "height": 542
        },
        "outputId": "ca5925e5-f9be-402e-a93e-293684f2d242"
      },
      "execution_count": null,
      "outputs": [
        {
          "output_type": "display_data",
          "data": {
            "text/html": [
              "<html>\n",
              "<head><meta charset=\"utf-8\" /></head>\n",
              "<body>\n",
              "    <div>            <script src=\"https://cdnjs.cloudflare.com/ajax/libs/mathjax/2.7.5/MathJax.js?config=TeX-AMS-MML_SVG\"></script><script type=\"text/javascript\">if (window.MathJax && window.MathJax.Hub && window.MathJax.Hub.Config) {window.MathJax.Hub.Config({SVG: {font: \"STIX-Web\"}});}</script>                <script type=\"text/javascript\">window.PlotlyConfig = {MathJaxConfig: 'local'};</script>\n",
              "        <script src=\"https://cdn.plot.ly/plotly-2.18.2.min.js\"></script>                <div id=\"30d3c900-82a1-475d-bb11-b89e4aef5e1c\" class=\"plotly-graph-div\" style=\"height:525px; width:100%;\"></div>            <script type=\"text/javascript\">                                    window.PLOTLYENV=window.PLOTLYENV || {};                                    if (document.getElementById(\"30d3c900-82a1-475d-bb11-b89e4aef5e1c\")) {                    Plotly.newPlot(                        \"30d3c900-82a1-475d-bb11-b89e4aef5e1c\",                        [{\"alignmentgroup\":\"True\",\"bingroup\":\"x\",\"hovertemplate\":\"experience_level=SE<br>employment_type=%{x}<br>count=%{y}<extra></extra>\",\"legendgroup\":\"SE\",\"marker\":{\"color\":\"#636efa\",\"pattern\":{\"shape\":\"\"}},\"name\":\"SE\",\"offsetgroup\":\"SE\",\"orientation\":\"v\",\"showlegend\":true,\"x\":[\"FT\",\"FT\",\"FT\",\"FT\",\"FT\",\"FT\",\"FT\",\"FT\",\"FT\",\"FT\",\"FT\",\"FT\",\"FT\",\"FT\",\"FT\",\"FT\",\"FT\",\"FT\",\"FT\",\"FT\",\"FT\",\"FT\",\"FT\",\"FT\",\"FT\",\"FT\",\"FT\",\"FT\",\"FT\",\"FT\",\"FT\",\"FT\",\"FT\",\"FT\",\"FT\",\"FT\",\"FT\",\"FT\",\"FT\",\"FT\",\"FT\",\"FT\",\"FT\",\"FT\",\"FT\",\"FT\",\"FT\",\"FT\",\"FT\",\"FT\",\"FT\",\"FT\",\"FT\",\"FT\",\"FT\",\"FT\",\"FT\",\"FT\",\"FT\",\"FT\",\"FT\",\"FT\",\"FT\",\"FT\",\"FT\",\"FT\",\"FT\",\"FT\",\"FT\",\"FT\",\"FT\",\"FT\",\"FT\",\"FT\",\"FT\",\"FT\",\"FT\",\"FT\",\"FT\",\"FT\",\"FT\",\"FT\",\"FT\",\"FT\",\"FT\",\"FT\",\"FT\",\"FT\",\"FT\",\"FT\",\"FT\",\"FT\",\"FT\",\"FT\",\"FT\",\"FT\",\"FT\",\"FT\",\"FT\",\"FT\",\"FT\",\"FT\",\"FT\",\"FT\",\"FT\",\"FT\",\"FT\",\"FT\",\"FT\",\"FT\",\"FT\",\"FT\",\"FT\",\"FT\",\"FT\",\"FT\",\"FT\",\"FT\",\"FT\",\"FT\",\"FT\",\"FT\",\"FT\",\"FT\",\"FT\",\"FT\",\"FT\",\"FT\",\"FT\",\"FT\",\"FT\",\"FT\",\"FT\",\"FT\",\"FT\",\"FT\",\"FT\",\"FT\",\"FT\",\"FT\",\"FT\",\"FT\",\"FT\",\"FT\",\"FT\",\"FT\",\"FT\",\"FT\",\"FT\",\"FT\",\"FT\",\"FT\",\"FT\",\"FT\",\"FT\",\"FT\",\"FT\",\"FT\",\"FT\",\"FT\",\"FT\",\"FT\",\"FT\",\"FT\",\"FT\",\"FT\",\"FT\",\"FT\",\"FT\",\"FT\",\"FT\",\"FT\",\"FT\",\"FT\",\"FT\",\"FT\",\"FT\",\"FT\",\"FT\",\"FT\",\"FT\",\"FT\",\"FT\",\"FT\",\"FT\",\"FT\",\"FT\",\"FT\",\"FT\",\"FT\",\"FT\",\"FT\",\"FT\",\"FT\",\"FT\",\"FT\",\"FT\",\"FT\",\"FT\",\"FT\",\"FT\",\"FT\",\"FT\",\"FT\",\"FT\",\"FT\",\"FT\",\"FT\",\"FT\",\"FT\",\"FT\",\"FT\",\"FT\",\"FT\",\"FT\",\"FT\",\"FT\",\"FT\",\"FT\",\"FT\",\"FT\",\"FT\",\"FT\",\"FT\",\"FT\",\"FT\",\"FT\",\"FT\",\"FT\",\"FT\",\"FT\",\"FT\",\"FT\",\"FT\",\"FT\",\"FT\",\"FT\",\"FT\",\"FT\",\"FT\",\"FT\",\"FT\",\"FT\",\"FT\",\"FT\",\"FT\",\"FT\",\"FT\",\"FT\",\"FT\",\"FT\",\"FT\",\"FT\",\"FT\",\"FL\",\"FT\",\"FT\",\"FT\",\"FT\",\"FT\",\"FT\",\"FT\",\"FT\",\"FT\",\"FT\",\"FT\",\"FT\",\"FT\",\"FT\",\"FT\",\"FT\",\"FT\",\"FT\",\"FT\",\"FT\",\"FT\",\"FT\",\"FT\",\"FT\",\"FT\",\"FT\",\"FT\",\"FT\",\"FT\",\"FT\",\"FT\",\"FT\",\"FT\",\"FT\",\"FT\",\"FT\",\"FT\",\"FT\",\"FT\",\"FT\",\"FT\",\"FT\",\"FT\",\"FT\",\"FT\",\"FT\",\"FT\",\"FT\",\"FT\",\"FT\",\"FT\",\"FT\",\"FT\",\"FT\",\"FT\",\"FT\",\"FT\",\"FT\",\"FT\",\"FT\",\"FT\",\"FT\",\"FT\",\"FT\",\"FT\",\"FT\",\"FT\",\"FT\",\"FT\",\"FT\",\"FT\",\"FT\",\"FT\",\"FT\",\"FT\",\"FT\",\"FT\",\"FT\",\"FT\",\"FT\",\"FT\",\"FT\",\"FT\",\"FT\",\"FT\",\"FT\",\"FT\",\"FT\",\"FT\",\"FT\",\"FT\",\"FT\",\"FT\",\"FT\",\"FT\",\"FT\",\"FT\",\"FT\",\"FT\",\"FT\",\"FT\",\"FT\",\"FT\",\"FT\",\"FT\",\"FT\",\"FT\",\"FT\",\"FT\",\"FT\",\"FT\",\"FT\",\"FT\",\"FT\",\"FT\",\"FT\",\"FT\",\"FT\",\"FT\",\"FT\",\"FT\",\"FT\",\"FT\",\"FT\",\"FT\",\"FT\",\"FT\",\"FT\",\"FT\",\"FT\",\"FT\",\"FT\",\"FT\",\"FT\",\"FT\",\"FT\",\"FT\",\"FT\",\"FT\",\"FT\",\"FT\",\"FT\",\"FT\",\"FT\",\"FT\",\"FT\",\"FT\",\"FT\",\"FT\",\"FT\",\"FT\",\"FT\",\"FT\",\"FT\",\"FT\",\"FT\",\"FT\",\"FT\",\"FT\",\"FT\",\"FT\",\"FT\",\"FT\",\"FT\",\"FT\",\"FT\",\"FT\",\"FT\",\"FT\",\"FT\",\"FT\",\"FT\",\"FT\",\"FT\",\"FT\",\"FT\",\"FT\",\"FT\",\"FT\",\"FT\",\"FT\",\"FT\",\"FT\",\"FT\",\"FT\",\"FT\",\"FT\",\"FT\",\"FT\",\"FT\",\"FT\",\"FT\",\"FT\",\"FT\",\"FT\",\"FT\",\"FT\",\"FT\",\"FT\",\"FT\",\"FT\",\"FT\",\"FT\",\"FT\",\"FT\",\"FT\",\"FT\",\"FT\",\"FT\",\"FT\",\"FT\",\"FT\",\"FT\",\"FT\",\"FT\",\"FT\",\"FT\",\"FT\",\"FT\",\"FT\",\"FT\",\"FT\",\"FT\",\"FT\",\"FT\",\"FT\",\"FT\",\"FT\",\"FT\",\"FT\",\"FT\",\"FT\",\"FT\",\"FT\",\"FT\",\"FT\",\"FT\",\"FT\",\"FT\",\"FT\",\"FT\",\"FT\",\"FT\",\"FT\",\"FT\",\"FT\",\"FT\",\"FT\",\"FT\",\"FT\",\"FT\",\"FT\",\"FT\",\"FT\",\"FT\",\"FT\",\"FT\",\"FT\",\"FT\",\"FT\",\"FT\",\"FT\",\"FT\",\"FT\",\"FT\",\"FT\",\"FT\",\"FT\",\"FT\",\"FT\",\"FT\",\"FT\",\"FT\",\"FT\",\"FT\",\"FT\",\"FT\",\"FT\",\"FT\",\"FT\",\"FT\",\"FT\",\"FT\",\"FT\",\"FT\",\"FT\",\"FT\",\"FT\",\"FT\",\"FT\",\"FT\",\"FT\",\"FT\",\"FT\",\"FT\",\"FT\",\"FT\",\"FT\",\"FT\",\"FT\",\"FT\",\"FT\",\"FT\",\"FT\",\"FT\",\"FT\",\"FT\",\"FT\",\"FT\",\"FT\",\"FT\",\"FT\",\"FT\",\"FT\",\"FT\",\"FT\",\"FT\",\"FT\",\"FT\",\"FT\",\"FT\",\"FT\",\"FT\",\"FT\",\"FT\",\"FT\",\"FT\",\"FT\",\"FT\",\"FT\",\"FT\",\"FT\",\"FT\",\"FT\",\"FT\",\"FT\",\"FT\",\"FT\",\"FT\",\"FT\",\"FT\",\"FT\",\"FL\",\"FT\",\"FT\",\"FT\",\"FT\",\"FT\",\"FT\",\"FT\",\"FT\",\"FT\",\"FT\",\"FT\",\"FT\",\"FT\",\"FT\",\"FT\",\"FT\",\"FT\",\"FT\",\"FT\",\"FT\",\"FT\",\"FT\",\"FT\",\"FT\",\"FT\",\"FT\",\"FT\",\"FT\",\"FT\",\"FT\",\"FT\",\"FT\",\"FT\",\"FT\",\"FT\",\"FT\",\"FT\",\"FT\",\"FT\",\"FT\",\"FT\",\"FT\",\"FT\",\"FT\",\"FT\",\"FT\",\"FT\",\"FT\",\"FT\",\"FT\",\"FT\",\"FT\",\"FT\",\"FT\",\"FT\",\"FT\",\"FT\",\"FT\",\"FT\",\"FT\",\"FT\",\"FT\",\"FT\",\"FT\",\"FT\",\"FT\",\"FT\",\"FT\",\"FT\",\"FT\",\"FT\",\"FT\",\"FT\",\"FT\",\"FT\",\"FT\",\"FT\",\"FT\",\"FT\",\"FT\",\"FT\",\"FT\",\"FT\",\"FT\",\"FT\",\"FT\",\"FT\",\"FT\",\"FT\",\"FT\",\"FT\",\"FT\",\"FT\",\"FT\",\"FT\",\"FT\",\"FT\",\"FT\",\"FT\",\"FT\",\"FT\",\"FT\",\"FT\",\"FT\",\"FT\",\"FT\",\"FT\",\"FT\",\"FT\",\"FT\",\"FT\",\"FT\",\"FT\",\"FT\",\"FT\",\"FT\",\"FT\",\"FT\",\"FT\",\"FT\",\"FT\",\"FT\",\"FT\",\"FT\",\"FT\",\"FT\",\"FT\",\"FT\",\"FT\",\"FT\",\"FT\",\"FT\",\"FT\",\"FT\",\"FT\",\"FT\",\"FT\",\"FT\",\"FT\",\"FT\",\"FT\",\"FT\",\"FT\",\"FT\",\"FT\",\"FT\",\"FT\",\"FT\",\"FT\",\"FT\",\"FT\",\"FT\",\"FT\",\"FT\",\"FT\",\"FT\",\"FT\",\"FT\",\"FT\",\"FT\",\"FT\",\"FT\",\"FT\",\"FT\",\"FT\",\"FT\",\"FT\",\"FT\",\"FT\",\"FT\",\"FT\",\"FT\",\"FT\",\"FT\",\"FT\",\"FT\",\"FT\",\"FT\",\"FT\",\"FT\",\"FT\",\"FT\",\"FT\",\"FT\",\"FT\",\"FT\",\"FT\",\"FT\",\"FT\",\"FT\",\"FT\",\"FT\",\"FT\",\"FT\",\"FT\",\"FT\",\"FT\",\"FT\",\"FT\",\"FT\",\"FT\",\"FT\",\"FT\",\"FT\",\"FT\",\"FT\",\"FT\",\"FT\",\"FT\",\"FT\",\"FT\",\"FT\",\"FT\",\"FT\",\"FT\",\"FT\",\"FT\",\"FT\",\"FT\",\"FT\",\"FT\",\"FT\",\"FT\",\"FT\",\"FT\",\"FT\",\"FT\",\"FT\",\"FT\",\"FT\",\"FT\",\"FT\",\"FT\",\"FT\",\"FT\",\"FT\",\"FT\",\"FT\",\"FT\",\"FT\",\"FT\",\"FT\",\"FT\",\"FT\",\"FT\",\"FT\",\"FT\",\"FT\",\"FT\",\"FT\",\"FT\",\"FT\",\"FT\",\"FT\",\"FT\",\"FT\",\"FT\",\"FT\",\"FT\",\"FT\",\"FT\",\"FT\",\"FT\",\"FT\",\"FT\",\"FT\",\"FT\",\"FT\",\"FT\",\"FT\",\"FT\",\"FT\",\"FT\",\"FT\",\"FT\",\"FT\",\"FT\",\"FT\",\"FT\",\"FT\",\"FT\",\"FT\",\"FT\",\"FT\",\"FT\",\"FT\",\"FT\",\"FT\",\"FT\",\"FT\",\"FT\",\"FT\",\"FT\",\"FT\",\"FT\",\"FT\",\"FT\",\"FT\",\"FT\",\"FT\",\"FT\",\"FT\",\"FT\",\"FT\",\"FT\",\"FT\",\"FT\",\"FT\",\"FT\",\"FT\",\"FT\",\"FT\",\"FT\",\"FT\",\"FT\",\"FT\",\"FT\",\"FT\",\"FT\",\"FT\",\"FT\",\"FT\",\"FT\",\"FT\",\"FT\",\"FT\",\"FT\",\"FT\",\"FT\",\"FT\",\"FT\",\"FT\",\"FT\",\"FT\",\"FT\",\"FT\",\"FT\",\"FT\",\"FT\",\"FT\",\"FT\",\"FT\",\"FT\",\"FT\",\"FT\",\"FT\",\"FT\",\"FT\",\"FT\",\"FT\",\"FT\",\"FT\",\"FT\",\"FT\",\"FT\",\"FT\",\"FT\",\"FT\",\"FT\",\"FT\",\"FT\",\"FT\",\"FT\",\"FT\",\"FT\",\"FT\",\"FT\",\"FT\",\"FT\",\"FT\",\"FT\",\"FT\",\"FT\",\"FT\",\"FT\",\"FT\",\"FT\",\"FT\",\"FT\",\"FT\",\"FT\",\"FT\",\"FT\",\"FT\",\"FT\",\"FT\",\"FT\",\"FT\",\"FT\",\"FT\",\"FT\",\"FT\",\"FT\",\"FT\",\"FT\",\"FT\",\"FT\",\"FT\",\"FT\",\"FT\",\"FT\",\"FT\",\"FT\",\"FT\",\"FT\",\"FT\",\"FT\",\"FT\",\"FT\",\"FT\",\"FT\",\"FT\",\"FT\",\"FT\",\"FT\",\"FT\",\"FT\",\"FT\",\"FT\",\"FT\",\"FT\",\"FT\",\"FT\",\"FT\",\"FT\",\"FT\",\"FT\",\"FT\",\"FT\",\"FT\",\"FT\",\"FT\",\"FT\",\"FT\",\"FT\",\"FT\",\"FT\",\"FT\",\"FT\",\"FT\",\"FT\",\"FT\",\"FT\",\"FT\",\"FT\",\"FT\",\"FT\",\"FT\",\"FT\",\"FT\",\"FT\",\"FT\",\"FT\",\"FT\",\"FT\",\"FT\",\"FT\",\"FT\",\"FT\",\"FT\",\"FT\",\"FT\",\"FT\",\"FT\",\"FT\",\"FT\",\"FT\",\"FT\",\"FT\",\"FT\",\"FT\",\"FT\",\"FT\",\"FT\",\"FT\",\"FT\",\"FT\",\"FT\",\"FT\",\"FT\",\"FT\",\"FT\",\"FT\",\"FT\",\"FT\",\"FT\",\"FT\",\"FT\",\"FT\",\"FT\",\"FT\",\"FT\",\"FT\",\"FT\",\"FT\",\"FT\",\"FT\",\"FT\",\"FT\",\"FT\",\"FT\",\"FT\",\"FT\",\"FT\",\"FT\",\"FT\",\"FT\",\"FT\",\"FT\",\"FT\",\"FT\",\"FT\",\"FT\",\"FT\",\"FT\",\"FT\",\"FT\",\"FT\",\"FT\",\"FT\",\"FT\",\"FT\",\"FT\",\"FT\",\"FT\",\"FT\",\"FT\",\"FT\",\"FT\",\"FT\",\"FT\",\"FT\",\"FT\",\"FT\",\"FT\",\"FT\",\"FT\",\"FT\",\"FT\",\"FT\",\"FT\",\"FT\",\"FT\",\"FT\",\"FT\",\"FT\",\"FT\",\"FT\",\"FT\",\"FT\",\"FT\",\"FT\",\"FT\",\"FT\",\"FT\",\"FT\",\"FT\",\"FT\",\"FT\",\"FT\",\"FT\",\"FT\",\"FT\",\"FT\",\"FT\",\"FT\",\"FT\",\"FT\",\"FT\",\"FT\",\"FT\",\"FT\",\"FT\",\"FT\",\"FT\",\"FT\",\"FT\",\"FT\",\"FT\",\"FT\",\"FT\",\"FT\",\"FT\",\"FT\",\"FT\",\"FT\",\"FT\",\"FT\",\"FT\",\"FT\",\"FT\",\"FT\",\"FT\",\"FT\",\"FT\",\"FT\",\"FT\",\"FT\",\"FT\",\"FT\",\"FT\",\"FT\",\"FT\",\"FT\",\"FT\",\"FT\",\"FT\",\"FT\",\"FT\",\"FT\",\"FT\",\"FT\",\"FT\",\"FT\",\"FT\",\"FT\",\"FT\",\"FT\",\"FT\",\"FT\",\"FT\",\"FT\",\"FT\",\"FT\",\"FT\",\"FT\",\"FT\",\"FT\",\"FT\",\"FT\",\"FT\",\"FT\",\"FT\",\"FT\",\"FT\",\"FT\",\"FT\",\"FT\",\"FT\",\"FT\",\"FT\",\"FT\",\"FT\",\"FT\",\"FT\",\"FT\",\"FT\",\"FT\",\"FT\",\"FT\",\"FT\",\"FT\",\"FT\",\"FT\",\"FT\",\"FT\",\"FT\",\"FT\",\"FT\",\"FT\",\"FT\",\"FT\",\"FT\",\"FT\",\"FT\",\"FT\",\"FT\",\"FT\",\"FT\",\"FT\",\"FT\",\"FT\",\"FT\",\"FT\",\"FT\",\"FT\",\"FT\",\"FT\",\"FT\",\"FT\",\"FT\",\"FT\",\"FT\",\"FT\",\"FT\",\"FT\",\"FT\",\"FT\",\"FT\",\"FT\",\"FT\",\"FT\",\"FT\",\"FT\",\"FT\",\"FT\",\"FT\",\"FT\",\"FT\",\"FT\",\"FT\",\"FT\",\"FT\",\"FT\",\"FT\",\"FT\",\"FT\",\"FT\",\"FT\",\"FT\",\"FT\",\"FT\",\"FT\",\"FT\",\"FT\",\"FT\",\"FT\",\"FT\",\"FT\",\"FT\",\"FT\",\"FT\",\"FT\",\"FT\",\"FT\",\"FT\",\"FT\",\"FT\",\"FT\",\"FT\",\"FT\",\"FT\",\"FT\",\"FT\",\"FT\",\"FT\",\"FT\",\"FT\",\"FT\",\"FT\",\"FT\",\"FT\",\"FT\",\"FT\",\"FT\",\"FT\",\"FT\",\"FT\",\"FT\",\"FT\",\"FT\",\"FT\",\"FT\",\"FT\",\"FT\",\"FT\",\"FT\",\"FT\",\"FT\",\"FT\",\"FT\",\"FT\",\"FT\",\"FT\",\"FT\",\"FT\",\"FT\",\"FT\",\"FT\",\"FT\",\"FT\",\"FT\",\"FT\",\"FT\",\"FT\",\"FT\",\"FT\",\"FT\",\"FT\",\"FT\",\"FT\",\"FT\",\"FT\",\"FT\",\"FT\",\"FT\",\"FT\",\"FT\",\"FT\",\"FT\",\"FT\",\"FT\",\"FT\",\"FT\",\"FT\",\"FT\",\"FT\",\"FT\",\"FT\",\"FT\",\"FT\",\"FT\",\"FT\",\"FT\",\"FT\",\"FT\",\"FT\",\"FT\",\"FT\",\"FT\",\"FT\",\"FT\",\"FT\",\"FT\",\"FT\",\"FT\",\"FT\",\"FT\",\"FT\",\"FT\",\"FT\",\"FT\",\"FT\",\"FT\",\"FT\",\"FT\",\"FT\",\"FT\",\"FT\",\"FT\",\"FT\",\"FT\",\"FT\",\"FT\",\"FT\",\"FT\",\"FT\",\"FT\",\"FT\",\"FT\",\"FT\",\"FT\",\"FT\",\"FT\",\"FT\",\"FT\",\"FT\",\"FT\",\"FT\",\"FT\",\"FT\",\"FT\",\"FT\",\"FT\",\"FT\",\"FT\",\"FT\",\"FT\",\"FT\",\"FT\",\"FT\",\"FT\",\"FT\",\"FT\",\"FT\",\"FT\",\"FT\",\"FT\",\"FT\",\"FT\",\"FT\",\"FT\",\"FT\",\"FT\",\"FT\",\"FT\",\"FT\",\"FT\",\"FT\",\"FT\",\"FT\",\"FT\",\"FT\",\"FT\",\"FT\",\"FT\",\"FT\",\"FT\",\"FT\",\"FT\",\"FT\",\"FT\",\"FT\",\"FT\",\"FT\",\"FT\",\"FT\",\"FT\",\"FT\",\"FT\",\"FT\",\"FT\",\"FT\",\"FT\",\"FT\",\"FT\",\"FT\",\"FT\",\"FT\",\"FT\",\"FT\",\"FT\",\"FT\",\"FT\",\"FT\",\"FT\",\"FT\",\"FT\",\"FT\",\"FT\",\"FT\",\"FT\",\"FT\",\"FT\",\"FT\",\"FT\",\"FT\",\"FT\",\"FT\",\"FT\",\"FT\",\"FT\",\"FT\",\"FT\",\"FT\",\"FT\",\"FT\",\"FT\",\"FT\",\"FT\",\"FT\",\"FT\",\"FT\",\"FT\",\"FT\",\"FT\",\"FT\",\"FT\",\"FT\",\"FT\",\"FT\",\"FT\",\"FT\",\"FT\",\"FT\",\"FT\",\"FT\",\"FT\",\"FT\",\"FT\",\"FT\",\"FT\",\"FT\",\"FT\",\"FT\",\"FT\",\"FT\",\"FT\",\"FT\",\"FT\",\"FT\",\"FT\",\"FT\",\"FT\",\"FT\",\"FT\",\"FT\",\"FT\",\"FT\",\"FT\",\"FT\",\"FT\",\"FT\",\"FT\",\"FT\",\"FT\",\"FT\",\"FT\",\"FT\",\"FT\",\"FT\",\"FT\",\"FT\",\"FT\",\"FT\",\"FT\",\"FT\",\"FT\",\"FT\",\"FT\",\"FT\",\"FT\",\"FT\",\"FT\",\"FT\",\"FT\",\"FT\",\"FT\",\"FT\",\"FT\",\"FT\",\"FT\",\"FT\",\"FT\",\"FT\",\"FT\",\"FT\",\"FT\",\"FT\",\"FT\",\"FT\",\"FT\",\"FT\",\"FT\",\"FT\",\"FT\",\"FT\",\"FT\",\"FT\",\"FT\",\"FT\",\"FT\",\"FT\",\"FT\",\"FT\",\"FT\",\"FT\",\"FT\",\"FT\",\"FT\",\"FT\",\"FT\",\"FT\",\"FT\",\"FT\",\"FT\",\"FT\",\"FT\",\"FT\",\"FT\",\"FT\",\"FT\",\"FT\",\"FT\",\"FT\",\"FT\",\"FT\",\"FT\",\"FT\",\"FT\",\"FT\",\"FT\",\"FT\",\"FT\",\"FT\",\"FT\",\"FT\",\"FT\",\"FT\",\"FT\",\"FT\",\"FT\",\"FT\",\"FT\",\"FT\",\"FT\",\"FT\",\"FT\",\"FT\",\"FT\",\"FT\",\"FT\",\"FT\",\"FT\",\"FT\",\"FT\",\"FT\",\"FT\",\"FT\",\"FT\",\"FT\",\"FT\",\"FT\",\"FT\",\"FT\",\"FT\",\"FT\",\"FT\",\"FT\",\"FT\",\"FT\",\"FT\",\"FT\",\"FT\",\"FT\",\"FT\",\"FT\",\"FT\",\"FT\",\"FT\",\"FT\",\"FT\",\"FT\",\"FT\",\"FT\",\"FT\",\"FT\",\"FT\",\"FT\",\"FT\",\"FT\",\"FT\",\"FT\",\"FT\",\"FT\",\"FT\",\"FT\",\"FT\",\"FT\",\"FT\",\"FT\",\"FT\",\"FT\",\"FT\",\"FT\",\"FT\",\"FT\",\"FT\",\"FT\",\"FT\",\"FT\",\"FT\",\"FT\",\"FT\",\"FT\",\"FT\",\"FT\",\"FT\",\"FT\",\"FT\",\"FT\",\"FT\",\"FT\",\"FT\",\"FT\",\"FT\",\"FT\",\"FT\",\"FT\",\"FT\",\"FT\",\"FT\",\"FT\",\"FT\",\"FT\",\"FT\",\"FT\",\"FT\",\"FT\",\"FT\",\"FT\",\"FT\",\"FT\",\"FT\",\"FT\",\"FT\",\"FT\",\"FT\",\"FT\",\"FT\",\"FT\",\"FT\",\"FT\",\"FT\",\"FT\",\"FT\",\"FT\",\"FT\",\"FT\",\"FT\",\"FT\",\"FT\",\"FT\",\"FT\",\"FT\",\"FT\",\"FT\",\"FT\",\"FT\",\"FT\",\"FT\",\"FT\",\"FT\",\"FT\",\"FT\",\"FT\",\"FT\",\"FT\",\"FT\",\"FT\",\"FT\",\"FT\",\"FT\",\"FT\",\"FT\",\"FT\",\"FT\",\"FT\",\"FT\",\"FT\",\"FT\",\"FT\",\"FT\",\"FT\",\"FT\",\"FT\",\"FT\",\"FT\",\"FT\",\"FT\",\"FT\",\"FT\",\"FT\",\"FT\",\"FT\",\"FT\",\"FT\",\"FT\",\"FT\",\"FT\",\"FT\",\"FT\",\"FT\",\"FT\",\"FT\",\"FT\",\"FT\",\"FT\",\"FT\",\"FT\",\"FT\",\"FT\",\"FT\",\"FT\",\"FT\",\"FT\",\"FT\",\"FT\",\"FT\",\"FT\",\"FT\",\"FT\",\"FT\",\"FT\",\"FT\",\"FT\",\"FT\",\"FT\",\"FT\",\"FT\",\"FT\",\"FT\",\"FT\",\"FT\",\"FT\",\"FT\",\"FT\",\"FT\",\"FT\",\"FT\",\"FT\",\"FT\",\"FT\",\"FT\",\"FT\",\"FT\",\"FT\",\"FT\",\"FT\",\"FT\",\"FT\",\"FT\",\"FT\",\"FT\",\"FT\",\"FT\",\"FT\",\"FT\",\"FT\",\"FT\",\"FT\",\"FT\",\"FT\",\"FT\",\"FT\",\"FT\",\"FT\",\"FT\",\"FT\",\"CT\",\"FT\",\"FT\",\"FT\",\"FT\",\"FT\",\"FT\",\"FT\",\"FT\",\"FT\",\"FT\",\"FT\",\"FT\",\"FT\",\"FT\",\"FT\",\"FT\",\"FT\",\"FT\",\"FT\",\"FT\",\"FT\",\"FT\",\"FT\",\"FT\",\"FT\",\"FT\",\"FT\",\"FT\",\"FT\",\"FT\",\"FT\",\"FT\",\"FT\",\"FT\",\"FT\",\"FT\",\"FT\",\"FT\",\"FT\",\"FT\",\"FT\",\"FT\",\"FT\",\"FT\",\"FT\",\"FT\",\"FT\",\"FT\",\"FT\",\"FT\",\"FT\",\"FT\",\"FT\",\"FT\",\"FT\",\"FT\",\"FT\",\"FT\",\"FT\",\"FT\",\"FT\",\"FT\",\"FT\",\"FT\",\"FT\",\"FT\",\"FT\",\"FT\",\"FT\",\"FT\",\"FT\",\"FT\",\"FT\",\"FT\",\"FT\",\"FT\",\"FT\",\"FT\",\"FT\",\"FT\",\"FT\",\"FT\",\"FT\",\"FT\",\"FT\",\"FT\",\"FT\",\"FT\",\"FT\",\"FT\",\"FT\",\"FT\",\"FT\",\"FT\",\"FT\",\"FT\",\"FT\",\"FT\",\"FT\",\"FT\",\"FT\",\"FT\",\"FT\",\"FT\",\"FT\",\"FT\",\"FT\",\"FT\",\"FT\",\"FT\",\"FT\",\"FT\",\"FT\",\"FT\",\"FT\",\"FT\",\"FT\",\"FT\",\"FT\",\"FT\",\"FT\",\"FT\",\"FT\",\"FT\",\"FT\",\"FT\",\"FT\",\"FT\",\"FT\",\"FT\",\"FT\",\"FT\",\"FT\",\"FT\",\"FT\",\"FT\",\"FT\",\"FT\",\"FT\",\"FT\",\"FT\",\"FT\",\"FT\",\"FT\",\"FT\",\"FT\",\"FT\",\"FT\",\"FT\",\"FT\",\"FT\",\"FT\",\"FT\",\"FT\",\"FT\",\"FT\",\"FT\",\"FT\",\"FT\",\"FT\",\"FT\",\"FT\",\"FT\",\"FT\",\"FT\",\"FT\",\"FT\",\"FT\",\"FT\",\"FT\",\"FT\",\"FT\",\"FT\",\"FT\",\"FT\",\"FT\",\"FT\",\"FT\",\"FT\",\"FT\",\"FT\",\"FT\",\"FT\",\"FT\",\"FT\",\"FT\",\"FT\",\"FT\",\"FT\",\"FT\",\"FT\",\"FT\",\"FT\",\"FT\",\"FT\",\"FT\",\"FT\",\"FT\",\"FT\",\"FT\",\"FT\",\"FT\",\"FT\",\"FT\",\"FT\",\"FT\",\"FT\",\"FT\",\"FT\",\"FT\",\"FT\",\"FT\",\"FT\",\"FT\",\"FT\",\"FT\",\"FT\",\"FT\",\"FT\",\"FT\",\"FT\",\"FT\",\"FT\",\"FT\",\"FT\",\"FT\",\"FT\",\"FT\",\"FT\",\"FT\",\"FT\",\"FT\",\"FT\",\"FT\",\"FT\",\"FT\",\"FT\",\"FT\",\"FT\",\"FT\",\"FT\",\"FT\",\"FT\",\"FT\",\"FT\",\"FT\",\"FT\",\"FT\",\"FT\",\"FT\",\"FT\",\"FT\",\"FT\",\"FT\",\"FT\",\"FT\",\"FT\",\"FT\",\"FT\",\"FT\",\"FT\",\"FT\",\"FT\",\"FT\",\"FT\",\"FT\",\"FT\",\"FT\",\"FT\",\"FT\",\"FT\",\"FT\",\"FT\",\"FT\",\"FT\",\"FT\",\"FT\",\"FT\",\"FT\",\"FT\",\"FT\",\"FT\",\"FT\",\"FT\",\"FT\",\"FT\",\"FT\",\"FT\",\"FT\",\"FT\",\"FT\",\"FT\",\"FT\",\"FT\",\"FT\",\"FT\",\"FT\",\"FT\",\"FT\",\"FT\",\"FT\",\"FT\",\"FT\",\"FT\",\"FT\",\"FT\",\"FT\",\"FT\",\"FT\",\"FT\",\"FT\",\"FT\",\"FT\",\"FT\",\"FT\",\"FT\",\"FT\",\"FT\",\"FT\",\"FT\",\"FT\",\"FT\",\"FT\",\"FT\",\"FT\",\"FT\",\"FT\",\"FT\",\"FT\",\"FT\",\"FT\",\"FT\",\"FT\",\"FT\",\"FT\",\"FT\",\"FT\",\"FT\",\"FT\",\"FT\",\"FT\",\"FT\",\"FT\",\"FT\",\"FT\",\"FT\",\"FT\",\"FT\",\"FT\",\"FT\",\"FT\",\"FT\",\"FT\",\"FT\",\"FT\",\"FT\",\"FT\",\"FT\",\"FT\",\"FT\",\"FT\",\"FT\",\"FT\",\"FT\",\"FT\",\"FT\",\"FT\",\"FT\",\"FT\",\"FT\",\"FT\",\"FT\",\"FT\",\"FT\",\"FT\",\"FT\",\"FT\",\"FT\",\"FT\",\"FT\",\"FT\",\"FT\",\"FT\",\"FT\",\"FT\",\"FT\",\"FT\",\"FT\",\"FT\",\"FT\",\"FT\",\"FT\",\"FT\",\"FT\",\"FT\",\"FT\",\"FT\",\"FT\",\"FT\",\"FT\",\"FT\",\"FT\",\"FT\",\"FT\",\"FT\",\"FT\",\"FT\",\"FT\",\"FT\",\"FT\",\"FT\",\"FT\",\"FT\",\"FT\",\"FT\",\"FT\",\"FT\",\"FT\",\"FT\",\"FT\",\"FT\",\"FT\",\"FT\",\"FT\",\"FT\",\"FT\",\"FT\",\"FT\",\"FT\",\"FT\",\"FT\",\"FT\",\"FT\",\"FT\",\"FT\",\"FT\",\"FT\",\"FT\",\"FT\",\"FT\",\"FT\",\"FT\",\"FT\",\"FT\",\"FT\",\"FT\",\"FT\",\"FT\",\"FT\",\"FT\",\"FT\",\"FT\",\"FT\",\"FT\",\"FT\",\"FT\",\"FT\",\"FT\",\"FT\",\"FT\",\"FT\",\"FT\",\"FT\",\"FT\",\"FT\",\"FT\",\"FT\",\"FT\",\"FT\",\"FT\",\"FT\",\"FT\",\"FT\",\"FT\",\"FT\",\"FT\",\"FT\",\"FT\",\"FT\",\"FT\",\"FT\",\"FT\",\"FT\",\"FT\",\"FT\",\"FT\",\"FT\",\"FT\",\"FT\",\"FT\",\"FT\",\"FT\",\"FT\",\"FT\",\"FT\",\"FT\",\"FT\",\"FT\",\"FT\",\"FT\",\"FT\",\"FT\",\"FT\",\"FT\",\"FT\",\"FT\",\"FT\",\"FT\",\"FT\",\"FT\",\"FT\",\"FT\",\"FT\",\"FT\",\"FT\",\"FT\",\"FT\",\"FT\",\"FT\",\"FT\",\"FT\",\"FT\",\"FT\",\"FT\",\"FT\",\"FT\",\"FT\",\"FT\",\"FT\",\"FT\",\"FT\",\"FT\",\"FT\",\"FT\",\"FT\",\"FT\",\"FT\",\"FT\",\"FT\",\"FT\",\"FT\",\"FT\",\"FT\",\"FT\",\"FT\",\"FT\",\"FT\",\"FT\",\"FT\",\"FT\",\"FT\",\"FT\",\"FT\",\"FT\",\"FT\",\"FT\",\"FT\",\"FT\",\"FT\",\"FT\",\"FT\",\"FT\",\"FT\",\"FT\",\"FT\",\"FT\",\"FT\",\"FT\",\"CT\",\"FT\",\"FT\",\"FT\",\"FT\",\"FT\",\"FT\",\"FT\",\"FT\",\"FT\",\"FT\",\"FT\",\"FT\",\"FT\",\"FT\",\"FT\",\"FT\",\"FT\",\"FT\",\"FT\",\"FT\",\"FT\",\"FT\",\"FT\",\"FT\",\"FT\",\"FT\",\"FT\",\"FL\",\"FT\",\"FT\",\"FT\",\"FT\",\"FT\",\"FT\",\"FT\",\"FT\",\"FT\",\"FT\",\"FT\"],\"xaxis\":\"x\",\"yaxis\":\"y\",\"type\":\"histogram\"},{\"alignmentgroup\":\"True\",\"bingroup\":\"x\",\"hovertemplate\":\"experience_level=MI<br>employment_type=%{x}<br>count=%{y}<extra></extra>\",\"legendgroup\":\"MI\",\"marker\":{\"color\":\"#EF553B\",\"pattern\":{\"shape\":\"\"}},\"name\":\"MI\",\"offsetgroup\":\"MI\",\"orientation\":\"v\",\"showlegend\":true,\"x\":[\"CT\",\"CT\",\"FT\",\"FT\",\"FT\",\"FT\",\"FT\",\"FT\",\"FT\",\"FT\",\"FT\",\"FT\",\"FT\",\"FT\",\"FT\",\"FT\",\"FT\",\"FT\",\"FT\",\"FT\",\"FT\",\"FT\",\"FT\",\"FT\",\"FT\",\"FT\",\"FT\",\"FT\",\"FT\",\"FT\",\"FT\",\"FT\",\"FT\",\"FT\",\"FT\",\"FT\",\"FT\",\"FT\",\"FT\",\"FT\",\"FT\",\"FT\",\"FT\",\"FT\",\"FT\",\"FT\",\"FT\",\"FT\",\"FT\",\"FT\",\"FT\",\"FT\",\"FT\",\"FT\",\"FT\",\"FT\",\"FT\",\"FT\",\"FT\",\"FT\",\"FT\",\"FT\",\"FT\",\"FT\",\"FT\",\"FT\",\"FT\",\"FT\",\"FT\",\"FT\",\"FT\",\"FT\",\"FT\",\"FT\",\"FT\",\"FT\",\"FT\",\"FT\",\"FT\",\"FT\",\"FT\",\"FT\",\"FT\",\"FT\",\"FT\",\"FT\",\"FT\",\"FT\",\"FT\",\"FT\",\"FT\",\"FT\",\"FT\",\"FT\",\"FT\",\"FT\",\"FT\",\"FT\",\"FT\",\"FT\",\"FT\",\"FT\",\"FT\",\"FT\",\"FT\",\"FT\",\"FT\",\"FT\",\"FT\",\"FT\",\"FT\",\"FT\",\"FT\",\"FT\",\"FT\",\"FT\",\"FT\",\"FT\",\"FT\",\"FT\",\"FT\",\"FT\",\"FT\",\"FT\",\"FT\",\"FT\",\"FT\",\"FT\",\"FT\",\"FT\",\"FT\",\"FT\",\"FT\",\"FT\",\"FT\",\"FT\",\"FT\",\"FT\",\"FT\",\"FT\",\"FT\",\"FT\",\"FT\",\"FT\",\"FT\",\"FT\",\"FT\",\"FT\",\"FT\",\"FT\",\"FT\",\"FT\",\"FT\",\"FT\",\"FT\",\"FT\",\"FT\",\"FT\",\"FT\",\"FT\",\"FT\",\"FT\",\"FT\",\"FT\",\"FT\",\"FT\",\"FT\",\"FT\",\"FT\",\"FT\",\"FT\",\"FT\",\"FT\",\"FT\",\"FT\",\"FT\",\"FT\",\"FT\",\"FT\",\"FT\",\"FT\",\"FT\",\"FT\",\"FT\",\"FT\",\"FT\",\"FT\",\"FT\",\"FT\",\"FT\",\"FT\",\"FT\",\"FT\",\"FT\",\"FT\",\"FT\",\"FT\",\"FT\",\"FT\",\"FT\",\"FT\",\"FT\",\"FT\",\"FT\",\"FT\",\"FT\",\"FT\",\"FT\",\"FT\",\"FT\",\"FT\",\"FT\",\"FT\",\"FT\",\"FT\",\"FT\",\"FT\",\"FT\",\"FT\",\"FT\",\"FT\",\"FT\",\"FT\",\"FT\",\"FT\",\"FT\",\"FT\",\"FT\",\"FT\",\"FT\",\"FT\",\"FT\",\"FT\",\"FT\",\"FT\",\"FT\",\"FT\",\"FT\",\"FT\",\"FT\",\"FT\",\"FT\",\"FT\",\"FT\",\"FT\",\"FT\",\"FT\",\"FT\",\"FT\",\"FT\",\"FT\",\"FT\",\"FT\",\"FT\",\"FT\",\"FT\",\"FT\",\"FT\",\"FT\",\"FT\",\"FT\",\"FT\",\"FT\",\"FT\",\"FT\",\"FT\",\"FT\",\"FT\",\"FT\",\"FT\",\"FT\",\"FT\",\"FT\",\"FT\",\"FT\",\"FT\",\"FT\",\"FT\",\"FT\",\"FT\",\"FT\",\"FT\",\"FT\",\"FT\",\"FT\",\"FT\",\"FT\",\"FT\",\"FT\",\"FT\",\"FT\",\"FT\",\"FT\",\"FT\",\"FT\",\"FT\",\"FT\",\"FT\",\"FT\",\"FT\",\"FT\",\"FT\",\"FT\",\"FT\",\"FT\",\"FT\",\"FT\",\"FT\",\"FT\",\"FT\",\"FT\",\"FT\",\"FT\",\"FT\",\"FT\",\"FT\",\"FT\",\"FT\",\"FT\",\"FT\",\"FT\",\"FT\",\"FT\",\"FT\",\"FT\",\"FT\",\"FT\",\"FT\",\"FT\",\"FT\",\"FT\",\"FT\",\"FT\",\"FT\",\"FT\",\"FT\",\"FT\",\"FT\",\"FT\",\"FT\",\"FT\",\"FT\",\"FT\",\"FT\",\"FT\",\"FT\",\"FT\",\"FT\",\"FT\",\"FT\",\"FT\",\"FT\",\"FT\",\"FT\",\"FT\",\"FT\",\"FT\",\"FT\",\"FT\",\"FT\",\"FT\",\"FT\",\"FT\",\"FT\",\"FT\",\"FT\",\"FT\",\"FT\",\"FT\",\"FT\",\"FT\",\"FT\",\"FT\",\"FT\",\"FT\",\"FT\",\"FT\",\"FT\",\"FT\",\"FT\",\"FT\",\"FT\",\"FT\",\"FT\",\"FT\",\"FT\",\"FT\",\"FT\",\"FT\",\"FT\",\"FT\",\"FT\",\"FT\",\"FT\",\"FT\",\"FT\",\"FT\",\"FT\",\"FT\",\"FT\",\"FT\",\"FT\",\"FT\",\"FT\",\"FT\",\"FT\",\"FT\",\"FT\",\"FT\",\"FT\",\"FT\",\"FT\",\"FT\",\"FT\",\"FT\",\"FT\",\"FT\",\"FT\",\"FT\",\"FT\",\"FT\",\"FT\",\"FT\",\"FT\",\"FT\",\"FT\",\"FT\",\"FT\",\"FT\",\"FT\",\"FT\",\"FT\",\"FT\",\"FT\",\"FT\",\"FT\",\"FT\",\"FT\",\"FT\",\"FT\",\"FT\",\"FT\",\"FT\",\"FT\",\"FT\",\"FT\",\"FT\",\"FT\",\"FT\",\"FT\",\"FT\",\"FT\",\"FT\",\"FT\",\"FT\",\"FT\",\"FL\",\"FT\",\"FT\",\"FT\",\"FT\",\"FT\",\"FT\",\"FT\",\"FT\",\"FT\",\"FT\",\"FT\",\"FT\",\"FT\",\"FT\",\"FT\",\"FT\",\"FT\",\"FT\",\"FT\",\"FT\",\"FT\",\"FT\",\"FT\",\"FT\",\"FT\",\"FT\",\"FT\",\"FT\",\"FT\",\"FT\",\"FT\",\"FT\",\"FT\",\"FT\",\"FT\",\"FT\",\"FT\",\"FT\",\"FT\",\"FT\",\"FT\",\"FT\",\"FT\",\"FT\",\"FT\",\"FT\",\"FT\",\"FT\",\"FT\",\"FT\",\"FT\",\"FT\",\"FT\",\"FT\",\"FT\",\"FT\",\"FT\",\"FT\",\"FT\",\"FT\",\"FT\",\"FT\",\"FT\",\"FT\",\"FT\",\"FT\",\"FT\",\"FT\",\"FT\",\"CT\",\"FT\",\"FT\",\"FT\",\"FT\",\"FT\",\"FT\",\"FT\",\"FT\",\"FT\",\"FT\",\"FT\",\"FT\",\"FT\",\"FT\",\"FT\",\"FT\",\"FT\",\"FT\",\"FT\",\"FT\",\"FT\",\"FT\",\"FT\",\"FT\",\"CT\",\"FT\",\"FT\",\"FT\",\"FT\",\"FT\",\"FT\",\"FT\",\"FT\",\"FT\",\"FT\",\"FT\",\"FT\",\"FT\",\"FT\",\"FT\",\"FT\",\"FT\",\"FT\",\"FT\",\"FT\",\"FT\",\"FT\",\"FT\",\"FT\",\"FT\",\"FT\",\"FT\",\"FT\",\"FL\",\"FT\",\"FT\",\"FT\",\"FT\",\"FT\",\"FT\",\"FT\",\"FT\",\"FT\",\"FT\",\"FT\",\"FT\",\"FT\",\"FT\",\"FT\",\"FT\",\"FT\",\"FT\",\"FT\",\"FT\",\"FT\",\"FT\",\"FT\",\"FT\",\"FT\",\"FT\",\"FT\",\"FT\",\"FT\",\"FT\",\"FT\",\"FT\",\"FT\",\"FT\",\"FT\",\"FT\",\"FT\",\"FT\",\"FT\",\"FT\",\"FT\",\"FT\",\"FT\",\"FT\",\"FT\",\"FT\",\"FT\",\"FT\",\"FT\",\"FT\",\"FT\",\"FT\",\"FT\",\"FT\",\"FT\",\"FT\",\"FT\",\"FT\",\"FT\",\"FT\",\"FT\",\"FT\",\"FT\",\"FT\",\"FT\",\"FT\",\"FT\",\"FT\",\"FT\",\"FT\",\"FT\",\"FT\",\"FT\",\"FT\",\"FT\",\"FT\",\"FT\",\"FT\",\"FT\",\"FT\",\"FT\",\"FT\",\"FT\",\"FT\",\"FT\",\"FT\",\"FT\",\"FT\",\"FT\",\"PT\",\"FT\",\"FT\",\"FT\",\"FT\",\"FT\",\"FT\",\"FT\",\"FT\",\"FT\",\"FT\",\"FT\",\"FT\",\"FT\",\"FT\",\"FT\",\"FT\",\"FT\",\"FT\",\"FT\",\"FT\",\"FT\",\"FT\",\"FT\",\"FL\",\"FT\",\"FT\",\"FT\",\"FT\",\"FT\",\"FT\",\"FT\",\"FT\",\"FT\",\"FT\",\"FT\",\"FT\",\"FT\",\"FT\",\"FT\",\"FT\",\"FT\",\"FT\",\"FT\",\"PT\",\"CT\",\"FT\",\"FT\",\"FT\",\"FT\",\"FT\",\"FT\",\"FT\",\"FT\",\"FT\",\"FT\",\"FT\",\"FT\",\"FT\",\"FT\",\"FT\",\"FT\",\"FT\",\"FT\",\"FT\",\"FT\",\"FT\",\"FT\",\"FT\",\"FT\",\"FT\",\"FT\",\"FT\",\"FT\",\"FT\",\"PT\",\"FT\",\"FT\",\"FT\",\"FT\",\"FT\",\"FT\",\"FT\",\"FT\",\"FT\",\"FT\",\"FT\",\"FT\",\"FT\",\"FT\",\"FT\",\"FT\",\"FT\",\"FT\",\"FT\",\"FT\",\"FT\",\"FT\",\"FT\",\"FT\",\"FT\",\"FT\",\"FT\",\"FT\",\"FT\",\"FT\",\"FT\",\"FT\",\"FL\",\"FT\",\"FT\",\"FT\",\"FT\",\"FT\",\"FT\",\"FL\",\"FT\",\"FT\",\"FT\",\"FT\",\"FT\",\"FT\",\"FT\",\"FT\",\"FT\",\"FT\",\"FT\",\"FT\",\"FT\",\"FT\",\"FT\",\"FT\",\"FT\",\"FT\",\"FT\"],\"xaxis\":\"x\",\"yaxis\":\"y\",\"type\":\"histogram\"},{\"alignmentgroup\":\"True\",\"bingroup\":\"x\",\"hovertemplate\":\"experience_level=EN<br>employment_type=%{x}<br>count=%{y}<extra></extra>\",\"legendgroup\":\"EN\",\"marker\":{\"color\":\"#00cc96\",\"pattern\":{\"shape\":\"\"}},\"name\":\"EN\",\"offsetgroup\":\"EN\",\"orientation\":\"v\",\"showlegend\":true,\"x\":[\"FT\",\"FT\",\"FT\",\"FT\",\"FT\",\"FT\",\"FT\",\"FT\",\"FT\",\"FT\",\"FT\",\"FT\",\"FT\",\"FT\",\"FT\",\"FT\",\"FT\",\"FT\",\"FT\",\"FT\",\"FT\",\"FT\",\"FT\",\"FT\",\"FT\",\"FT\",\"FT\",\"FT\",\"FT\",\"FT\",\"FT\",\"FT\",\"FT\",\"FT\",\"FT\",\"FT\",\"FT\",\"FT\",\"FT\",\"FT\",\"FT\",\"FT\",\"FT\",\"FT\",\"FT\",\"FT\",\"FT\",\"FT\",\"FT\",\"FT\",\"FT\",\"FT\",\"FT\",\"FT\",\"FT\",\"FT\",\"FT\",\"FT\",\"FT\",\"FT\",\"FT\",\"FT\",\"FT\",\"FT\",\"FT\",\"FT\",\"FT\",\"FT\",\"FT\",\"FT\",\"FT\",\"FT\",\"FT\",\"FT\",\"FT\",\"FT\",\"FT\",\"PT\",\"FT\",\"FT\",\"FT\",\"FT\",\"FT\",\"PT\",\"FT\",\"FT\",\"FT\",\"FT\",\"FT\",\"FT\",\"FT\",\"FT\",\"FT\",\"FT\",\"FT\",\"FT\",\"FT\",\"FT\",\"FT\",\"FT\",\"FT\",\"FT\",\"FT\",\"FT\",\"FT\",\"FT\",\"FT\",\"FT\",\"FT\",\"FT\",\"FT\",\"FT\",\"FT\",\"FT\",\"FT\",\"FT\",\"FT\",\"FT\",\"FT\",\"FT\",\"PT\",\"FT\",\"FT\",\"FT\",\"FT\",\"FT\",\"FT\",\"FT\",\"FT\",\"FT\",\"FT\",\"FT\",\"FT\",\"FT\",\"FT\",\"FT\",\"FT\",\"FT\",\"FT\",\"FT\",\"FT\",\"FT\",\"FT\",\"FT\",\"FT\",\"FT\",\"FT\",\"FT\",\"FT\",\"FT\",\"FT\",\"FT\",\"FT\",\"FT\",\"FT\",\"FL\",\"FT\",\"FT\",\"FT\",\"FT\",\"FT\",\"FT\",\"FT\",\"FT\",\"FL\",\"FT\",\"FT\",\"FT\",\"FT\",\"FT\",\"FT\",\"PT\",\"FT\",\"FT\",\"FT\",\"FT\",\"FT\",\"FT\",\"FT\",\"FT\",\"FT\",\"PT\",\"FT\",\"FT\",\"FT\",\"FT\",\"FT\",\"FT\",\"FT\",\"FT\",\"FT\",\"FT\",\"FT\",\"FT\",\"FT\",\"FT\",\"FT\",\"FT\",\"FT\",\"FT\",\"FT\",\"FT\",\"FT\",\"FT\",\"FT\",\"FT\",\"FT\",\"FT\",\"FT\",\"PT\",\"FT\",\"PT\",\"FT\",\"FT\",\"FT\",\"FT\",\"FT\",\"FT\",\"FT\",\"FT\",\"FT\",\"FT\",\"FT\",\"FT\",\"FT\",\"FT\",\"FT\",\"FT\",\"FT\",\"FT\",\"FT\",\"FT\",\"FT\",\"FT\",\"FT\",\"FT\",\"FT\",\"FT\",\"FT\",\"FT\",\"FT\",\"FT\",\"FT\",\"FT\",\"FT\",\"FT\",\"CT\",\"FT\",\"FT\",\"FT\",\"FT\",\"FT\",\"FT\",\"PT\",\"FT\",\"FT\",\"FT\",\"FT\",\"FT\",\"PT\",\"FT\",\"FT\",\"FT\",\"FT\",\"FT\",\"FT\",\"FT\",\"FT\",\"FT\",\"FT\",\"FT\",\"FT\",\"PT\",\"FT\",\"FT\",\"FT\",\"FT\",\"FT\",\"FT\",\"FT\",\"FT\",\"FT\",\"PT\",\"FT\",\"FT\",\"FT\",\"FT\",\"FT\",\"FT\",\"FT\",\"FT\",\"FT\",\"FT\",\"FT\",\"FT\",\"FT\",\"FT\",\"FT\",\"FT\",\"FT\",\"FT\",\"FT\",\"FT\",\"FT\",\"FT\",\"FT\",\"FT\",\"FT\",\"FT\",\"FT\",\"PT\",\"FT\",\"FT\",\"FT\",\"PT\",\"FT\",\"FT\",\"PT\",\"FT\",\"CT\"],\"xaxis\":\"x\",\"yaxis\":\"y\",\"type\":\"histogram\"},{\"alignmentgroup\":\"True\",\"bingroup\":\"x\",\"hovertemplate\":\"experience_level=EX<br>employment_type=%{x}<br>count=%{y}<extra></extra>\",\"legendgroup\":\"EX\",\"marker\":{\"color\":\"#ab63fa\",\"pattern\":{\"shape\":\"\"}},\"name\":\"EX\",\"offsetgroup\":\"EX\",\"orientation\":\"v\",\"showlegend\":true,\"x\":[\"FT\",\"FT\",\"FT\",\"FT\",\"FT\",\"FT\",\"FT\",\"FT\",\"FT\",\"FT\",\"FT\",\"FT\",\"FT\",\"FT\",\"FT\",\"FT\",\"FT\",\"FT\",\"FT\",\"FT\",\"FT\",\"FT\",\"FT\",\"FT\",\"FT\",\"FT\",\"FT\",\"FT\",\"FT\",\"FT\",\"FT\",\"FT\",\"FT\",\"FT\",\"FT\",\"FT\",\"FT\",\"FT\",\"FT\",\"FT\",\"FT\",\"FT\",\"FT\",\"FT\",\"FT\",\"FT\",\"FT\",\"FT\",\"FT\",\"FT\",\"FT\",\"FT\",\"FT\",\"FT\",\"FT\",\"FT\",\"FT\",\"FT\",\"FT\",\"FT\",\"FT\",\"FT\",\"FT\",\"FT\",\"FT\",\"FT\",\"FT\",\"FT\",\"FT\",\"FT\",\"FT\",\"FT\",\"FT\",\"FT\",\"FT\",\"FT\",\"FT\",\"FT\",\"FT\",\"FT\",\"FT\",\"FT\",\"FT\",\"FT\",\"FT\",\"FT\",\"FT\",\"FT\",\"FT\",\"FT\",\"FT\",\"FT\",\"FT\",\"FT\",\"FT\",\"FT\",\"FT\",\"FT\",\"FT\",\"FT\",\"FT\",\"FT\",\"FT\",\"FT\",\"FT\",\"FT\",\"FT\",\"FT\",\"FT\",\"FT\",\"FT\",\"FT\",\"CT\",\"FT\"],\"xaxis\":\"x\",\"yaxis\":\"y\",\"type\":\"histogram\"}],                        {\"template\":{\"data\":{\"histogram2dcontour\":[{\"type\":\"histogram2dcontour\",\"colorbar\":{\"outlinewidth\":0,\"ticks\":\"\"},\"colorscale\":[[0.0,\"#0d0887\"],[0.1111111111111111,\"#46039f\"],[0.2222222222222222,\"#7201a8\"],[0.3333333333333333,\"#9c179e\"],[0.4444444444444444,\"#bd3786\"],[0.5555555555555556,\"#d8576b\"],[0.6666666666666666,\"#ed7953\"],[0.7777777777777778,\"#fb9f3a\"],[0.8888888888888888,\"#fdca26\"],[1.0,\"#f0f921\"]]}],\"choropleth\":[{\"type\":\"choropleth\",\"colorbar\":{\"outlinewidth\":0,\"ticks\":\"\"}}],\"histogram2d\":[{\"type\":\"histogram2d\",\"colorbar\":{\"outlinewidth\":0,\"ticks\":\"\"},\"colorscale\":[[0.0,\"#0d0887\"],[0.1111111111111111,\"#46039f\"],[0.2222222222222222,\"#7201a8\"],[0.3333333333333333,\"#9c179e\"],[0.4444444444444444,\"#bd3786\"],[0.5555555555555556,\"#d8576b\"],[0.6666666666666666,\"#ed7953\"],[0.7777777777777778,\"#fb9f3a\"],[0.8888888888888888,\"#fdca26\"],[1.0,\"#f0f921\"]]}],\"heatmap\":[{\"type\":\"heatmap\",\"colorbar\":{\"outlinewidth\":0,\"ticks\":\"\"},\"colorscale\":[[0.0,\"#0d0887\"],[0.1111111111111111,\"#46039f\"],[0.2222222222222222,\"#7201a8\"],[0.3333333333333333,\"#9c179e\"],[0.4444444444444444,\"#bd3786\"],[0.5555555555555556,\"#d8576b\"],[0.6666666666666666,\"#ed7953\"],[0.7777777777777778,\"#fb9f3a\"],[0.8888888888888888,\"#fdca26\"],[1.0,\"#f0f921\"]]}],\"heatmapgl\":[{\"type\":\"heatmapgl\",\"colorbar\":{\"outlinewidth\":0,\"ticks\":\"\"},\"colorscale\":[[0.0,\"#0d0887\"],[0.1111111111111111,\"#46039f\"],[0.2222222222222222,\"#7201a8\"],[0.3333333333333333,\"#9c179e\"],[0.4444444444444444,\"#bd3786\"],[0.5555555555555556,\"#d8576b\"],[0.6666666666666666,\"#ed7953\"],[0.7777777777777778,\"#fb9f3a\"],[0.8888888888888888,\"#fdca26\"],[1.0,\"#f0f921\"]]}],\"contourcarpet\":[{\"type\":\"contourcarpet\",\"colorbar\":{\"outlinewidth\":0,\"ticks\":\"\"}}],\"contour\":[{\"type\":\"contour\",\"colorbar\":{\"outlinewidth\":0,\"ticks\":\"\"},\"colorscale\":[[0.0,\"#0d0887\"],[0.1111111111111111,\"#46039f\"],[0.2222222222222222,\"#7201a8\"],[0.3333333333333333,\"#9c179e\"],[0.4444444444444444,\"#bd3786\"],[0.5555555555555556,\"#d8576b\"],[0.6666666666666666,\"#ed7953\"],[0.7777777777777778,\"#fb9f3a\"],[0.8888888888888888,\"#fdca26\"],[1.0,\"#f0f921\"]]}],\"surface\":[{\"type\":\"surface\",\"colorbar\":{\"outlinewidth\":0,\"ticks\":\"\"},\"colorscale\":[[0.0,\"#0d0887\"],[0.1111111111111111,\"#46039f\"],[0.2222222222222222,\"#7201a8\"],[0.3333333333333333,\"#9c179e\"],[0.4444444444444444,\"#bd3786\"],[0.5555555555555556,\"#d8576b\"],[0.6666666666666666,\"#ed7953\"],[0.7777777777777778,\"#fb9f3a\"],[0.8888888888888888,\"#fdca26\"],[1.0,\"#f0f921\"]]}],\"mesh3d\":[{\"type\":\"mesh3d\",\"colorbar\":{\"outlinewidth\":0,\"ticks\":\"\"}}],\"scatter\":[{\"fillpattern\":{\"fillmode\":\"overlay\",\"size\":10,\"solidity\":0.2},\"type\":\"scatter\"}],\"parcoords\":[{\"type\":\"parcoords\",\"line\":{\"colorbar\":{\"outlinewidth\":0,\"ticks\":\"\"}}}],\"scatterpolargl\":[{\"type\":\"scatterpolargl\",\"marker\":{\"colorbar\":{\"outlinewidth\":0,\"ticks\":\"\"}}}],\"bar\":[{\"error_x\":{\"color\":\"#2a3f5f\"},\"error_y\":{\"color\":\"#2a3f5f\"},\"marker\":{\"line\":{\"color\":\"#E5ECF6\",\"width\":0.5},\"pattern\":{\"fillmode\":\"overlay\",\"size\":10,\"solidity\":0.2}},\"type\":\"bar\"}],\"scattergeo\":[{\"type\":\"scattergeo\",\"marker\":{\"colorbar\":{\"outlinewidth\":0,\"ticks\":\"\"}}}],\"scatterpolar\":[{\"type\":\"scatterpolar\",\"marker\":{\"colorbar\":{\"outlinewidth\":0,\"ticks\":\"\"}}}],\"histogram\":[{\"marker\":{\"pattern\":{\"fillmode\":\"overlay\",\"size\":10,\"solidity\":0.2}},\"type\":\"histogram\"}],\"scattergl\":[{\"type\":\"scattergl\",\"marker\":{\"colorbar\":{\"outlinewidth\":0,\"ticks\":\"\"}}}],\"scatter3d\":[{\"type\":\"scatter3d\",\"line\":{\"colorbar\":{\"outlinewidth\":0,\"ticks\":\"\"}},\"marker\":{\"colorbar\":{\"outlinewidth\":0,\"ticks\":\"\"}}}],\"scattermapbox\":[{\"type\":\"scattermapbox\",\"marker\":{\"colorbar\":{\"outlinewidth\":0,\"ticks\":\"\"}}}],\"scatterternary\":[{\"type\":\"scatterternary\",\"marker\":{\"colorbar\":{\"outlinewidth\":0,\"ticks\":\"\"}}}],\"scattercarpet\":[{\"type\":\"scattercarpet\",\"marker\":{\"colorbar\":{\"outlinewidth\":0,\"ticks\":\"\"}}}],\"carpet\":[{\"aaxis\":{\"endlinecolor\":\"#2a3f5f\",\"gridcolor\":\"white\",\"linecolor\":\"white\",\"minorgridcolor\":\"white\",\"startlinecolor\":\"#2a3f5f\"},\"baxis\":{\"endlinecolor\":\"#2a3f5f\",\"gridcolor\":\"white\",\"linecolor\":\"white\",\"minorgridcolor\":\"white\",\"startlinecolor\":\"#2a3f5f\"},\"type\":\"carpet\"}],\"table\":[{\"cells\":{\"fill\":{\"color\":\"#EBF0F8\"},\"line\":{\"color\":\"white\"}},\"header\":{\"fill\":{\"color\":\"#C8D4E3\"},\"line\":{\"color\":\"white\"}},\"type\":\"table\"}],\"barpolar\":[{\"marker\":{\"line\":{\"color\":\"#E5ECF6\",\"width\":0.5},\"pattern\":{\"fillmode\":\"overlay\",\"size\":10,\"solidity\":0.2}},\"type\":\"barpolar\"}],\"pie\":[{\"automargin\":true,\"type\":\"pie\"}]},\"layout\":{\"autotypenumbers\":\"strict\",\"colorway\":[\"#636efa\",\"#EF553B\",\"#00cc96\",\"#ab63fa\",\"#FFA15A\",\"#19d3f3\",\"#FF6692\",\"#B6E880\",\"#FF97FF\",\"#FECB52\"],\"font\":{\"color\":\"#2a3f5f\"},\"hovermode\":\"closest\",\"hoverlabel\":{\"align\":\"left\"},\"paper_bgcolor\":\"white\",\"plot_bgcolor\":\"#E5ECF6\",\"polar\":{\"bgcolor\":\"#E5ECF6\",\"angularaxis\":{\"gridcolor\":\"white\",\"linecolor\":\"white\",\"ticks\":\"\"},\"radialaxis\":{\"gridcolor\":\"white\",\"linecolor\":\"white\",\"ticks\":\"\"}},\"ternary\":{\"bgcolor\":\"#E5ECF6\",\"aaxis\":{\"gridcolor\":\"white\",\"linecolor\":\"white\",\"ticks\":\"\"},\"baxis\":{\"gridcolor\":\"white\",\"linecolor\":\"white\",\"ticks\":\"\"},\"caxis\":{\"gridcolor\":\"white\",\"linecolor\":\"white\",\"ticks\":\"\"}},\"coloraxis\":{\"colorbar\":{\"outlinewidth\":0,\"ticks\":\"\"}},\"colorscale\":{\"sequential\":[[0.0,\"#0d0887\"],[0.1111111111111111,\"#46039f\"],[0.2222222222222222,\"#7201a8\"],[0.3333333333333333,\"#9c179e\"],[0.4444444444444444,\"#bd3786\"],[0.5555555555555556,\"#d8576b\"],[0.6666666666666666,\"#ed7953\"],[0.7777777777777778,\"#fb9f3a\"],[0.8888888888888888,\"#fdca26\"],[1.0,\"#f0f921\"]],\"sequentialminus\":[[0.0,\"#0d0887\"],[0.1111111111111111,\"#46039f\"],[0.2222222222222222,\"#7201a8\"],[0.3333333333333333,\"#9c179e\"],[0.4444444444444444,\"#bd3786\"],[0.5555555555555556,\"#d8576b\"],[0.6666666666666666,\"#ed7953\"],[0.7777777777777778,\"#fb9f3a\"],[0.8888888888888888,\"#fdca26\"],[1.0,\"#f0f921\"]],\"diverging\":[[0,\"#8e0152\"],[0.1,\"#c51b7d\"],[0.2,\"#de77ae\"],[0.3,\"#f1b6da\"],[0.4,\"#fde0ef\"],[0.5,\"#f7f7f7\"],[0.6,\"#e6f5d0\"],[0.7,\"#b8e186\"],[0.8,\"#7fbc41\"],[0.9,\"#4d9221\"],[1,\"#276419\"]]},\"xaxis\":{\"gridcolor\":\"white\",\"linecolor\":\"white\",\"ticks\":\"\",\"title\":{\"standoff\":15},\"zerolinecolor\":\"white\",\"automargin\":true,\"zerolinewidth\":2},\"yaxis\":{\"gridcolor\":\"white\",\"linecolor\":\"white\",\"ticks\":\"\",\"title\":{\"standoff\":15},\"zerolinecolor\":\"white\",\"automargin\":true,\"zerolinewidth\":2},\"scene\":{\"xaxis\":{\"backgroundcolor\":\"#E5ECF6\",\"gridcolor\":\"white\",\"linecolor\":\"white\",\"showbackground\":true,\"ticks\":\"\",\"zerolinecolor\":\"white\",\"gridwidth\":2},\"yaxis\":{\"backgroundcolor\":\"#E5ECF6\",\"gridcolor\":\"white\",\"linecolor\":\"white\",\"showbackground\":true,\"ticks\":\"\",\"zerolinecolor\":\"white\",\"gridwidth\":2},\"zaxis\":{\"backgroundcolor\":\"#E5ECF6\",\"gridcolor\":\"white\",\"linecolor\":\"white\",\"showbackground\":true,\"ticks\":\"\",\"zerolinecolor\":\"white\",\"gridwidth\":2}},\"shapedefaults\":{\"line\":{\"color\":\"#2a3f5f\"}},\"annotationdefaults\":{\"arrowcolor\":\"#2a3f5f\",\"arrowhead\":0,\"arrowwidth\":1},\"geo\":{\"bgcolor\":\"white\",\"landcolor\":\"#E5ECF6\",\"subunitcolor\":\"white\",\"showland\":true,\"showlakes\":true,\"lakecolor\":\"white\"},\"title\":{\"x\":0.05},\"mapbox\":{\"style\":\"light\"}}},\"xaxis\":{\"anchor\":\"y\",\"domain\":[0.0,1.0],\"title\":{\"text\":\"Employment Type\"}},\"yaxis\":{\"anchor\":\"x\",\"domain\":[0.0,1.0],\"title\":{\"text\":\"count\"}},\"legend\":{\"title\":{\"text\":\"experience_level\"},\"tracegroupgap\":0},\"margin\":{\"t\":100},\"barmode\":\"group\",\"title\":{\"font\":{\"size\":22},\"text\":\"Employment Types by their Experience\",\"x\":0.48,\"xanchor\":\"center\",\"yanchor\":\"top\"}},                        {\"responsive\": true}                    ).then(function(){\n",
              "                            \n",
              "var gd = document.getElementById('30d3c900-82a1-475d-bb11-b89e4aef5e1c');\n",
              "var x = new MutationObserver(function (mutations, observer) {{\n",
              "        var display = window.getComputedStyle(gd).display;\n",
              "        if (!display || display === 'none') {{\n",
              "            console.log([gd, 'removed!']);\n",
              "            Plotly.purge(gd);\n",
              "            observer.disconnect();\n",
              "        }}\n",
              "}});\n",
              "\n",
              "// Listen for the removal of the full notebook cells\n",
              "var notebookContainer = gd.closest('#notebook-container');\n",
              "if (notebookContainer) {{\n",
              "    x.observe(notebookContainer, {childList: true});\n",
              "}}\n",
              "\n",
              "// Listen for the clearing of the current output cell\n",
              "var outputEl = gd.closest('.output');\n",
              "if (outputEl) {{\n",
              "    x.observe(outputEl, {childList: true});\n",
              "}}\n",
              "\n",
              "                        })                };                            </script>        </div>\n",
              "</body>\n",
              "</html>"
            ]
          },
          "metadata": {}
        }
      ]
    },
    {
      "cell_type": "code",
      "source": [
        "job_title = df[\"job_title\"].value_counts().reset_index().rename(columns={\"index\":\"job_title\", \n",
        "                                                                    \"job_title\":\"count\"})\n",
        "fig = px.bar(job_title.head(20), y=\"job_title\", x=\"count\", color=\"job_title\")\n",
        "fig.update_layout(title={'text': \"Distribution of Employee's Top 20 Job Titles\",\n",
        "                         'x': 0.48,  \n",
        "                         'xanchor': 'center',  \n",
        "                         'yanchor': 'top',\n",
        "                         'font': {'size': 22}},\n",
        "                  margin={'t': 100},\n",
        "                  showlegend=False, \n",
        "                   \n",
        "                  height=600)\n",
        "fig.show()"
      ],
      "metadata": {
        "colab": {
          "base_uri": "https://localhost:8080/",
          "height": 617
        },
        "id": "kMkFHQHTFoDH",
        "outputId": "ea6622d1-964a-49f7-9170-0c9cba9839ad"
      },
      "execution_count": 24,
      "outputs": [
        {
          "output_type": "display_data",
          "data": {
            "text/html": [
              "<html>\n",
              "<head><meta charset=\"utf-8\" /></head>\n",
              "<body>\n",
              "    <div>            <script src=\"https://cdnjs.cloudflare.com/ajax/libs/mathjax/2.7.5/MathJax.js?config=TeX-AMS-MML_SVG\"></script><script type=\"text/javascript\">if (window.MathJax && window.MathJax.Hub && window.MathJax.Hub.Config) {window.MathJax.Hub.Config({SVG: {font: \"STIX-Web\"}});}</script>                <script type=\"text/javascript\">window.PlotlyConfig = {MathJaxConfig: 'local'};</script>\n",
              "        <script src=\"https://cdn.plot.ly/plotly-2.18.2.min.js\"></script>                <div id=\"3f63ae29-86d4-4876-a360-2fdd10dfea61\" class=\"plotly-graph-div\" style=\"height:600px; width:100%;\"></div>            <script type=\"text/javascript\">                                    window.PLOTLYENV=window.PLOTLYENV || {};                                    if (document.getElementById(\"3f63ae29-86d4-4876-a360-2fdd10dfea61\")) {                    Plotly.newPlot(                        \"3f63ae29-86d4-4876-a360-2fdd10dfea61\",                        [{\"alignmentgroup\":\"True\",\"hovertemplate\":\"job_title=%{y}<br>count=%{x}<extra></extra>\",\"legendgroup\":\"Data Engineer\",\"marker\":{\"color\":\"#636efa\",\"pattern\":{\"shape\":\"\"}},\"name\":\"Data Engineer\",\"offsetgroup\":\"Data Engineer\",\"orientation\":\"h\",\"showlegend\":true,\"textposition\":\"auto\",\"x\":[1040],\"xaxis\":\"x\",\"y\":[\"Data Engineer\"],\"yaxis\":\"y\",\"type\":\"bar\"},{\"alignmentgroup\":\"True\",\"hovertemplate\":\"job_title=%{y}<br>count=%{x}<extra></extra>\",\"legendgroup\":\"Data Scientist\",\"marker\":{\"color\":\"#EF553B\",\"pattern\":{\"shape\":\"\"}},\"name\":\"Data Scientist\",\"offsetgroup\":\"Data Scientist\",\"orientation\":\"h\",\"showlegend\":true,\"textposition\":\"auto\",\"x\":[840],\"xaxis\":\"x\",\"y\":[\"Data Scientist\"],\"yaxis\":\"y\",\"type\":\"bar\"},{\"alignmentgroup\":\"True\",\"hovertemplate\":\"job_title=%{y}<br>count=%{x}<extra></extra>\",\"legendgroup\":\"Data Analyst\",\"marker\":{\"color\":\"#00cc96\",\"pattern\":{\"shape\":\"\"}},\"name\":\"Data Analyst\",\"offsetgroup\":\"Data Analyst\",\"orientation\":\"h\",\"showlegend\":true,\"textposition\":\"auto\",\"x\":[612],\"xaxis\":\"x\",\"y\":[\"Data Analyst\"],\"yaxis\":\"y\",\"type\":\"bar\"},{\"alignmentgroup\":\"True\",\"hovertemplate\":\"job_title=%{y}<br>count=%{x}<extra></extra>\",\"legendgroup\":\"Machine Learning Engineer\",\"marker\":{\"color\":\"#ab63fa\",\"pattern\":{\"shape\":\"\"}},\"name\":\"Machine Learning Engineer\",\"offsetgroup\":\"Machine Learning Engineer\",\"orientation\":\"h\",\"showlegend\":true,\"textposition\":\"auto\",\"x\":[289],\"xaxis\":\"x\",\"y\":[\"Machine Learning Engineer\"],\"yaxis\":\"y\",\"type\":\"bar\"},{\"alignmentgroup\":\"True\",\"hovertemplate\":\"job_title=%{y}<br>count=%{x}<extra></extra>\",\"legendgroup\":\"Analytics Engineer\",\"marker\":{\"color\":\"#FFA15A\",\"pattern\":{\"shape\":\"\"}},\"name\":\"Analytics Engineer\",\"offsetgroup\":\"Analytics Engineer\",\"orientation\":\"h\",\"showlegend\":true,\"textposition\":\"auto\",\"x\":[103],\"xaxis\":\"x\",\"y\":[\"Analytics Engineer\"],\"yaxis\":\"y\",\"type\":\"bar\"},{\"alignmentgroup\":\"True\",\"hovertemplate\":\"job_title=%{y}<br>count=%{x}<extra></extra>\",\"legendgroup\":\"Data Architect\",\"marker\":{\"color\":\"#19d3f3\",\"pattern\":{\"shape\":\"\"}},\"name\":\"Data Architect\",\"offsetgroup\":\"Data Architect\",\"orientation\":\"h\",\"showlegend\":true,\"textposition\":\"auto\",\"x\":[101],\"xaxis\":\"x\",\"y\":[\"Data Architect\"],\"yaxis\":\"y\",\"type\":\"bar\"},{\"alignmentgroup\":\"True\",\"hovertemplate\":\"job_title=%{y}<br>count=%{x}<extra></extra>\",\"legendgroup\":\"Research Scientist\",\"marker\":{\"color\":\"#FF6692\",\"pattern\":{\"shape\":\"\"}},\"name\":\"Research Scientist\",\"offsetgroup\":\"Research Scientist\",\"orientation\":\"h\",\"showlegend\":true,\"textposition\":\"auto\",\"x\":[82],\"xaxis\":\"x\",\"y\":[\"Research Scientist\"],\"yaxis\":\"y\",\"type\":\"bar\"},{\"alignmentgroup\":\"True\",\"hovertemplate\":\"job_title=%{y}<br>count=%{x}<extra></extra>\",\"legendgroup\":\"Data Science Manager\",\"marker\":{\"color\":\"#B6E880\",\"pattern\":{\"shape\":\"\"}},\"name\":\"Data Science Manager\",\"offsetgroup\":\"Data Science Manager\",\"orientation\":\"h\",\"showlegend\":true,\"textposition\":\"auto\",\"x\":[58],\"xaxis\":\"x\",\"y\":[\"Data Science Manager\"],\"yaxis\":\"y\",\"type\":\"bar\"},{\"alignmentgroup\":\"True\",\"hovertemplate\":\"job_title=%{y}<br>count=%{x}<extra></extra>\",\"legendgroup\":\"Applied Scientist\",\"marker\":{\"color\":\"#FF97FF\",\"pattern\":{\"shape\":\"\"}},\"name\":\"Applied Scientist\",\"offsetgroup\":\"Applied Scientist\",\"orientation\":\"h\",\"showlegend\":true,\"textposition\":\"auto\",\"x\":[58],\"xaxis\":\"x\",\"y\":[\"Applied Scientist\"],\"yaxis\":\"y\",\"type\":\"bar\"},{\"alignmentgroup\":\"True\",\"hovertemplate\":\"job_title=%{y}<br>count=%{x}<extra></extra>\",\"legendgroup\":\"Research Engineer\",\"marker\":{\"color\":\"#FECB52\",\"pattern\":{\"shape\":\"\"}},\"name\":\"Research Engineer\",\"offsetgroup\":\"Research Engineer\",\"orientation\":\"h\",\"showlegend\":true,\"textposition\":\"auto\",\"x\":[37],\"xaxis\":\"x\",\"y\":[\"Research Engineer\"],\"yaxis\":\"y\",\"type\":\"bar\"},{\"alignmentgroup\":\"True\",\"hovertemplate\":\"job_title=%{y}<br>count=%{x}<extra></extra>\",\"legendgroup\":\"ML Engineer\",\"marker\":{\"color\":\"#636efa\",\"pattern\":{\"shape\":\"\"}},\"name\":\"ML Engineer\",\"offsetgroup\":\"ML Engineer\",\"orientation\":\"h\",\"showlegend\":true,\"textposition\":\"auto\",\"x\":[34],\"xaxis\":\"x\",\"y\":[\"ML Engineer\"],\"yaxis\":\"y\",\"type\":\"bar\"},{\"alignmentgroup\":\"True\",\"hovertemplate\":\"job_title=%{y}<br>count=%{x}<extra></extra>\",\"legendgroup\":\"Data Manager\",\"marker\":{\"color\":\"#EF553B\",\"pattern\":{\"shape\":\"\"}},\"name\":\"Data Manager\",\"offsetgroup\":\"Data Manager\",\"orientation\":\"h\",\"showlegend\":true,\"textposition\":\"auto\",\"x\":[29],\"xaxis\":\"x\",\"y\":[\"Data Manager\"],\"yaxis\":\"y\",\"type\":\"bar\"},{\"alignmentgroup\":\"True\",\"hovertemplate\":\"job_title=%{y}<br>count=%{x}<extra></extra>\",\"legendgroup\":\"Machine Learning Scientist\",\"marker\":{\"color\":\"#00cc96\",\"pattern\":{\"shape\":\"\"}},\"name\":\"Machine Learning Scientist\",\"offsetgroup\":\"Machine Learning Scientist\",\"orientation\":\"h\",\"showlegend\":true,\"textposition\":\"auto\",\"x\":[26],\"xaxis\":\"x\",\"y\":[\"Machine Learning Scientist\"],\"yaxis\":\"y\",\"type\":\"bar\"},{\"alignmentgroup\":\"True\",\"hovertemplate\":\"job_title=%{y}<br>count=%{x}<extra></extra>\",\"legendgroup\":\"Data Science Consultant\",\"marker\":{\"color\":\"#ab63fa\",\"pattern\":{\"shape\":\"\"}},\"name\":\"Data Science Consultant\",\"offsetgroup\":\"Data Science Consultant\",\"orientation\":\"h\",\"showlegend\":true,\"textposition\":\"auto\",\"x\":[24],\"xaxis\":\"x\",\"y\":[\"Data Science Consultant\"],\"yaxis\":\"y\",\"type\":\"bar\"},{\"alignmentgroup\":\"True\",\"hovertemplate\":\"job_title=%{y}<br>count=%{x}<extra></extra>\",\"legendgroup\":\"Data Analytics Manager\",\"marker\":{\"color\":\"#FFA15A\",\"pattern\":{\"shape\":\"\"}},\"name\":\"Data Analytics Manager\",\"offsetgroup\":\"Data Analytics Manager\",\"orientation\":\"h\",\"showlegend\":true,\"textposition\":\"auto\",\"x\":[22],\"xaxis\":\"x\",\"y\":[\"Data Analytics Manager\"],\"yaxis\":\"y\",\"type\":\"bar\"},{\"alignmentgroup\":\"True\",\"hovertemplate\":\"job_title=%{y}<br>count=%{x}<extra></extra>\",\"legendgroup\":\"Computer Vision Engineer\",\"marker\":{\"color\":\"#19d3f3\",\"pattern\":{\"shape\":\"\"}},\"name\":\"Computer Vision Engineer\",\"offsetgroup\":\"Computer Vision Engineer\",\"orientation\":\"h\",\"showlegend\":true,\"textposition\":\"auto\",\"x\":[18],\"xaxis\":\"x\",\"y\":[\"Computer Vision Engineer\"],\"yaxis\":\"y\",\"type\":\"bar\"},{\"alignmentgroup\":\"True\",\"hovertemplate\":\"job_title=%{y}<br>count=%{x}<extra></extra>\",\"legendgroup\":\"AI Scientist\",\"marker\":{\"color\":\"#FF6692\",\"pattern\":{\"shape\":\"\"}},\"name\":\"AI Scientist\",\"offsetgroup\":\"AI Scientist\",\"orientation\":\"h\",\"showlegend\":true,\"textposition\":\"auto\",\"x\":[16],\"xaxis\":\"x\",\"y\":[\"AI Scientist\"],\"yaxis\":\"y\",\"type\":\"bar\"},{\"alignmentgroup\":\"True\",\"hovertemplate\":\"job_title=%{y}<br>count=%{x}<extra></extra>\",\"legendgroup\":\"BI Data Analyst\",\"marker\":{\"color\":\"#B6E880\",\"pattern\":{\"shape\":\"\"}},\"name\":\"BI Data Analyst\",\"offsetgroup\":\"BI Data Analyst\",\"orientation\":\"h\",\"showlegend\":true,\"textposition\":\"auto\",\"x\":[15],\"xaxis\":\"x\",\"y\":[\"BI Data Analyst\"],\"yaxis\":\"y\",\"type\":\"bar\"},{\"alignmentgroup\":\"True\",\"hovertemplate\":\"job_title=%{y}<br>count=%{x}<extra></extra>\",\"legendgroup\":\"Business Data Analyst\",\"marker\":{\"color\":\"#FF97FF\",\"pattern\":{\"shape\":\"\"}},\"name\":\"Business Data Analyst\",\"offsetgroup\":\"Business Data Analyst\",\"orientation\":\"h\",\"showlegend\":true,\"textposition\":\"auto\",\"x\":[15],\"xaxis\":\"x\",\"y\":[\"Business Data Analyst\"],\"yaxis\":\"y\",\"type\":\"bar\"},{\"alignmentgroup\":\"True\",\"hovertemplate\":\"job_title=%{y}<br>count=%{x}<extra></extra>\",\"legendgroup\":\"Data Specialist\",\"marker\":{\"color\":\"#FECB52\",\"pattern\":{\"shape\":\"\"}},\"name\":\"Data Specialist\",\"offsetgroup\":\"Data Specialist\",\"orientation\":\"h\",\"showlegend\":true,\"textposition\":\"auto\",\"x\":[14],\"xaxis\":\"x\",\"y\":[\"Data Specialist\"],\"yaxis\":\"y\",\"type\":\"bar\"}],                        {\"template\":{\"data\":{\"histogram2dcontour\":[{\"type\":\"histogram2dcontour\",\"colorbar\":{\"outlinewidth\":0,\"ticks\":\"\"},\"colorscale\":[[0.0,\"#0d0887\"],[0.1111111111111111,\"#46039f\"],[0.2222222222222222,\"#7201a8\"],[0.3333333333333333,\"#9c179e\"],[0.4444444444444444,\"#bd3786\"],[0.5555555555555556,\"#d8576b\"],[0.6666666666666666,\"#ed7953\"],[0.7777777777777778,\"#fb9f3a\"],[0.8888888888888888,\"#fdca26\"],[1.0,\"#f0f921\"]]}],\"choropleth\":[{\"type\":\"choropleth\",\"colorbar\":{\"outlinewidth\":0,\"ticks\":\"\"}}],\"histogram2d\":[{\"type\":\"histogram2d\",\"colorbar\":{\"outlinewidth\":0,\"ticks\":\"\"},\"colorscale\":[[0.0,\"#0d0887\"],[0.1111111111111111,\"#46039f\"],[0.2222222222222222,\"#7201a8\"],[0.3333333333333333,\"#9c179e\"],[0.4444444444444444,\"#bd3786\"],[0.5555555555555556,\"#d8576b\"],[0.6666666666666666,\"#ed7953\"],[0.7777777777777778,\"#fb9f3a\"],[0.8888888888888888,\"#fdca26\"],[1.0,\"#f0f921\"]]}],\"heatmap\":[{\"type\":\"heatmap\",\"colorbar\":{\"outlinewidth\":0,\"ticks\":\"\"},\"colorscale\":[[0.0,\"#0d0887\"],[0.1111111111111111,\"#46039f\"],[0.2222222222222222,\"#7201a8\"],[0.3333333333333333,\"#9c179e\"],[0.4444444444444444,\"#bd3786\"],[0.5555555555555556,\"#d8576b\"],[0.6666666666666666,\"#ed7953\"],[0.7777777777777778,\"#fb9f3a\"],[0.8888888888888888,\"#fdca26\"],[1.0,\"#f0f921\"]]}],\"heatmapgl\":[{\"type\":\"heatmapgl\",\"colorbar\":{\"outlinewidth\":0,\"ticks\":\"\"},\"colorscale\":[[0.0,\"#0d0887\"],[0.1111111111111111,\"#46039f\"],[0.2222222222222222,\"#7201a8\"],[0.3333333333333333,\"#9c179e\"],[0.4444444444444444,\"#bd3786\"],[0.5555555555555556,\"#d8576b\"],[0.6666666666666666,\"#ed7953\"],[0.7777777777777778,\"#fb9f3a\"],[0.8888888888888888,\"#fdca26\"],[1.0,\"#f0f921\"]]}],\"contourcarpet\":[{\"type\":\"contourcarpet\",\"colorbar\":{\"outlinewidth\":0,\"ticks\":\"\"}}],\"contour\":[{\"type\":\"contour\",\"colorbar\":{\"outlinewidth\":0,\"ticks\":\"\"},\"colorscale\":[[0.0,\"#0d0887\"],[0.1111111111111111,\"#46039f\"],[0.2222222222222222,\"#7201a8\"],[0.3333333333333333,\"#9c179e\"],[0.4444444444444444,\"#bd3786\"],[0.5555555555555556,\"#d8576b\"],[0.6666666666666666,\"#ed7953\"],[0.7777777777777778,\"#fb9f3a\"],[0.8888888888888888,\"#fdca26\"],[1.0,\"#f0f921\"]]}],\"surface\":[{\"type\":\"surface\",\"colorbar\":{\"outlinewidth\":0,\"ticks\":\"\"},\"colorscale\":[[0.0,\"#0d0887\"],[0.1111111111111111,\"#46039f\"],[0.2222222222222222,\"#7201a8\"],[0.3333333333333333,\"#9c179e\"],[0.4444444444444444,\"#bd3786\"],[0.5555555555555556,\"#d8576b\"],[0.6666666666666666,\"#ed7953\"],[0.7777777777777778,\"#fb9f3a\"],[0.8888888888888888,\"#fdca26\"],[1.0,\"#f0f921\"]]}],\"mesh3d\":[{\"type\":\"mesh3d\",\"colorbar\":{\"outlinewidth\":0,\"ticks\":\"\"}}],\"scatter\":[{\"fillpattern\":{\"fillmode\":\"overlay\",\"size\":10,\"solidity\":0.2},\"type\":\"scatter\"}],\"parcoords\":[{\"type\":\"parcoords\",\"line\":{\"colorbar\":{\"outlinewidth\":0,\"ticks\":\"\"}}}],\"scatterpolargl\":[{\"type\":\"scatterpolargl\",\"marker\":{\"colorbar\":{\"outlinewidth\":0,\"ticks\":\"\"}}}],\"bar\":[{\"error_x\":{\"color\":\"#2a3f5f\"},\"error_y\":{\"color\":\"#2a3f5f\"},\"marker\":{\"line\":{\"color\":\"#E5ECF6\",\"width\":0.5},\"pattern\":{\"fillmode\":\"overlay\",\"size\":10,\"solidity\":0.2}},\"type\":\"bar\"}],\"scattergeo\":[{\"type\":\"scattergeo\",\"marker\":{\"colorbar\":{\"outlinewidth\":0,\"ticks\":\"\"}}}],\"scatterpolar\":[{\"type\":\"scatterpolar\",\"marker\":{\"colorbar\":{\"outlinewidth\":0,\"ticks\":\"\"}}}],\"histogram\":[{\"marker\":{\"pattern\":{\"fillmode\":\"overlay\",\"size\":10,\"solidity\":0.2}},\"type\":\"histogram\"}],\"scattergl\":[{\"type\":\"scattergl\",\"marker\":{\"colorbar\":{\"outlinewidth\":0,\"ticks\":\"\"}}}],\"scatter3d\":[{\"type\":\"scatter3d\",\"line\":{\"colorbar\":{\"outlinewidth\":0,\"ticks\":\"\"}},\"marker\":{\"colorbar\":{\"outlinewidth\":0,\"ticks\":\"\"}}}],\"scattermapbox\":[{\"type\":\"scattermapbox\",\"marker\":{\"colorbar\":{\"outlinewidth\":0,\"ticks\":\"\"}}}],\"scatterternary\":[{\"type\":\"scatterternary\",\"marker\":{\"colorbar\":{\"outlinewidth\":0,\"ticks\":\"\"}}}],\"scattercarpet\":[{\"type\":\"scattercarpet\",\"marker\":{\"colorbar\":{\"outlinewidth\":0,\"ticks\":\"\"}}}],\"carpet\":[{\"aaxis\":{\"endlinecolor\":\"#2a3f5f\",\"gridcolor\":\"white\",\"linecolor\":\"white\",\"minorgridcolor\":\"white\",\"startlinecolor\":\"#2a3f5f\"},\"baxis\":{\"endlinecolor\":\"#2a3f5f\",\"gridcolor\":\"white\",\"linecolor\":\"white\",\"minorgridcolor\":\"white\",\"startlinecolor\":\"#2a3f5f\"},\"type\":\"carpet\"}],\"table\":[{\"cells\":{\"fill\":{\"color\":\"#EBF0F8\"},\"line\":{\"color\":\"white\"}},\"header\":{\"fill\":{\"color\":\"#C8D4E3\"},\"line\":{\"color\":\"white\"}},\"type\":\"table\"}],\"barpolar\":[{\"marker\":{\"line\":{\"color\":\"#E5ECF6\",\"width\":0.5},\"pattern\":{\"fillmode\":\"overlay\",\"size\":10,\"solidity\":0.2}},\"type\":\"barpolar\"}],\"pie\":[{\"automargin\":true,\"type\":\"pie\"}]},\"layout\":{\"autotypenumbers\":\"strict\",\"colorway\":[\"#636efa\",\"#EF553B\",\"#00cc96\",\"#ab63fa\",\"#FFA15A\",\"#19d3f3\",\"#FF6692\",\"#B6E880\",\"#FF97FF\",\"#FECB52\"],\"font\":{\"color\":\"#2a3f5f\"},\"hovermode\":\"closest\",\"hoverlabel\":{\"align\":\"left\"},\"paper_bgcolor\":\"white\",\"plot_bgcolor\":\"#E5ECF6\",\"polar\":{\"bgcolor\":\"#E5ECF6\",\"angularaxis\":{\"gridcolor\":\"white\",\"linecolor\":\"white\",\"ticks\":\"\"},\"radialaxis\":{\"gridcolor\":\"white\",\"linecolor\":\"white\",\"ticks\":\"\"}},\"ternary\":{\"bgcolor\":\"#E5ECF6\",\"aaxis\":{\"gridcolor\":\"white\",\"linecolor\":\"white\",\"ticks\":\"\"},\"baxis\":{\"gridcolor\":\"white\",\"linecolor\":\"white\",\"ticks\":\"\"},\"caxis\":{\"gridcolor\":\"white\",\"linecolor\":\"white\",\"ticks\":\"\"}},\"coloraxis\":{\"colorbar\":{\"outlinewidth\":0,\"ticks\":\"\"}},\"colorscale\":{\"sequential\":[[0.0,\"#0d0887\"],[0.1111111111111111,\"#46039f\"],[0.2222222222222222,\"#7201a8\"],[0.3333333333333333,\"#9c179e\"],[0.4444444444444444,\"#bd3786\"],[0.5555555555555556,\"#d8576b\"],[0.6666666666666666,\"#ed7953\"],[0.7777777777777778,\"#fb9f3a\"],[0.8888888888888888,\"#fdca26\"],[1.0,\"#f0f921\"]],\"sequentialminus\":[[0.0,\"#0d0887\"],[0.1111111111111111,\"#46039f\"],[0.2222222222222222,\"#7201a8\"],[0.3333333333333333,\"#9c179e\"],[0.4444444444444444,\"#bd3786\"],[0.5555555555555556,\"#d8576b\"],[0.6666666666666666,\"#ed7953\"],[0.7777777777777778,\"#fb9f3a\"],[0.8888888888888888,\"#fdca26\"],[1.0,\"#f0f921\"]],\"diverging\":[[0,\"#8e0152\"],[0.1,\"#c51b7d\"],[0.2,\"#de77ae\"],[0.3,\"#f1b6da\"],[0.4,\"#fde0ef\"],[0.5,\"#f7f7f7\"],[0.6,\"#e6f5d0\"],[0.7,\"#b8e186\"],[0.8,\"#7fbc41\"],[0.9,\"#4d9221\"],[1,\"#276419\"]]},\"xaxis\":{\"gridcolor\":\"white\",\"linecolor\":\"white\",\"ticks\":\"\",\"title\":{\"standoff\":15},\"zerolinecolor\":\"white\",\"automargin\":true,\"zerolinewidth\":2},\"yaxis\":{\"gridcolor\":\"white\",\"linecolor\":\"white\",\"ticks\":\"\",\"title\":{\"standoff\":15},\"zerolinecolor\":\"white\",\"automargin\":true,\"zerolinewidth\":2},\"scene\":{\"xaxis\":{\"backgroundcolor\":\"#E5ECF6\",\"gridcolor\":\"white\",\"linecolor\":\"white\",\"showbackground\":true,\"ticks\":\"\",\"zerolinecolor\":\"white\",\"gridwidth\":2},\"yaxis\":{\"backgroundcolor\":\"#E5ECF6\",\"gridcolor\":\"white\",\"linecolor\":\"white\",\"showbackground\":true,\"ticks\":\"\",\"zerolinecolor\":\"white\",\"gridwidth\":2},\"zaxis\":{\"backgroundcolor\":\"#E5ECF6\",\"gridcolor\":\"white\",\"linecolor\":\"white\",\"showbackground\":true,\"ticks\":\"\",\"zerolinecolor\":\"white\",\"gridwidth\":2}},\"shapedefaults\":{\"line\":{\"color\":\"#2a3f5f\"}},\"annotationdefaults\":{\"arrowcolor\":\"#2a3f5f\",\"arrowhead\":0,\"arrowwidth\":1},\"geo\":{\"bgcolor\":\"white\",\"landcolor\":\"#E5ECF6\",\"subunitcolor\":\"white\",\"showland\":true,\"showlakes\":true,\"lakecolor\":\"white\"},\"title\":{\"x\":0.05},\"mapbox\":{\"style\":\"light\"}}},\"xaxis\":{\"anchor\":\"y\",\"domain\":[0.0,1.0],\"title\":{\"text\":\"count\"}},\"yaxis\":{\"anchor\":\"x\",\"domain\":[0.0,1.0],\"title\":{\"text\":\"job_title\"},\"categoryorder\":\"array\",\"categoryarray\":[\"Data Specialist\",\"Business Data Analyst\",\"BI Data Analyst\",\"AI Scientist\",\"Computer Vision Engineer\",\"Data Analytics Manager\",\"Data Science Consultant\",\"Machine Learning Scientist\",\"Data Manager\",\"ML Engineer\",\"Research Engineer\",\"Applied Scientist\",\"Data Science Manager\",\"Research Scientist\",\"Data Architect\",\"Analytics Engineer\",\"Machine Learning Engineer\",\"Data Analyst\",\"Data Scientist\",\"Data Engineer\"]},\"legend\":{\"title\":{\"text\":\"job_title\"},\"tracegroupgap\":0},\"margin\":{\"t\":100},\"barmode\":\"relative\",\"title\":{\"font\":{\"size\":22},\"text\":\"Distribution of Employee's Top 20 Job Titles\",\"x\":0.48,\"xanchor\":\"center\",\"yanchor\":\"top\"},\"showlegend\":false,\"height\":600},                        {\"responsive\": true}                    ).then(function(){\n",
              "                            \n",
              "var gd = document.getElementById('3f63ae29-86d4-4876-a360-2fdd10dfea61');\n",
              "var x = new MutationObserver(function (mutations, observer) {{\n",
              "        var display = window.getComputedStyle(gd).display;\n",
              "        if (!display || display === 'none') {{\n",
              "            console.log([gd, 'removed!']);\n",
              "            Plotly.purge(gd);\n",
              "            observer.disconnect();\n",
              "        }}\n",
              "}});\n",
              "\n",
              "// Listen for the removal of the full notebook cells\n",
              "var notebookContainer = gd.closest('#notebook-container');\n",
              "if (notebookContainer) {{\n",
              "    x.observe(notebookContainer, {childList: true});\n",
              "}}\n",
              "\n",
              "// Listen for the clearing of the current output cell\n",
              "var outputEl = gd.closest('.output');\n",
              "if (outputEl) {{\n",
              "    x.observe(outputEl, {childList: true});\n",
              "}}\n",
              "\n",
              "                        })                };                            </script>        </div>\n",
              "</body>\n",
              "</html>"
            ]
          },
          "metadata": {}
        }
      ]
    },
    {
      "cell_type": "code",
      "source": [],
      "metadata": {
        "id": "sWDiUIk2TpAN"
      },
      "execution_count": null,
      "outputs": []
    },
    {
      "cell_type": "code",
      "source": [
        "df1 = df.copy()\n"
      ],
      "metadata": {
        "id": "AmlAkj64LyCf"
      },
      "execution_count": 34,
      "outputs": []
    },
    {
      "cell_type": "code",
      "source": [
        "df1.head()"
      ],
      "metadata": {
        "colab": {
          "base_uri": "https://localhost:8080/",
          "height": 374
        },
        "id": "jmDMD02eL2D9",
        "outputId": "f3070803-8dfb-45d9-d405-578cced2c19d"
      },
      "execution_count": 35,
      "outputs": [
        {
          "output_type": "execute_result",
          "data": {
            "text/plain": [
              "   work_year experience_level employment_type                 job_title  \\\n",
              "0       2023               SE              FT  Principal Data Scientist   \n",
              "1       2023               MI              CT               ML Engineer   \n",
              "2       2023               MI              CT               ML Engineer   \n",
              "3       2023               SE              FT            Data Scientist   \n",
              "4       2023               SE              FT            Data Scientist   \n",
              "\n",
              "   salary_in_usd employee_residence remote_ratio company_location company_size  \n",
              "0          85847                 ES       Remote               ES            L  \n",
              "1          30000                 US       Remote               US            S  \n",
              "2          25500                 US       Remote               US            S  \n",
              "3         175000                 CA       Remote               CA            M  \n",
              "4         120000                 CA       Remote               CA            M  "
            ],
            "text/html": [
              "\n",
              "  <div id=\"df-ab63048a-87ef-4967-bbd5-8664a4ec07cd\">\n",
              "    <div class=\"colab-df-container\">\n",
              "      <div>\n",
              "<style scoped>\n",
              "    .dataframe tbody tr th:only-of-type {\n",
              "        vertical-align: middle;\n",
              "    }\n",
              "\n",
              "    .dataframe tbody tr th {\n",
              "        vertical-align: top;\n",
              "    }\n",
              "\n",
              "    .dataframe thead th {\n",
              "        text-align: right;\n",
              "    }\n",
              "</style>\n",
              "<table border=\"1\" class=\"dataframe\">\n",
              "  <thead>\n",
              "    <tr style=\"text-align: right;\">\n",
              "      <th></th>\n",
              "      <th>work_year</th>\n",
              "      <th>experience_level</th>\n",
              "      <th>employment_type</th>\n",
              "      <th>job_title</th>\n",
              "      <th>salary_in_usd</th>\n",
              "      <th>employee_residence</th>\n",
              "      <th>remote_ratio</th>\n",
              "      <th>company_location</th>\n",
              "      <th>company_size</th>\n",
              "    </tr>\n",
              "  </thead>\n",
              "  <tbody>\n",
              "    <tr>\n",
              "      <th>0</th>\n",
              "      <td>2023</td>\n",
              "      <td>SE</td>\n",
              "      <td>FT</td>\n",
              "      <td>Principal Data Scientist</td>\n",
              "      <td>85847</td>\n",
              "      <td>ES</td>\n",
              "      <td>Remote</td>\n",
              "      <td>ES</td>\n",
              "      <td>L</td>\n",
              "    </tr>\n",
              "    <tr>\n",
              "      <th>1</th>\n",
              "      <td>2023</td>\n",
              "      <td>MI</td>\n",
              "      <td>CT</td>\n",
              "      <td>ML Engineer</td>\n",
              "      <td>30000</td>\n",
              "      <td>US</td>\n",
              "      <td>Remote</td>\n",
              "      <td>US</td>\n",
              "      <td>S</td>\n",
              "    </tr>\n",
              "    <tr>\n",
              "      <th>2</th>\n",
              "      <td>2023</td>\n",
              "      <td>MI</td>\n",
              "      <td>CT</td>\n",
              "      <td>ML Engineer</td>\n",
              "      <td>25500</td>\n",
              "      <td>US</td>\n",
              "      <td>Remote</td>\n",
              "      <td>US</td>\n",
              "      <td>S</td>\n",
              "    </tr>\n",
              "    <tr>\n",
              "      <th>3</th>\n",
              "      <td>2023</td>\n",
              "      <td>SE</td>\n",
              "      <td>FT</td>\n",
              "      <td>Data Scientist</td>\n",
              "      <td>175000</td>\n",
              "      <td>CA</td>\n",
              "      <td>Remote</td>\n",
              "      <td>CA</td>\n",
              "      <td>M</td>\n",
              "    </tr>\n",
              "    <tr>\n",
              "      <th>4</th>\n",
              "      <td>2023</td>\n",
              "      <td>SE</td>\n",
              "      <td>FT</td>\n",
              "      <td>Data Scientist</td>\n",
              "      <td>120000</td>\n",
              "      <td>CA</td>\n",
              "      <td>Remote</td>\n",
              "      <td>CA</td>\n",
              "      <td>M</td>\n",
              "    </tr>\n",
              "  </tbody>\n",
              "</table>\n",
              "</div>\n",
              "      <button class=\"colab-df-convert\" onclick=\"convertToInteractive('df-ab63048a-87ef-4967-bbd5-8664a4ec07cd')\"\n",
              "              title=\"Convert this dataframe to an interactive table.\"\n",
              "              style=\"display:none;\">\n",
              "        \n",
              "  <svg xmlns=\"http://www.w3.org/2000/svg\" height=\"24px\"viewBox=\"0 0 24 24\"\n",
              "       width=\"24px\">\n",
              "    <path d=\"M0 0h24v24H0V0z\" fill=\"none\"/>\n",
              "    <path d=\"M18.56 5.44l.94 2.06.94-2.06 2.06-.94-2.06-.94-.94-2.06-.94 2.06-2.06.94zm-11 1L8.5 8.5l.94-2.06 2.06-.94-2.06-.94L8.5 2.5l-.94 2.06-2.06.94zm10 10l.94 2.06.94-2.06 2.06-.94-2.06-.94-.94-2.06-.94 2.06-2.06.94z\"/><path d=\"M17.41 7.96l-1.37-1.37c-.4-.4-.92-.59-1.43-.59-.52 0-1.04.2-1.43.59L10.3 9.45l-7.72 7.72c-.78.78-.78 2.05 0 2.83L4 21.41c.39.39.9.59 1.41.59.51 0 1.02-.2 1.41-.59l7.78-7.78 2.81-2.81c.8-.78.8-2.07 0-2.86zM5.41 20L4 18.59l7.72-7.72 1.47 1.35L5.41 20z\"/>\n",
              "  </svg>\n",
              "      </button>\n",
              "      \n",
              "  <style>\n",
              "    .colab-df-container {\n",
              "      display:flex;\n",
              "      flex-wrap:wrap;\n",
              "      gap: 12px;\n",
              "    }\n",
              "\n",
              "    .colab-df-convert {\n",
              "      background-color: #E8F0FE;\n",
              "      border: none;\n",
              "      border-radius: 50%;\n",
              "      cursor: pointer;\n",
              "      display: none;\n",
              "      fill: #1967D2;\n",
              "      height: 32px;\n",
              "      padding: 0 0 0 0;\n",
              "      width: 32px;\n",
              "    }\n",
              "\n",
              "    .colab-df-convert:hover {\n",
              "      background-color: #E2EBFA;\n",
              "      box-shadow: 0px 1px 2px rgba(60, 64, 67, 0.3), 0px 1px 3px 1px rgba(60, 64, 67, 0.15);\n",
              "      fill: #174EA6;\n",
              "    }\n",
              "\n",
              "    [theme=dark] .colab-df-convert {\n",
              "      background-color: #3B4455;\n",
              "      fill: #D2E3FC;\n",
              "    }\n",
              "\n",
              "    [theme=dark] .colab-df-convert:hover {\n",
              "      background-color: #434B5C;\n",
              "      box-shadow: 0px 1px 3px 1px rgba(0, 0, 0, 0.15);\n",
              "      filter: drop-shadow(0px 1px 2px rgba(0, 0, 0, 0.3));\n",
              "      fill: #FFFFFF;\n",
              "    }\n",
              "  </style>\n",
              "\n",
              "      <script>\n",
              "        const buttonEl =\n",
              "          document.querySelector('#df-ab63048a-87ef-4967-bbd5-8664a4ec07cd button.colab-df-convert');\n",
              "        buttonEl.style.display =\n",
              "          google.colab.kernel.accessAllowed ? 'block' : 'none';\n",
              "\n",
              "        async function convertToInteractive(key) {\n",
              "          const element = document.querySelector('#df-ab63048a-87ef-4967-bbd5-8664a4ec07cd');\n",
              "          const dataTable =\n",
              "            await google.colab.kernel.invokeFunction('convertToInteractive',\n",
              "                                                     [key], {});\n",
              "          if (!dataTable) return;\n",
              "\n",
              "          const docLinkHtml = 'Like what you see? Visit the ' +\n",
              "            '<a target=\"_blank\" href=https://colab.research.google.com/notebooks/data_table.ipynb>data table notebook</a>'\n",
              "            + ' to learn more about interactive tables.';\n",
              "          element.innerHTML = '';\n",
              "          dataTable['output_type'] = 'display_data';\n",
              "          await google.colab.output.renderOutput(dataTable, element);\n",
              "          const docLink = document.createElement('div');\n",
              "          docLink.innerHTML = docLinkHtml;\n",
              "          element.appendChild(docLink);\n",
              "        }\n",
              "      </script>\n",
              "    </div>\n",
              "  </div>\n",
              "  "
            ]
          },
          "metadata": {},
          "execution_count": 35
        }
      ]
    },
    {
      "cell_type": "code",
      "source": [
        "numerical = ['work_year', 'salary_in_usd']\n",
        "categorical = ['experience_level', 'employment_type', 'job_title','employment_type', 'job_title',\n",
        "'employee_residence', 'company_location', 'company_size', 'remote_ratio']"
      ],
      "metadata": {
        "id": "KrSZ--K3MGZc"
      },
      "execution_count": 51,
      "outputs": []
    },
    {
      "cell_type": "code",
      "source": [
        "encoder = OneHotEncoder()\n",
        "categorical_df=pd.DataFrame(encoder.fit_transform(df1[categorical]).toarray())"
      ],
      "metadata": {
        "id": "LxG3fOxuM623"
      },
      "execution_count": 52,
      "outputs": []
    },
    {
      "cell_type": "code",
      "source": [
        "df_new=pd.concat((df1[numerical],categorical_df),axis=1)"
      ],
      "metadata": {
        "id": "UoC14U3JNUCj"
      },
      "execution_count": 53,
      "outputs": []
    },
    {
      "cell_type": "code",
      "source": [
        "df_new.columns=df_new.columns.astype(str)"
      ],
      "metadata": {
        "id": "RynFnpiKNauN"
      },
      "execution_count": 54,
      "outputs": []
    },
    {
      "cell_type": "code",
      "source": [
        "scaler_=StandardScaler()\n",
        "df_new=pd.DataFrame(scaler_.fit_transform(df_new),columns=df_new.columns)"
      ],
      "metadata": {
        "id": "WsqD8deMNfh-"
      },
      "execution_count": 55,
      "outputs": []
    },
    {
      "cell_type": "code",
      "source": [
        "X = df_new.drop(['salary_in_usd'], axis=1)\n",
        "y = df_new['salary_in_usd']"
      ],
      "metadata": {
        "id": "IrlXl3FhNiGg"
      },
      "execution_count": 57,
      "outputs": []
    },
    {
      "cell_type": "code",
      "source": [
        "seed = 100"
      ],
      "metadata": {
        "id": "9jwe1vO8SJym"
      },
      "execution_count": 66,
      "outputs": []
    },
    {
      "cell_type": "code",
      "source": [
        "X_train, X_test, y_train, y_test = train_test_split(X, y, test_size=0.2, random_state=seed)"
      ],
      "metadata": {
        "id": "beEeWYAQOnlc"
      },
      "execution_count": 67,
      "outputs": []
    },
    {
      "cell_type": "code",
      "source": [
        "model=RandomForestRegressor()\n",
        "model.fit(X_train,y_train)\n",
        "pred=model.predict(X_test)\n",
        "score=r2_score(y_test,pred)\n",
        "err=mean_squared_error(y_test,pred)\n",
        "rmse = sqrt(mean_squared_error(y_test, pred))\n",
        "\n",
        "\n",
        "print('The value of r_2 score is:{}'.format(score))\n",
        "print('The value of mean_squared_error comes out to be:{}'.format(err))\n",
        "print('The value of root mean_squared_error comes out to be:{}'.format(rmse))"
      ],
      "metadata": {
        "colab": {
          "base_uri": "https://localhost:8080/"
        },
        "id": "HsGwbFJyPv2e",
        "outputId": "46c261c2-98bd-4970-c5c2-7144b5dba711"
      },
      "execution_count": 62,
      "outputs": [
        {
          "output_type": "stream",
          "name": "stdout",
          "text": [
            "The value of r_2 score is:0.4263928098547537\n",
            "The value of mean_squared_error comes out to be:0.5849451075957743\n",
            "The value of root mean_squared_error comes out to be:0.7648170419098769\n"
          ]
        }
      ]
    },
    {
      "cell_type": "code",
      "source": [
        "X_train.shape"
      ],
      "metadata": {
        "colab": {
          "base_uri": "https://localhost:8080/"
        },
        "id": "PkUmht_ATOyH",
        "outputId": "23f9de25-c81d-438c-a62a-b53daee9df03"
      },
      "execution_count": 75,
      "outputs": [
        {
          "output_type": "execute_result",
          "data": {
            "text/plain": [
              "(3004, 355)"
            ]
          },
          "metadata": {},
          "execution_count": 75
        }
      ]
    },
    {
      "cell_type": "code",
      "source": [
        "def model1():\n",
        "  model1 = models.Sequential()\n",
        "  model1.add(layers.Dense(50, activation='relu', input_shape=X_train.shape[1:]))\n",
        "  model1.add(layers.Dense(100, activation='relu'))\n",
        "  model1.add(layers.Dense(100, activation='relu'))\n",
        "  model1.add(layers.Dense(80, activation='relu'))\n",
        "  model1.add(layers.Dense(50, activation='relu'))\n",
        "  model1.add(layers.Dense(1, activation='relu'))\n",
        "  model1.compile(optimizer='sgd', loss='mean_squared_error')\n",
        "  return model1"
      ],
      "metadata": {
        "id": "r7-jf5CuWdFi"
      },
      "execution_count": 89,
      "outputs": []
    },
    {
      "cell_type": "code",
      "source": [
        "model1 = model1()"
      ],
      "metadata": {
        "id": "YE2xL1K7XCzt"
      },
      "execution_count": 90,
      "outputs": []
    },
    {
      "cell_type": "code",
      "source": [
        "model1.summary()"
      ],
      "metadata": {
        "colab": {
          "base_uri": "https://localhost:8080/"
        },
        "id": "NcKv8nYvXIZi",
        "outputId": "3698b9fb-199e-4013-80e6-1762e9aa26c7"
      },
      "execution_count": 91,
      "outputs": [
        {
          "output_type": "stream",
          "name": "stdout",
          "text": [
            "Model: \"sequential_3\"\n",
            "_________________________________________________________________\n",
            " Layer (type)                Output Shape              Param #   \n",
            "=================================================================\n",
            " dense_18 (Dense)            (None, 50)                17800     \n",
            "                                                                 \n",
            " dense_19 (Dense)            (None, 100)               5100      \n",
            "                                                                 \n",
            " dense_20 (Dense)            (None, 100)               10100     \n",
            "                                                                 \n",
            " dense_21 (Dense)            (None, 80)                8080      \n",
            "                                                                 \n",
            " dense_22 (Dense)            (None, 50)                4050      \n",
            "                                                                 \n",
            " dense_23 (Dense)            (None, 1)                 51        \n",
            "                                                                 \n",
            "=================================================================\n",
            "Total params: 45,181\n",
            "Trainable params: 45,181\n",
            "Non-trainable params: 0\n",
            "_________________________________________________________________\n"
          ]
        }
      ]
    },
    {
      "cell_type": "code",
      "source": [
        "history = model1.fit(X_train, y_train, epochs=20, validation_data=(X_test, y_test))"
      ],
      "metadata": {
        "colab": {
          "base_uri": "https://localhost:8080/"
        },
        "id": "FlLqc7GWXQKq",
        "outputId": "0a54393f-1ae9-4841-f603-3ee2977ba1df"
      },
      "execution_count": 93,
      "outputs": [
        {
          "output_type": "stream",
          "name": "stdout",
          "text": [
            "Epoch 1/20\n",
            "94/94 [==============================] - 0s 4ms/step - loss: 0.7916 - val_loss: 0.8566\n",
            "Epoch 2/20\n",
            "94/94 [==============================] - 0s 4ms/step - loss: 0.7911 - val_loss: 0.8545\n",
            "Epoch 3/20\n",
            "94/94 [==============================] - 0s 4ms/step - loss: 0.7921 - val_loss: 0.8582\n",
            "Epoch 4/20\n",
            "94/94 [==============================] - 0s 3ms/step - loss: 0.7916 - val_loss: 0.8628\n",
            "Epoch 5/20\n",
            "94/94 [==============================] - 0s 3ms/step - loss: 0.7927 - val_loss: 0.8553\n",
            "Epoch 6/20\n",
            "94/94 [==============================] - 0s 3ms/step - loss: 0.7909 - val_loss: 0.8570\n",
            "Epoch 7/20\n",
            "94/94 [==============================] - 0s 4ms/step - loss: 0.7915 - val_loss: 0.8578\n",
            "Epoch 8/20\n",
            "94/94 [==============================] - 0s 3ms/step - loss: 0.7917 - val_loss: 0.8531\n",
            "Epoch 9/20\n",
            "94/94 [==============================] - 0s 4ms/step - loss: 0.7918 - val_loss: 0.8567\n",
            "Epoch 10/20\n",
            "94/94 [==============================] - 0s 2ms/step - loss: 0.7912 - val_loss: 0.8587\n",
            "Epoch 11/20\n",
            "94/94 [==============================] - 0s 2ms/step - loss: 0.7911 - val_loss: 0.8620\n",
            "Epoch 12/20\n",
            "94/94 [==============================] - 0s 2ms/step - loss: 0.7910 - val_loss: 0.8582\n",
            "Epoch 13/20\n",
            "94/94 [==============================] - 0s 2ms/step - loss: 0.7907 - val_loss: 0.8564\n",
            "Epoch 14/20\n",
            "94/94 [==============================] - 0s 2ms/step - loss: 0.7907 - val_loss: 0.8619\n",
            "Epoch 15/20\n",
            "94/94 [==============================] - 0s 2ms/step - loss: 0.7915 - val_loss: 0.8588\n",
            "Epoch 16/20\n",
            "94/94 [==============================] - 0s 2ms/step - loss: 0.7899 - val_loss: 0.8579\n",
            "Epoch 17/20\n",
            "94/94 [==============================] - 0s 2ms/step - loss: 0.7925 - val_loss: 0.8616\n",
            "Epoch 18/20\n",
            "94/94 [==============================] - 0s 2ms/step - loss: 0.7897 - val_loss: 0.8614\n",
            "Epoch 19/20\n",
            "94/94 [==============================] - 0s 2ms/step - loss: 0.7907 - val_loss: 0.8564\n",
            "Epoch 20/20\n",
            "94/94 [==============================] - 0s 2ms/step - loss: 0.7904 - val_loss: 0.8557\n"
          ]
        }
      ]
    },
    {
      "cell_type": "code",
      "source": [
        "model1.evaluate(X_test, y_test)"
      ],
      "metadata": {
        "colab": {
          "base_uri": "https://localhost:8080/"
        },
        "id": "rQw25U_uXazv",
        "outputId": "23fad458-967d-4cea-b59c-0033ac13d577"
      },
      "execution_count": 94,
      "outputs": [
        {
          "output_type": "stream",
          "name": "stdout",
          "text": [
            "24/24 [==============================] - 0s 1ms/step - loss: 0.8557\n"
          ]
        },
        {
          "output_type": "execute_result",
          "data": {
            "text/plain": [
              "0.8556683659553528"
            ]
          },
          "metadata": {},
          "execution_count": 94
        }
      ]
    },
    {
      "cell_type": "code",
      "source": [
        "plt.plot(history.history['loss'], label='Training loss')\n",
        "plt.plot(history.history['val_loss'], label='Validation loss')\n",
        "plt.title('Loss function')\n",
        "plt.xlabel('Epoch')\n",
        "plt.ylabel('Loss')\n",
        "plt.legend()\n",
        "plt.show()"
      ],
      "metadata": {
        "colab": {
          "base_uri": "https://localhost:8080/",
          "height": 472
        },
        "id": "JGvOSGVUar6D",
        "outputId": "5648d32f-d220-4122-c5f2-f9a043b0c000"
      },
      "execution_count": 95,
      "outputs": [
        {
          "output_type": "display_data",
          "data": {
            "text/plain": [
              "<Figure size 640x480 with 1 Axes>"
            ],
            "image/png": "[encoded data removed]"
          },
          "metadata": {}
        }
      ]
    }
  ]
}